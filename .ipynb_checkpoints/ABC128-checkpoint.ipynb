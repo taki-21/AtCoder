{
 "cells": [
  {
   "cell_type": "markdown",
   "id": "decimal-photograph",
   "metadata": {},
   "source": [
    "### A - Apple Pie"
   ]
  },
  {
   "cell_type": "code",
   "execution_count": 5,
   "id": "naughty-longitude",
   "metadata": {},
   "outputs": [
    {
     "name": "stdin",
     "output_type": "stream",
     "text": [
      " 32 21\n"
     ]
    }
   ],
   "source": [
    "A, P = map(int, input().split())"
   ]
  },
  {
   "cell_type": "code",
   "execution_count": 6,
   "id": "harmful-sunrise",
   "metadata": {},
   "outputs": [
    {
     "name": "stdout",
     "output_type": "stream",
     "text": [
      "58\n"
     ]
    }
   ],
   "source": [
    "ans = (A * 3 + P) // 2\n",
    "print(ans)"
   ]
  },
  {
   "cell_type": "markdown",
   "id": "sacred-mouse",
   "metadata": {},
   "source": [
    "### B - Guidebook"
   ]
  },
  {
   "cell_type": "code",
   "execution_count": 8,
   "id": "electronic-sauce",
   "metadata": {},
   "outputs": [
    {
     "name": "stdin",
     "output_type": "stream",
     "text": [
      " 6\n"
     ]
    }
   ],
   "source": [
    "N = int(input())"
   ]
  },
  {
   "cell_type": "code",
   "execution_count": 13,
   "id": "adequate-yemen",
   "metadata": {},
   "outputs": [
    {
     "name": "stdin",
     "output_type": "stream",
     "text": [
      " khabarovsk 20\n",
      " moscow 10\n",
      " kazan 50\n",
      " kazan 35\n",
      " moscow 60\n",
      " khabarovsk 40\n"
     ]
    }
   ],
   "source": [
    "restaurant_list = [input().split() for _ in range(N)]"
   ]
  },
  {
   "cell_type": "code",
   "execution_count": 14,
   "id": "ready-anatomy",
   "metadata": {},
   "outputs": [
    {
     "data": {
      "text/plain": [
       "[['khabarovsk', '20'],\n",
       " ['moscow', '10'],\n",
       " ['kazan', '50'],\n",
       " ['kazan', '35'],\n",
       " ['moscow', '60'],\n",
       " ['khabarovsk', '40']]"
      ]
     },
     "execution_count": 14,
     "metadata": {},
     "output_type": "execute_result"
    }
   ],
   "source": [
    "restaurant_list"
   ]
  },
  {
   "cell_type": "code",
   "execution_count": 25,
   "id": "south-camping",
   "metadata": {},
   "outputs": [
    {
     "data": {
      "text/plain": [
       "[['kazan', '35'],\n",
       " ['kazan', '50'],\n",
       " ['khabarovsk', '20'],\n",
       " ['khabarovsk', '40'],\n",
       " ['moscow', '10'],\n",
       " ['moscow', '60']]"
      ]
     },
     "execution_count": 25,
     "metadata": {},
     "output_type": "execute_result"
    }
   ],
   "source": [
    "sorted(restaurant_list)"
   ]
  },
  {
   "cell_type": "code",
   "execution_count": 22,
   "id": "czech-bouquet",
   "metadata": {},
   "outputs": [],
   "source": [
    "rank = sorted(restaurant_list, key=lambda x:)"
   ]
  },
  {
   "cell_type": "code",
   "execution_count": 23,
   "id": "present-orange",
   "metadata": {},
   "outputs": [
    {
     "data": {
      "text/plain": [
       "False"
      ]
     },
     "execution_count": 23,
     "metadata": {},
     "output_type": "execute_result"
    }
   ],
   "source": [
    "s1 > s2"
   ]
  },
  {
   "cell_type": "code",
   "execution_count": 26,
   "id": "interpreted-drain",
   "metadata": {},
   "outputs": [
    {
     "data": {
      "text/plain": [
       "'aiueo'"
      ]
     },
     "execution_count": 26,
     "metadata": {},
     "output_type": "execute_result"
    }
   ],
   "source": [
    "a = 'aiueo'\n",
    "a.strip()"
   ]
  },
  {
   "cell_type": "code",
   "execution_count": 27,
   "id": "mineral-medium",
   "metadata": {},
   "outputs": [
    {
     "data": {
      "text/plain": [
       "'aiueo'"
      ]
     },
     "execution_count": 27,
     "metadata": {},
     "output_type": "execute_result"
    }
   ],
   "source": [
    "a"
   ]
  },
  {
   "cell_type": "code",
   "execution_count": null,
   "id": "homeless-myanmar",
   "metadata": {},
   "outputs": [],
   "source": []
  }
 ],
 "metadata": {
  "kernelspec": {
   "display_name": "Python 3",
   "language": "python",
   "name": "python3"
  },
  "language_info": {
   "codemirror_mode": {
    "name": "ipython",
    "version": 3
   },
   "file_extension": ".py",
   "mimetype": "text/x-python",
   "name": "python",
   "nbconvert_exporter": "python",
   "pygments_lexer": "ipython3",
   "version": "3.8.8"
  }
 },
 "nbformat": 4,
 "nbformat_minor": 5
}
