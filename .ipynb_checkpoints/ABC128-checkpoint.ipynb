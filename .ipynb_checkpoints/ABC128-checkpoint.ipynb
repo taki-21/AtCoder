{
 "cells": [
  {
   "cell_type": "markdown",
   "id": "angry-hepatitis",
   "metadata": {},
   "source": [
    "### A - Apple Pie"
   ]
  },
  {
   "cell_type": "code",
   "execution_count": 5,
   "id": "recognized-polymer",
   "metadata": {},
   "outputs": [
    {
     "name": "stdin",
     "output_type": "stream",
     "text": [
      " 32 21\n"
     ]
    }
   ],
   "source": [
    "A, P = map(int, input().split())"
   ]
  },
  {
   "cell_type": "code",
   "execution_count": 6,
   "id": "unsigned-chuck",
   "metadata": {},
   "outputs": [
    {
     "name": "stdout",
     "output_type": "stream",
     "text": [
      "58\n"
     ]
    }
   ],
   "source": [
    "ans = (A * 3 + P) // 2\n",
    "print(ans)"
   ]
  },
  {
   "cell_type": "markdown",
   "id": "heard-azerbaijan",
   "metadata": {},
   "source": [
    "### B - Guidebook"
   ]
  },
  {
   "cell_type": "code",
   "execution_count": 2,
   "id": "curious-finance",
   "metadata": {},
   "outputs": [
    {
     "name": "stdin",
     "output_type": "stream",
     "text": [
      " 6\n"
     ]
    }
   ],
   "source": [
    "N = int(input())"
   ]
  },
  {
   "cell_type": "code",
   "execution_count": 3,
   "id": "statutory-holocaust",
   "metadata": {},
   "outputs": [
    {
     "name": "stdin",
     "output_type": "stream",
     "text": [
      " khabarovsk 20\n",
      " moscow 10\n",
      " kazan 50\n",
      " kazan 35\n",
      " moscow 60\n",
      " khabarovsk 40\n"
     ]
    }
   ],
   "source": [
    "restaurant_list = [input().split() for _ in range(N)]"
   ]
  },
  {
   "cell_type": "code",
   "execution_count": 4,
   "id": "comparative-bermuda",
   "metadata": {},
   "outputs": [
    {
     "data": {
      "text/plain": [
       "[['khabarovsk', '20'],\n",
       " ['moscow', '10'],\n",
       " ['kazan', '50'],\n",
       " ['kazan', '35'],\n",
       " ['moscow', '60'],\n",
       " ['khabarovsk', '40']]"
      ]
     },
     "execution_count": 4,
     "metadata": {},
     "output_type": "execute_result"
    }
   ],
   "source": [
    "restaurant_list"
   ]
  },
  {
   "cell_type": "code",
   "execution_count": 8,
   "id": "appointed-turtle",
   "metadata": {},
   "outputs": [
    {
     "data": {
      "text/plain": [
       "[['kazan', '50'],\n",
       " ['kazan', '35'],\n",
       " ['khabarovsk', '40'],\n",
       " ['khabarovsk', '20'],\n",
       " ['moscow', '60'],\n",
       " ['moscow', '10']]"
      ]
     },
     "execution_count": 8,
     "metadata": {},
     "output_type": "execute_result"
    }
   ],
   "source": [
    "sorted_restaurant_list = sorted(restaurant_list, key=lambda x: (x[0], -int(x[1])))\n",
    "sorted_restaurant_list"
   ]
  },
  {
   "cell_type": "code",
   "execution_count": 11,
   "id": "focused-croatia",
   "metadata": {},
   "outputs": [
    {
     "name": "stdout",
     "output_type": "stream",
     "text": [
      "3\n",
      "4\n",
      "6\n",
      "1\n",
      "5\n",
      "2\n"
     ]
    }
   ],
   "source": [
    "for a in sorted_restaurant_list:\n",
    "    print(restaurant_list.index(a)+1)"
   ]
  },
  {
   "cell_type": "markdown",
   "id": "flying-favor",
   "metadata": {},
   "source": [
    "### C - Switches"
   ]
  },
  {
   "cell_type": "code",
   "execution_count": 12,
   "id": "chinese-russia",
   "metadata": {},
   "outputs": [
    {
     "name": "stdin",
     "output_type": "stream",
     "text": [
      " 2 2\n"
     ]
    }
   ],
   "source": []
  },
  {
   "cell_type": "code",
   "execution_count": null,
   "id": "confirmed-chest",
   "metadata": {},
   "outputs": [],
   "source": []
  }
 ],
 "metadata": {
  "kernelspec": {
   "display_name": "Python 3",
   "language": "python",
   "name": "python3"
  },
  "language_info": {
   "codemirror_mode": {
    "name": "ipython",
    "version": 3
   },
   "file_extension": ".py",
   "mimetype": "text/x-python",
   "name": "python",
   "nbconvert_exporter": "python",
   "pygments_lexer": "ipython3",
   "version": "3.8.8"
  }
 },
 "nbformat": 4,
 "nbformat_minor": 5
}
