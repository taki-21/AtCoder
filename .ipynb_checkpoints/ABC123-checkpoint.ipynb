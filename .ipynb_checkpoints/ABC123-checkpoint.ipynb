{
 "cells": [
  {
   "cell_type": "markdown",
   "id": "protective-resource",
   "metadata": {},
   "source": [
    "### A - Five Antenna"
   ]
  },
  {
   "cell_type": "code",
   "execution_count": 84,
   "id": "simple-schema",
   "metadata": {},
   "outputs": [
    {
     "name": "stdin",
     "output_type": "stream",
     "text": [
      " 1\n",
      " 2\n",
      " 3\n",
      " 4\n",
      " 5\n",
      " 6\n"
     ]
    }
   ],
   "source": [
    "a, b, c, d, e = [int(input()) for _ in range(5)]\n",
    "n = int(input())"
   ]
  },
  {
   "cell_type": "code",
   "execution_count": null,
   "id": "brilliant-public",
   "metadata": {},
   "outputs": [],
   "source": [
    "max_coor = max(a, b, c, d, e)\n",
    "min_coor = min(a, b, c, d, e)"
   ]
  },
  {
   "cell_type": "code",
   "execution_count": 7,
   "id": "centered-powell",
   "metadata": {},
   "outputs": [
    {
     "name": "stdout",
     "output_type": "stream",
     "text": [
      "Yay!\n"
     ]
    }
   ],
   "source": [
    "if max_coor - min_coor <= n:\n",
    "    print('Yay!')\n",
    "else:\n",
    "    print(':(')"
   ]
  },
  {
   "cell_type": "markdown",
   "id": "parliamentary-brunei",
   "metadata": {},
   "source": [
    "### B - Five Dishes"
   ]
  },
  {
   "cell_type": "code",
   "execution_count": null,
   "id": "subject-combine",
   "metadata": {},
   "outputs": [],
   "source": [
    "l = [int(input()) for _ in range(5)]\n",
    " \n",
    "l_1 = list(filter(lambda x: x != 0, [x%10 for x in l]))\n",
    "if l_1:\n",
    "    last_1 = min(l_1)\n",
    "else:\n",
    "    last_1 = 10\n",
    "    \n",
    "tenfold = sum([x for x in l if x%10 == 0])\n",
    " \n",
    "other = sum([(x//10+1)*10 for x in l if (x%10 != 0)])\n",
    " \n",
    "result = last_1 + tenfold + other - 10\n",
    "print(result)"
   ]
  }
 ],
 "metadata": {
  "kernelspec": {
   "display_name": "Python 3",
   "language": "python",
   "name": "python3"
  },
  "language_info": {
   "codemirror_mode": {
    "name": "ipython",
    "version": 3
   },
   "file_extension": ".py",
   "mimetype": "text/x-python",
   "name": "python",
   "nbconvert_exporter": "python",
   "pygments_lexer": "ipython3",
   "version": "3.7.9"
  }
 },
 "nbformat": 4,
 "nbformat_minor": 5
}
