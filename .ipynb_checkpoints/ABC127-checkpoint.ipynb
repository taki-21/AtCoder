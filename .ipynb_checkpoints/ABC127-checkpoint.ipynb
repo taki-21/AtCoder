{
 "cells": [
  {
   "cell_type": "markdown",
   "id": "concrete-proceeding",
   "metadata": {},
   "source": [
    "### A - Ferris Wheel"
   ]
  },
  {
   "cell_type": "code",
   "execution_count": 6,
   "id": "quiet-reduction",
   "metadata": {},
   "outputs": [
    {
     "name": "stdin",
     "output_type": "stream",
     "text": [
      " 0 100\n"
     ]
    }
   ],
   "source": [
    "A, B = map(int, input().split())"
   ]
  },
  {
   "cell_type": "code",
   "execution_count": 7,
   "id": "sticky-feeding",
   "metadata": {},
   "outputs": [
    {
     "name": "stdout",
     "output_type": "stream",
     "text": [
      "0\n"
     ]
    }
   ],
   "source": [
    "if A >= 13:\n",
    "    ans = B\n",
    "elif 6 <= A <= 12:\n",
    "    ans = int(B/2)\n",
    "else:\n",
    "    ans = 0\n",
    "print(ans)"
   ]
  },
  {
   "cell_type": "markdown",
   "id": "hydraulic-thousand",
   "metadata": {},
   "source": [
    "### B - Algae"
   ]
  },
  {
   "cell_type": "code",
   "execution_count": 10,
   "id": "driving-jefferson",
   "metadata": {},
   "outputs": [
    {
     "name": "stdin",
     "output_type": "stream",
     "text": [
      " 4 40 60\n"
     ]
    }
   ],
   "source": [
    "r, D, x2000 = map(int, input().split())"
   ]
  },
  {
   "cell_type": "code",
   "execution_count": 11,
   "id": "biblical-african",
   "metadata": {},
   "outputs": [
    {
     "name": "stdout",
     "output_type": "stream",
     "text": [
      "200\n",
      "760\n",
      "3000\n",
      "11960\n",
      "47800\n",
      "191160\n",
      "764600\n",
      "3058360\n",
      "12233400\n",
      "48933560\n"
     ]
    }
   ],
   "source": [
    "ans = x2000\n",
    "for _ in range(1, 11):\n",
    "    ans = r * ans - D\n",
    "    print(ans) "
   ]
  },
  {
   "cell_type": "markdown",
   "id": "composed-allowance",
   "metadata": {},
   "source": [
    "### C - Prison"
   ]
  },
  {
   "cell_type": "code",
   "execution_count": 2,
   "id": "exotic-discipline",
   "metadata": {},
   "outputs": [
    {
     "name": "stdin",
     "output_type": "stream",
     "text": [
      " 4 2\n"
     ]
    }
   ],
   "source": [
    "# n, m = map(int, input().split())"
   ]
  },
  {
   "cell_type": "code",
   "execution_count": 9,
   "id": "inappropriate-candidate",
   "metadata": {},
   "outputs": [
    {
     "name": "stdin",
     "output_type": "stream",
     "text": [
      " 10 3\n",
      " 3 6\n",
      " 5 7\n",
      " 6 9\n"
     ]
    },
    {
     "name": "stdout",
     "output_type": "stream",
     "text": [
      "1\n"
     ]
    }
   ],
   "source": [
    "n, m = map(int, input().split())\n",
    "L, R = [], []\n",
    "for _ in range(m):\n",
    "    l, r = map(int, input().split())\n",
    "    L.append(l)\n",
    "    R.append(r)\n",
    "\n",
    "l_max = max(L)\n",
    "r_min = min(R)\n",
    "\n",
    "ans = max(0, r_min - l_max + 1)\n",
    "print(ans)"
   ]
  },
  {
   "cell_type": "code",
   "execution_count": null,
   "id": "latin-eugene",
   "metadata": {},
   "outputs": [],
   "source": []
  }
 ],
 "metadata": {
  "kernelspec": {
   "display_name": "Python 3",
   "language": "python",
   "name": "python3"
  },
  "language_info": {
   "codemirror_mode": {
    "name": "ipython",
    "version": 3
   },
   "file_extension": ".py",
   "mimetype": "text/x-python",
   "name": "python",
   "nbconvert_exporter": "python",
   "pygments_lexer": "ipython3",
   "version": "3.8.8"
  }
 },
 "nbformat": 4,
 "nbformat_minor": 5
}
