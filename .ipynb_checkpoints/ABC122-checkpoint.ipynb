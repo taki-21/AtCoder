{
 "cells": [
  {
   "cell_type": "markdown",
   "id": "hungarian-practice",
   "metadata": {},
   "source": [
    "### A - Double Helix"
   ]
  },
  {
   "cell_type": "code",
   "execution_count": 1,
   "id": "otherwise-removal",
   "metadata": {},
   "outputs": [
    {
     "name": "stdin",
     "output_type": "stream",
     "text": [
      " A\n"
     ]
    }
   ],
   "source": [
    "b = input()"
   ]
  },
  {
   "cell_type": "markdown",
   "id": "confident-dryer",
   "metadata": {},
   "source": [
    "dic = {'A': 'T', 'T': 'A', 'C': 'G', 'G': 'C'}"
   ]
  },
  {
   "cell_type": "code",
   "execution_count": null,
   "id": "thorough-double",
   "metadata": {},
   "outputs": [],
   "source": [
    "result = dic[b]\n",
    "result"
   ]
  },
  {
   "cell_type": "markdown",
   "id": "direct-fifth",
   "metadata": {},
   "source": [
    "### B - ATCoder"
   ]
  },
  {
   "cell_type": "code",
   "execution_count": 33,
   "id": "continent-hardware",
   "metadata": {},
   "outputs": [
    {
     "name": "stdin",
     "output_type": "stream",
     "text": [
      " AKJFDYERNVNCACAAAAAAAT\n"
     ]
    }
   ],
   "source": [
    "s = input()"
   ]
  },
  {
   "cell_type": "code",
   "execution_count": 34,
   "id": "excess-cause",
   "metadata": {},
   "outputs": [
    {
     "data": {
      "text/plain": [
       "'AKJFDYERNVNCACAAAAAAAT'"
      ]
     },
     "execution_count": 34,
     "metadata": {},
     "output_type": "execute_result"
    }
   ],
   "source": [
    "s"
   ]
  },
  {
   "cell_type": "code",
   "execution_count": 35,
   "id": "configured-scanner",
   "metadata": {},
   "outputs": [
    {
     "name": "stdout",
     "output_type": "stream",
     "text": [
      "12\n"
     ]
    }
   ],
   "source": [
    "str_len = 0\n",
    "max_len = 0\n",
    "for i in range(len(s)):\n",
    "    if (s[i] == 'A') or (s[i] == 'C') or (s[i] == 'G') or (s[i] == 'T'):\n",
    "        str_len += 1\n",
    "        if (str_len > max_len):\n",
    "            max_len = str_len\n",
    "    else:\n",
    "        str_len = 0\n",
    "\n",
    "print(max_len)"
   ]
  },
  {
   "cell_type": "code",
   "execution_count": null,
   "id": "signed-tower",
   "metadata": {},
   "outputs": [],
   "source": []
  },
  {
   "cell_type": "code",
   "execution_count": 30,
   "id": "egyptian-mouse",
   "metadata": {},
   "outputs": [
    {
     "data": {
      "text/plain": [
       "['',\n",
       " 'ATCODER',\n",
       " 'A',\n",
       " 'TCODER',\n",
       " 'AT',\n",
       " 'CODER',\n",
       " 'ATC',\n",
       " 'ODER',\n",
       " 'ATCO',\n",
       " 'DER',\n",
       " 'ATCOD',\n",
       " 'ER',\n",
       " 'ATCODE',\n",
       " 'R']"
      ]
     },
     "execution_count": 30,
     "metadata": {},
     "output_type": "execute_result"
    }
   ],
   "source": [
    "string_list"
   ]
  },
  {
   "cell_type": "code",
   "execution_count": null,
   "id": "fantastic-tourism",
   "metadata": {},
   "outputs": [],
   "source": [
    "max_len = 0\n",
    "for string in string_list:\n",
    "    for s in string:\n",
    "        if (s != 'A') or (s != 'C') or (s != 'G') or (s != 'T'):\n",
    "            max_len += 1\n",
    "        else:\n",
    "            max_len = 0\n",
    "            \n",
    "        \n",
    "     \n",
    "            "
   ]
  }
 ],
 "metadata": {
  "kernelspec": {
   "display_name": "Python 3",
   "language": "python",
   "name": "python3"
  },
  "language_info": {
   "codemirror_mode": {
    "name": "ipython",
    "version": 3
   },
   "file_extension": ".py",
   "mimetype": "text/x-python",
   "name": "python",
   "nbconvert_exporter": "python",
   "pygments_lexer": "ipython3",
   "version": "3.7.9"
  }
 },
 "nbformat": 4,
 "nbformat_minor": 5
}
