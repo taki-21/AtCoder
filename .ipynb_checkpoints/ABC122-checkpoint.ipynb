{
 "cells": [
  {
   "cell_type": "markdown",
   "id": "biblical-greece",
   "metadata": {},
   "source": [
    "### A - Double Helix"
   ]
  },
  {
   "cell_type": "code",
   "execution_count": 1,
   "id": "designing-accessory",
   "metadata": {},
   "outputs": [
    {
     "name": "stdin",
     "output_type": "stream",
     "text": [
      " A\n"
     ]
    }
   ],
   "source": [
    "b = input()"
   ]
  },
  {
   "cell_type": "markdown",
   "id": "norman-appointment",
   "metadata": {},
   "source": [
    "dic = {'A': 'T', 'T': 'A', 'C': 'G', 'G': 'C'}"
   ]
  },
  {
   "cell_type": "code",
   "execution_count": null,
   "id": "tough-offset",
   "metadata": {},
   "outputs": [],
   "source": [
    "result = dic[b]\n",
    "result"
   ]
  },
  {
   "cell_type": "markdown",
   "id": "solved-overview",
   "metadata": {},
   "source": [
    "### B - ATCoder"
   ]
  },
  {
   "cell_type": "code",
   "execution_count": 33,
   "id": "flush-princess",
   "metadata": {},
   "outputs": [
    {
     "name": "stdin",
     "output_type": "stream",
     "text": [
      " AKJFDYERNVNCACAAAAAAAT\n"
     ]
    }
   ],
   "source": [
    "s = input()"
   ]
  },
  {
   "cell_type": "code",
   "execution_count": 34,
   "id": "lonely-warren",
   "metadata": {},
   "outputs": [
    {
     "data": {
      "text/plain": [
       "'AKJFDYERNVNCACAAAAAAAT'"
      ]
     },
     "execution_count": 34,
     "metadata": {},
     "output_type": "execute_result"
    }
   ],
   "source": [
    "s"
   ]
  },
  {
   "cell_type": "code",
   "execution_count": 37,
   "id": "lined-collective",
   "metadata": {},
   "outputs": [
    {
     "name": "stdout",
     "output_type": "stream",
     "text": [
      "11\n"
     ]
    }
   ],
   "source": [
    "str_len = 0\n",
    "max_len = 0\n",
    "for i in range(len(s)):\n",
    "    if (s[i] == 'A') or (s[i] == 'C') or (s[i] == 'G') or (s[i] == 'T'):\n",
    "        str_len += 1\n",
    "        if (str_len > max_len):\n",
    "            max_len = str_len\n",
    "    else:\n",
    "        str_len = 0\n",
    "\n",
    "print(max_len)"
   ]
  },
  {
   "cell_type": "code",
   "execution_count": 1,
   "id": "studied-pearl",
   "metadata": {},
   "outputs": [
    {
     "name": "stdin",
     "output_type": "stream",
     "text": [
      " ASDFERTCTFGTYHGTACDSAA\n"
     ]
    }
   ],
   "source": [
    "s = input()"
   ]
  },
  {
   "cell_type": "code",
   "execution_count": 4,
   "id": "abandoned-giant",
   "metadata": {},
   "outputs": [
    {
     "data": {
      "text/plain": [
       "22"
      ]
     },
     "execution_count": 4,
     "metadata": {},
     "output_type": "execute_result"
    }
   ],
   "source": [
    "n = len(s)\n",
    "n"
   ]
  },
  {
   "cell_type": "code",
   "execution_count": null,
   "id": "scheduled-vienna",
   "metadata": {},
   "outputs": [],
   "source": [
    "ans = 0\n",
    "for i in range(n):\n",
    "    for j in range(i, n):\n",
    "        if all('ACGT'.count(c) == 1 for c in s[i: j+1])"
   ]
  },
  {
   "cell_type": "code",
   "execution_count": null,
   "id": "dimensional-single",
   "metadata": {},
   "outputs": [],
   "source": []
  },
  {
   "cell_type": "code",
   "execution_count": 14,
   "id": "another-garage",
   "metadata": {},
   "outputs": [],
   "source": [
    "import collections"
   ]
  },
  {
   "cell_type": "code",
   "execution_count": 22,
   "id": "referenced-conclusion",
   "metadata": {},
   "outputs": [
    {
     "data": {
      "text/plain": [
       "1"
      ]
     },
     "execution_count": 22,
     "metadata": {},
     "output_type": "execute_result"
    }
   ],
   "source": [
    "l = ['a', 'a', 'a', 'a', 'b', 'c', 'c']\n",
    "l.count('b')"
   ]
  },
  {
   "cell_type": "code",
   "execution_count": 27,
   "id": "suspected-abuse",
   "metadata": {},
   "outputs": [
    {
     "name": "stdout",
     "output_type": "stream",
     "text": [
      "<class 'collections.Counter'>\n"
     ]
    }
   ],
   "source": [
    "c = collections.Counter(l)\n",
    "print(type(c))"
   ]
  },
  {
   "cell_type": "code",
   "execution_count": 31,
   "id": "tested-ordinance",
   "metadata": {},
   "outputs": [
    {
     "data": {
      "text/plain": [
       "'cde'"
      ]
     },
     "execution_count": 31,
     "metadata": {},
     "output_type": "execute_result"
    }
   ],
   "source": [
    "a = 'abcde'\n",
    "a[2:5]"
   ]
  },
  {
   "cell_type": "code",
   "execution_count": null,
   "id": "suited-training",
   "metadata": {},
   "outputs": [],
   "source": []
  }
 ],
 "metadata": {
  "kernelspec": {
   "display_name": "Python 3",
   "language": "python",
   "name": "python3"
  },
  "language_info": {
   "codemirror_mode": {
    "name": "ipython",
    "version": 3
   },
   "file_extension": ".py",
   "mimetype": "text/x-python",
   "name": "python",
   "nbconvert_exporter": "python",
   "pygments_lexer": "ipython3",
   "version": "3.7.9"
  }
 },
 "nbformat": 4,
 "nbformat_minor": 5
}
