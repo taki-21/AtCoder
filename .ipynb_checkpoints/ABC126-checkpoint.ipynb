{
 "cells": [
  {
   "cell_type": "markdown",
   "metadata": {},
   "source": [
    "### A - Changing a Character"
   ]
  },
  {
   "cell_type": "code",
   "execution_count": 43,
   "metadata": {},
   "outputs": [
    {
     "name": "stdin",
     "output_type": "stream",
     "text": [
      " 6 5\n",
      " AABCAB\n"
     ]
    }
   ],
   "source": [
    "N, K = map(int, input().split())\n",
    "S = input()"
   ]
  },
  {
   "cell_type": "code",
   "execution_count": 44,
   "metadata": {},
   "outputs": [
    {
     "data": {
      "text/plain": [
       "'aABCAB'"
      ]
     },
     "execution_count": 44,
     "metadata": {},
     "output_type": "execute_result"
    }
   ],
   "source": [
    "S.replace(S[K-1], S[K-1].lower(), 1)"
   ]
  },
  {
   "cell_type": "code",
   "execution_count": 38,
   "metadata": {},
   "outputs": [
    {
     "data": {
      "text/plain": [
       "str"
      ]
     },
     "execution_count": 38,
     "metadata": {},
     "output_type": "execute_result"
    }
   ],
   "source": [
    "type(S[K-1].lower())"
   ]
  },
  {
   "cell_type": "code",
   "execution_count": 40,
   "metadata": {},
   "outputs": [
    {
     "data": {
      "text/plain": [
       "'aBC'"
      ]
     },
     "execution_count": 40,
     "metadata": {},
     "output_type": "execute_result"
    }
   ],
   "source": [
    "result = S[:K-1] + S[K-1].lower() + S[K:]\n",
    "result"
   ]
  },
  {
   "cell_type": "markdown",
   "metadata": {},
   "source": [
    "### B - YYMM or MMYY"
   ]
  },
  {
   "cell_type": "code",
   "execution_count": 45,
   "metadata": {},
   "outputs": [
    {
     "name": "stdin",
     "output_type": "stream",
     "text": [
      " 1100\n"
     ]
    }
   ],
   "source": [
    "S = input()"
   ]
  },
  {
   "cell_type": "code",
   "execution_count": 24,
   "metadata": {},
   "outputs": [
    {
     "name": "stdout",
     "output_type": "stream",
     "text": [
      "AMBIGUOUS\n"
     ]
    }
   ],
   "source": [
    "# if ((int(S[:2]) > 12) and (int(S[-2:]) > 12)) or ((S[:2] == '00') or (S[-2:] == '00')):\n",
    "#     print('NA')\n",
    "# elif (int(S[:2]) > 12) and (int(S[-2:]) <= 12):\n",
    "#     print('YYMM')\n",
    "# elif (int(S[:2]) <= 12) and (int(S[-2:]) > 12):\n",
    "#     print('MMYY')\n",
    "# else:\n",
    "#     print('AMBIGUOUS')"
   ]
  },
  {
   "cell_type": "code",
   "execution_count": 46,
   "metadata": {},
   "outputs": [
    {
     "name": "stdout",
     "output_type": "stream",
     "text": [
      "MMYY\n"
     ]
    }
   ],
   "source": [
    "result = 'NA'\n",
    "if ((1 <= int(S[:2]) <= 12) and (1 <= int(S[2:]) <= 12)):\n",
    "    result = 'AMBIGUOUS'\n",
    "elif (1 <= int(S[:2]) <= 12):\n",
    "    result = 'MMYY'\n",
    "elif (1 <= int(S[2:]) <= 12):\n",
    "    result = 'YYMM'\n",
    "print(result)    "
   ]
  },
  {
   "cell_type": "code",
   "execution_count": null,
   "metadata": {},
   "outputs": [],
   "source": []
  }
 ],
 "metadata": {
  "kernelspec": {
   "display_name": "Python 3",
   "language": "python",
   "name": "python3"
  },
  "language_info": {
   "codemirror_mode": {
    "name": "ipython",
    "version": 3
   },
   "file_extension": ".py",
   "mimetype": "text/x-python",
   "name": "python",
   "nbconvert_exporter": "python",
   "pygments_lexer": "ipython3",
   "version": "3.8.5"
  }
 },
 "nbformat": 4,
 "nbformat_minor": 4
}
