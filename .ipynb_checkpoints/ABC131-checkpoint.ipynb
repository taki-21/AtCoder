{
 "cells": [
  {
   "cell_type": "markdown",
   "id": "planned-billion",
   "metadata": {},
   "source": [
    "### A - Security"
   ]
  },
  {
   "cell_type": "code",
   "execution_count": 11,
   "id": "demographic-bermuda",
   "metadata": {},
   "outputs": [
    {
     "name": "stdin",
     "output_type": "stream",
     "text": [
      " 0024\n"
     ]
    }
   ],
   "source": [
    "s = input()"
   ]
  },
  {
   "cell_type": "code",
   "execution_count": 12,
   "id": "appointed-scout",
   "metadata": {},
   "outputs": [
    {
     "name": "stdout",
     "output_type": "stream",
     "text": [
      "Bad\n"
     ]
    }
   ],
   "source": [
    "for i in range(len(s)-1):\n",
    "    if s[i] == s[i+1]:\n",
    "        print('Bad')\n",
    "        break\n",
    "else:\n",
    "    print('Good')"
   ]
  },
  {
   "cell_type": "markdown",
   "id": "assumed-asbestos",
   "metadata": {},
   "source": [
    "### B - Bite Eating"
   ]
  },
  {
   "cell_type": "code",
   "execution_count": 59,
   "id": "helpful-alabama",
   "metadata": {},
   "outputs": [
    {
     "name": "stdin",
     "output_type": "stream",
     "text": [
      " 5 2\n"
     ]
    }
   ],
   "source": [
    "n, l = map(int, input().split())"
   ]
  },
  {
   "cell_type": "code",
   "execution_count": 60,
   "id": "exclusive-tulsa",
   "metadata": {},
   "outputs": [
    {
     "data": {
      "text/plain": [
       "[2, 3, 4, 5, 6]"
      ]
     },
     "execution_count": 60,
     "metadata": {},
     "output_type": "execute_result"
    }
   ],
   "source": [
    "tastes = [l+(i+1)-1 for i in range(n)]\n",
    "tastes"
   ]
  },
  {
   "cell_type": "code",
   "execution_count": 61,
   "id": "detailed-brazilian",
   "metadata": {},
   "outputs": [
    {
     "data": {
      "text/plain": [
       "18"
      ]
     },
     "execution_count": 61,
     "metadata": {},
     "output_type": "execute_result"
    }
   ],
   "source": [
    "sorted_tastes = sorted(tastes, key=abs)\n",
    "sum(sorted_tastes[1:])"
   ]
  },
  {
   "cell_type": "markdown",
   "id": "smaller-health",
   "metadata": {},
   "source": [
    "### C - Anti-Division"
   ]
  },
  {
   "cell_type": "code",
   "execution_count": 95,
   "id": "prospective-prophet",
   "metadata": {},
   "outputs": [
    {
     "name": "stdin",
     "output_type": "stream",
     "text": [
      " 10 40 6 8\n"
     ]
    }
   ],
   "source": [
    "a, b, c, d = map(int, input().split())"
   ]
  },
  {
   "cell_type": "code",
   "execution_count": 99,
   "id": "anticipated-paraguay",
   "metadata": {},
   "outputs": [],
   "source": [
    "def gcd(a, b):\n",
    "    while b:\n",
    "        a, b = b, a % b\n",
    "    return a\n",
    "\n",
    "def lcm(a, b):\n",
    "    return a * b //gcd(a, b)"
   ]
  },
  {
   "cell_type": "code",
   "execution_count": 100,
   "id": "russian-wealth",
   "metadata": {},
   "outputs": [
    {
     "data": {
      "text/plain": [
       "8"
      ]
     },
     "execution_count": 100,
     "metadata": {},
     "output_type": "execute_result"
    }
   ],
   "source": [
    "a_ans = a//c + a//d - a//lcm(c, d)\n",
    "b_ans = b//c + b//d - b//lcm(c, d)\n",
    "t = b_ans - a_ans\n",
    "t"
   ]
  },
  {
   "cell_type": "code",
   "execution_count": 101,
   "id": "possible-cleanup",
   "metadata": {},
   "outputs": [
    {
     "data": {
      "text/plain": [
       "31"
      ]
     },
     "execution_count": 101,
     "metadata": {},
     "output_type": "execute_result"
    }
   ],
   "source": [
    "length = b - (a - 1)\n",
    "length"
   ]
  },
  {
   "cell_type": "code",
   "execution_count": 102,
   "id": "multiple-distance",
   "metadata": {},
   "outputs": [
    {
     "data": {
      "text/plain": [
       "23"
      ]
     },
     "execution_count": 102,
     "metadata": {},
     "output_type": "execute_result"
    }
   ],
   "source": [
    "if a%(c*d) == 0:\n",
    "    ans = length-t-1\n",
    "else:\n",
    "    ans = length-t\n",
    "ans"
   ]
  },
  {
   "cell_type": "code",
   "execution_count": null,
   "id": "portable-commercial",
   "metadata": {},
   "outputs": [],
   "source": []
  },
  {
   "cell_type": "code",
   "execution_count": null,
   "id": "municipal-forestry",
   "metadata": {},
   "outputs": [],
   "source": []
  }
 ],
 "metadata": {
  "kernelspec": {
   "display_name": "Python 3",
   "language": "python",
   "name": "python3"
  },
  "language_info": {
   "codemirror_mode": {
    "name": "ipython",
    "version": 3
   },
   "file_extension": ".py",
   "mimetype": "text/x-python",
   "name": "python",
   "nbconvert_exporter": "python",
   "pygments_lexer": "ipython3",
   "version": "3.8.8"
  }
 },
 "nbformat": 4,
 "nbformat_minor": 5
}
