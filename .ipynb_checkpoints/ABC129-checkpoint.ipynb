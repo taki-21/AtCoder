{
 "cells": [
  {
   "cell_type": "markdown",
   "id": "stuck-boulder",
   "metadata": {},
   "source": [
    "### A - Airplane"
   ]
  },
  {
   "cell_type": "code",
   "execution_count": 6,
   "id": "italic-profile",
   "metadata": {},
   "outputs": [
    {
     "name": "stdin",
     "output_type": "stream",
     "text": [
      " 3 2 3\n"
     ]
    }
   ],
   "source": [
    "p, q, r = map(int, input().split())"
   ]
  },
  {
   "cell_type": "code",
   "execution_count": 4,
   "id": "desirable-string",
   "metadata": {},
   "outputs": [
    {
     "data": {
      "text/plain": [
       "4"
      ]
     },
     "execution_count": 4,
     "metadata": {},
     "output_type": "execute_result"
    }
   ],
   "source": [
    "r"
   ]
  },
  {
   "cell_type": "code",
   "execution_count": 7,
   "id": "floral-throw",
   "metadata": {},
   "outputs": [
    {
     "name": "stdout",
     "output_type": "stream",
     "text": [
      "5\n"
     ]
    }
   ],
   "source": [
    "ans = min(p+q, q+r, p+r)\n",
    "print(ans)\n"
   ]
  },
  {
   "cell_type": "code",
   "execution_count": 12,
   "id": "aerial-university",
   "metadata": {},
   "outputs": [
    {
     "data": {
      "text/plain": [
       "5"
      ]
     },
     "execution_count": 12,
     "metadata": {},
     "output_type": "execute_result"
    }
   ],
   "source": [
    "ans_2 = sum([p, q, r]) - max(p, q, r)\n",
    "ans_2"
   ]
  },
  {
   "cell_type": "markdown",
   "id": "weekly-apache",
   "metadata": {},
   "source": [
    "### B - Balance"
   ]
  },
  {
   "cell_type": "code",
   "execution_count": 29,
   "id": "aware-smell",
   "metadata": {},
   "outputs": [
    {
     "name": "stdin",
     "output_type": "stream",
     "text": [
      " 8\n",
      " 27 23 76 2 3 5 62 52\n"
     ]
    }
   ],
   "source": [
    "n = int(input())\n",
    "w = list(map(int, input().split()))"
   ]
  },
  {
   "cell_type": "code",
   "execution_count": 21,
   "id": "electronic-portable",
   "metadata": {},
   "outputs": [
    {
     "data": {
      "text/plain": [
       "[]"
      ]
     },
     "execution_count": 21,
     "metadata": {},
     "output_type": "execute_result"
    }
   ],
   "source": [
    "w[:0]"
   ]
  },
  {
   "cell_type": "code",
   "execution_count": 30,
   "id": "immediate-consent",
   "metadata": {},
   "outputs": [
    {
     "name": "stdout",
     "output_type": "stream",
     "text": [
      "2\n"
     ]
    }
   ],
   "source": [
    "ans = 10000\n",
    "t = 0\n",
    "for _ in range(n):\n",
    "    a = sum(w[:t])\n",
    "    b = sum(w[t:])\n",
    "    result = abs(a - b)\n",
    "    if ans > result:\n",
    "        ans = result\n",
    "    t += 1\n",
    "print(ans)"
   ]
  },
  {
   "cell_type": "code",
   "execution_count": null,
   "id": "extraordinary-somalia",
   "metadata": {},
   "outputs": [],
   "source": []
  }
 ],
 "metadata": {
  "kernelspec": {
   "display_name": "Python 3",
   "language": "python",
   "name": "python3"
  },
  "language_info": {
   "codemirror_mode": {
    "name": "ipython",
    "version": 3
   },
   "file_extension": ".py",
   "mimetype": "text/x-python",
   "name": "python",
   "nbconvert_exporter": "python",
   "pygments_lexer": "ipython3",
   "version": "3.8.8"
  }
 },
 "nbformat": 4,
 "nbformat_minor": 5
}
