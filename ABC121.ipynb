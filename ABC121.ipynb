{
 "cells": [
  {
   "cell_type": "markdown",
   "id": "derived-chapter",
   "metadata": {},
   "source": [
    "### A - White Cells"
   ]
  },
  {
   "cell_type": "code",
   "execution_count": 15,
   "id": "filled-ballet",
   "metadata": {},
   "outputs": [
    {
     "name": "stdin",
     "output_type": "stream",
     "text": [
      " 2 4\n",
      " 2 4\n"
     ]
    }
   ],
   "source": [
    "H, W = map(int, input().split())\n",
    "h, w = map(int, input().split())"
   ]
  },
  {
   "cell_type": "code",
   "execution_count": 16,
   "id": "weird-potter",
   "metadata": {},
   "outputs": [
    {
     "data": {
      "text/plain": [
       "0"
      ]
     },
     "execution_count": 16,
     "metadata": {},
     "output_type": "execute_result"
    }
   ],
   "source": [
    "result_h = H - h\n",
    "result_w = W -w\n",
    "result = result_h * result_w\n",
    "result"
   ]
  },
  {
   "cell_type": "markdown",
   "id": "broad-format",
   "metadata": {},
   "source": [
    "### B - Can you solve this?"
   ]
  },
  {
   "cell_type": "code",
   "execution_count": 14,
   "id": "large-nigeria",
   "metadata": {},
   "outputs": [
    {
     "name": "stdin",
     "output_type": "stream",
     "text": [
      " 3 4 5 \n",
      " 1 3 5 6\n",
      " 1 2 3 4\n",
      " 2 3 4 5 \n",
      " 3 4 5 6\n"
     ]
    }
   ],
   "source": [
    "n, m, c = map(int, input().split())\n",
    "b = list(map(int, input().split()))\n",
    "a = [list(map(int, input().split())) for _ in range(n)]"
   ]
  },
  {
   "cell_type": "code",
   "execution_count": 23,
   "id": "corporate-gauge",
   "metadata": {},
   "outputs": [
    {
     "data": {
      "text/plain": [
       "[1, 2, 3, 4]"
      ]
     },
     "execution_count": 23,
     "metadata": {},
     "output_type": "execute_result"
    }
   ],
   "source": [
    "g1 = a[0]"
   ]
  },
  {
   "cell_type": "code",
   "execution_count": 21,
   "id": "moral-cannon",
   "metadata": {},
   "outputs": [
    {
     "data": {
      "text/plain": [
       "[1, 3, 5, 6]"
      ]
     },
     "execution_count": 21,
     "metadata": {},
     "output_type": "execute_result"
    }
   ],
   "source": [
    "g2 = b"
   ]
  },
  {
   "cell_type": "code",
   "execution_count": 22,
   "id": "foreign-democracy",
   "metadata": {},
   "outputs": [
    {
     "name": "stdout",
     "output_type": "stream",
     "text": [
      "3\n"
     ]
    }
   ],
   "source": [
    "num = 0\n",
    "for i in a:\n",
    "    result = sum([x*y for x, y in zip(i, b)]) + c\n",
    "    if result > 0:\n",
    "        num += 1\n",
    "\n",
    "print(num)"
   ]
  },
  {
   "cell_type": "code",
   "execution_count": 24,
   "id": "addressed-rendering",
   "metadata": {},
   "outputs": [
    {
     "ename": "NameError",
     "evalue": "name 'g1' is not defined",
     "output_type": "error",
     "traceback": [
      "\u001b[0;31m---------------------------------------------------------------------------\u001b[0m",
      "\u001b[0;31mNameError\u001b[0m                                 Traceback (most recent call last)",
      "\u001b[0;32m<ipython-input-24-cdd123bc77aa>\u001b[0m in \u001b[0;36m<module>\u001b[0;34m\u001b[0m\n\u001b[0;32m----> 1\u001b[0;31m \u001b[0mg1\u001b[0m\u001b[0;34m*\u001b[0m\u001b[0mg2\u001b[0m\u001b[0;34m\u001b[0m\u001b[0;34m\u001b[0m\u001b[0m\n\u001b[0m",
      "\u001b[0;31mNameError\u001b[0m: name 'g1' is not defined"
     ]
    }
   ],
   "source": [
    "g1*g2"
   ]
  },
  {
   "cell_type": "code",
   "execution_count": null,
   "id": "common-virgin",
   "metadata": {},
   "outputs": [],
   "source": []
  }
 ],
 "metadata": {
  "kernelspec": {
   "display_name": "Python 3",
   "language": "python",
   "name": "python3"
  },
  "language_info": {
   "codemirror_mode": {
    "name": "ipython",
    "version": 3
   },
   "file_extension": ".py",
   "mimetype": "text/x-python",
   "name": "python",
   "nbconvert_exporter": "python",
   "pygments_lexer": "ipython3",
   "version": "3.7.9"
  }
 },
 "nbformat": 4,
 "nbformat_minor": 5
}
