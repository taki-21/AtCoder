{
 "cells": [
  {
   "cell_type": "markdown",
   "id": "caring-translator",
   "metadata": {},
   "source": [
    "### A - Airplane"
   ]
  },
  {
   "cell_type": "code",
   "execution_count": 6,
   "id": "sealed-turning",
   "metadata": {},
   "outputs": [
    {
     "name": "stdin",
     "output_type": "stream",
     "text": [
      " 3 2 3\n"
     ]
    }
   ],
   "source": [
    "p, q, r = map(int, input().split())"
   ]
  },
  {
   "cell_type": "code",
   "execution_count": 4,
   "id": "flying-lightning",
   "metadata": {},
   "outputs": [
    {
     "data": {
      "text/plain": [
       "4"
      ]
     },
     "execution_count": 4,
     "metadata": {},
     "output_type": "execute_result"
    }
   ],
   "source": [
    "r"
   ]
  },
  {
   "cell_type": "code",
   "execution_count": 7,
   "id": "accredited-toddler",
   "metadata": {},
   "outputs": [
    {
     "name": "stdout",
     "output_type": "stream",
     "text": [
      "5\n"
     ]
    }
   ],
   "source": [
    "ans = min(p+q, q+r, p+r)\n",
    "print(ans)\n"
   ]
  },
  {
   "cell_type": "code",
   "execution_count": 12,
   "id": "inside-reaction",
   "metadata": {},
   "outputs": [
    {
     "data": {
      "text/plain": [
       "5"
      ]
     },
     "execution_count": 12,
     "metadata": {},
     "output_type": "execute_result"
    }
   ],
   "source": [
    "ans_2 = sum([p, q, r]) - max(p, q, r)\n",
    "ans_2"
   ]
  },
  {
   "cell_type": "markdown",
   "id": "supposed-slovak",
   "metadata": {},
   "source": [
    "### B - Balance"
   ]
  },
  {
   "cell_type": "code",
   "execution_count": 29,
   "id": "strategic-string",
   "metadata": {},
   "outputs": [
    {
     "name": "stdin",
     "output_type": "stream",
     "text": [
      " 8\n",
      " 27 23 76 2 3 5 62 52\n"
     ]
    }
   ],
   "source": [
    "n = int(input())\n",
    "w = list(map(int, input().split()))"
   ]
  },
  {
   "cell_type": "code",
   "execution_count": 21,
   "id": "third-township",
   "metadata": {},
   "outputs": [
    {
     "data": {
      "text/plain": [
       "[]"
      ]
     },
     "execution_count": 21,
     "metadata": {},
     "output_type": "execute_result"
    }
   ],
   "source": [
    "w[:0]"
   ]
  },
  {
   "cell_type": "code",
   "execution_count": 32,
   "id": "derived-namibia",
   "metadata": {},
   "outputs": [
    {
     "name": "stdout",
     "output_type": "stream",
     "text": [
      "2\n"
     ]
    }
   ],
   "source": [
    "ans = 10000\n",
    "for i in range(1, n):\n",
    "    a = sum(w[:i])\n",
    "    b = sum(w[i:])\n",
    "    result = abs(a - b)\n",
    "    ans = min(ans, result)\n",
    "#     if ans > result:\n",
    "#         ans = result\n",
    "    t += 1\n",
    "print(ans)"
   ]
  },
  {
   "cell_type": "code",
   "execution_count": null,
   "id": "danish-salad",
   "metadata": {},
   "outputs": [],
   "source": []
  }
 ],
 "metadata": {
  "kernelspec": {
   "display_name": "Python 3",
   "language": "python",
   "name": "python3"
  },
  "language_info": {
   "codemirror_mode": {
    "name": "ipython",
    "version": 3
   },
   "file_extension": ".py",
   "mimetype": "text/x-python",
   "name": "python",
   "nbconvert_exporter": "python",
   "pygments_lexer": "ipython3",
   "version": "3.8.8"
  }
 },
 "nbformat": 4,
 "nbformat_minor": 5
}
