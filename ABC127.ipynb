{
 "cells": [
  {
   "cell_type": "markdown",
   "id": "female-cuisine",
   "metadata": {},
   "source": [
    "### A - Ferris Wheel"
   ]
  },
  {
   "cell_type": "code",
   "execution_count": 6,
   "id": "funny-wells",
   "metadata": {},
   "outputs": [
    {
     "name": "stdin",
     "output_type": "stream",
     "text": [
      " 0 100\n"
     ]
    }
   ],
   "source": [
    "A, B = map(int, input().split())"
   ]
  },
  {
   "cell_type": "code",
   "execution_count": 7,
   "id": "medical-poison",
   "metadata": {},
   "outputs": [
    {
     "name": "stdout",
     "output_type": "stream",
     "text": [
      "0\n"
     ]
    }
   ],
   "source": [
    "if A >= 13:\n",
    "    ans = B\n",
    "elif 6 <= A <= 12:\n",
    "    ans = int(B/2)\n",
    "else:\n",
    "    ans = 0\n",
    "print(ans)"
   ]
  },
  {
   "cell_type": "markdown",
   "id": "violent-guatemala",
   "metadata": {},
   "source": [
    "### B - Algae"
   ]
  },
  {
   "cell_type": "code",
   "execution_count": 10,
   "id": "express-registrar",
   "metadata": {},
   "outputs": [
    {
     "name": "stdin",
     "output_type": "stream",
     "text": [
      " 4 40 60\n"
     ]
    }
   ],
   "source": [
    "r, D, x2000 = map(int, input().split())"
   ]
  },
  {
   "cell_type": "code",
   "execution_count": 11,
   "id": "happy-pregnancy",
   "metadata": {},
   "outputs": [
    {
     "name": "stdout",
     "output_type": "stream",
     "text": [
      "200\n",
      "760\n",
      "3000\n",
      "11960\n",
      "47800\n",
      "191160\n",
      "764600\n",
      "3058360\n",
      "12233400\n",
      "48933560\n"
     ]
    }
   ],
   "source": [
    "ans = x2000\n",
    "for _ in range(1, 11):\n",
    "    ans = r * ans - D\n",
    "    print(ans) "
   ]
  },
  {
   "cell_type": "markdown",
   "id": "innocent-special",
   "metadata": {},
   "source": [
    "### C - Prison"
   ]
  },
  {
   "cell_type": "code",
   "execution_count": null,
   "id": "fifteen-function",
   "metadata": {},
   "outputs": [],
   "source": []
  }
 ],
 "metadata": {
  "kernelspec": {
   "display_name": "Python 3",
   "language": "python",
   "name": "python3"
  },
  "language_info": {
   "codemirror_mode": {
    "name": "ipython",
    "version": 3
   },
   "file_extension": ".py",
   "mimetype": "text/x-python",
   "name": "python",
   "nbconvert_exporter": "python",
   "pygments_lexer": "ipython3",
   "version": "3.7.9"
  }
 },
 "nbformat": 4,
 "nbformat_minor": 5
}
