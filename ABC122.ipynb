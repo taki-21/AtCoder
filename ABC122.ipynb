{
 "cells": [
  {
   "cell_type": "markdown",
   "id": "perceived-positive",
   "metadata": {},
   "source": [
    "### A - Double Helix"
   ]
  },
  {
   "cell_type": "code",
   "execution_count": 1,
   "id": "advised-adoption",
   "metadata": {},
   "outputs": [
    {
     "name": "stdin",
     "output_type": "stream",
     "text": [
      " A\n"
     ]
    }
   ],
   "source": [
    "b = input()"
   ]
  },
  {
   "cell_type": "markdown",
   "id": "stainless-jersey",
   "metadata": {},
   "source": [
    "dic = {'A': 'T', 'T': 'A', 'C': 'G', 'G': 'C'}"
   ]
  },
  {
   "cell_type": "code",
   "execution_count": null,
   "id": "pleased-sunglasses",
   "metadata": {},
   "outputs": [],
   "source": [
    "result = dic[b]\n",
    "result"
   ]
  },
  {
   "cell_type": "markdown",
   "id": "sixth-synthesis",
   "metadata": {},
   "source": [
    "### B - ATCoder"
   ]
  },
  {
   "cell_type": "code",
   "execution_count": 33,
   "id": "referenced-workshop",
   "metadata": {},
   "outputs": [
    {
     "name": "stdin",
     "output_type": "stream",
     "text": [
      " AKJFDYERNVNCACAAAAAAAT\n"
     ]
    }
   ],
   "source": [
    "s = input()"
   ]
  },
  {
   "cell_type": "code",
   "execution_count": 34,
   "id": "vanilla-spending",
   "metadata": {},
   "outputs": [
    {
     "data": {
      "text/plain": [
       "'AKJFDYERNVNCACAAAAAAAT'"
      ]
     },
     "execution_count": 34,
     "metadata": {},
     "output_type": "execute_result"
    }
   ],
   "source": [
    "s"
   ]
  },
  {
   "cell_type": "code",
   "execution_count": 37,
   "id": "silver-vertex",
   "metadata": {},
   "outputs": [
    {
     "name": "stdout",
     "output_type": "stream",
     "text": [
      "11\n"
     ]
    }
   ],
   "source": [
    "str_len = 0\n",
    "max_len = 0\n",
    "for i in range(len(s)):\n",
    "    if (s[i] == 'A') or (s[i] == 'C') or (s[i] == 'G') or (s[i] == 'T'):\n",
    "        str_len += 1\n",
    "        if (str_len > max_len):\n",
    "            max_len = str_len\n",
    "    else:\n",
    "        str_len = 0\n",
    "\n",
    "print(max_len)"
   ]
  },
  {
   "cell_type": "code",
   "execution_count": 1,
   "id": "excessive-facial",
   "metadata": {},
   "outputs": [
    {
     "name": "stdin",
     "output_type": "stream",
     "text": [
      " ASDFERTCTFGTYHGTACDSAA\n"
     ]
    }
   ],
   "source": [
    "s = input()"
   ]
  },
  {
   "cell_type": "code",
   "execution_count": 4,
   "id": "decimal-antigua",
   "metadata": {},
   "outputs": [
    {
     "data": {
      "text/plain": [
       "22"
      ]
     },
     "execution_count": 4,
     "metadata": {},
     "output_type": "execute_result"
    }
   ],
   "source": [
    "n = len(s)\n",
    "n"
   ]
  },
  {
   "cell_type": "code",
   "execution_count": 32,
   "id": "immune-literacy",
   "metadata": {},
   "outputs": [
    {
     "name": "stdout",
     "output_type": "stream",
     "text": [
      "4\n"
     ]
    }
   ],
   "source": [
    "ans = 0\n",
    "for i in range(n):\n",
    "    for j in range(i, n):\n",
    "        if all('ACGT'.count(c) == 1 for c in s[i: j+1]):\n",
    "            ans = max(ans, j-i+1)\n",
    "print(ans)"
   ]
  },
  {
   "cell_type": "code",
   "execution_count": null,
   "id": "chicken-concentration",
   "metadata": {},
   "outputs": [],
   "source": []
  },
  {
   "cell_type": "code",
   "execution_count": 14,
   "id": "fourth-legislature",
   "metadata": {},
   "outputs": [],
   "source": [
    "import collections"
   ]
  },
  {
   "cell_type": "code",
   "execution_count": 22,
   "id": "tamil-editing",
   "metadata": {},
   "outputs": [
    {
     "data": {
      "text/plain": [
       "1"
      ]
     },
     "execution_count": 22,
     "metadata": {},
     "output_type": "execute_result"
    }
   ],
   "source": [
    "l = ['a', 'a', 'a', 'a', 'b', 'c', 'c']\n",
    "l.count('b')"
   ]
  },
  {
   "cell_type": "code",
   "execution_count": 27,
   "id": "unusual-magazine",
   "metadata": {},
   "outputs": [
    {
     "name": "stdout",
     "output_type": "stream",
     "text": [
      "<class 'collections.Counter'>\n"
     ]
    }
   ],
   "source": [
    "c = collections.Counter(l)\n",
    "print(type(c))"
   ]
  },
  {
   "cell_type": "code",
   "execution_count": 31,
   "id": "confirmed-gabriel",
   "metadata": {},
   "outputs": [
    {
     "data": {
      "text/plain": [
       "'cde'"
      ]
     },
     "execution_count": 31,
     "metadata": {},
     "output_type": "execute_result"
    }
   ],
   "source": [
    "a = 'abcde'\n",
    "a[2:5]"
   ]
  },
  {
   "cell_type": "code",
   "execution_count": null,
   "id": "fitted-murder",
   "metadata": {},
   "outputs": [],
   "source": []
  }
 ],
 "metadata": {
  "kernelspec": {
   "display_name": "Python 3",
   "language": "python",
   "name": "python3"
  },
  "language_info": {
   "codemirror_mode": {
    "name": "ipython",
    "version": 3
   },
   "file_extension": ".py",
   "mimetype": "text/x-python",
   "name": "python",
   "nbconvert_exporter": "python",
   "pygments_lexer": "ipython3",
   "version": "3.7.9"
  }
 },
 "nbformat": 4,
 "nbformat_minor": 5
}
