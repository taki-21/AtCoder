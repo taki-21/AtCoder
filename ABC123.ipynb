{
 "cells": [
  {
   "cell_type": "code",
   "execution_count": 3,
   "id": "younger-residence",
   "metadata": {},
   "outputs": [
    {
     "name": "stdin",
     "output_type": "stream",
     "text": [
      " 1\n",
      " 4\n",
      " 5\n",
      " 3\n",
      " 2\n",
      " 8\n"
     ]
    }
   ],
   "source": [
    "a, b, c, d, e = [int(input()) for _ in range(5)]\n",
    "n = int(input())"
   ]
  },
  {
   "cell_type": "code",
   "execution_count": 5,
   "id": "identical-exhibition",
   "metadata": {},
   "outputs": [],
   "source": [
    "max_coor = max(a, b, c, d, e)\n",
    "min_coor = min(a, b, c, d, e)"
   ]
  },
  {
   "cell_type": "code",
   "execution_count": 7,
   "id": "normal-toolbox",
   "metadata": {},
   "outputs": [
    {
     "name": "stdout",
     "output_type": "stream",
     "text": [
      "Yay!\n"
     ]
    }
   ],
   "source": [
    "if max_coor - min_coor <= n:\n",
    "    print('Yay!')\n",
    "else:\n",
    "    print(':(')"
   ]
  },
  {
   "cell_type": "code",
   "execution_count": null,
   "id": "timely-atlas",
   "metadata": {},
   "outputs": [],
   "source": []
  }
 ],
 "metadata": {
  "kernelspec": {
   "display_name": "Python 3",
   "language": "python",
   "name": "python3"
  },
  "language_info": {
   "codemirror_mode": {
    "name": "ipython",
    "version": 3
   },
   "file_extension": ".py",
   "mimetype": "text/x-python",
   "name": "python",
   "nbconvert_exporter": "python",
   "pygments_lexer": "ipython3",
   "version": "3.7.9"
  }
 },
 "nbformat": 4,
 "nbformat_minor": 5
}
