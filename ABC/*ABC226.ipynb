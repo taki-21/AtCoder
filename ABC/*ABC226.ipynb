{
 "cells": [
  {
   "cell_type": "markdown",
   "metadata": {},
   "source": [
    "### A"
   ]
  },
  {
   "cell_type": "code",
   "execution_count": 6,
   "metadata": {},
   "outputs": [
    {
     "name": "stdin",
     "output_type": "stream",
     "text": [
      " 0.000\n"
     ]
    }
   ],
   "source": [
    "x = float(input())"
   ]
  },
  {
   "cell_type": "code",
   "execution_count": 7,
   "metadata": {},
   "outputs": [
    {
     "name": "stdout",
     "output_type": "stream",
     "text": [
      "0\n"
     ]
    }
   ],
   "source": [
    "from decimal import Decimal, ROUND_HALF_UP, ROUND_HALF_EVEN\n",
    "print(Decimal(str(x)).quantize(Decimal('0'), rounding=ROUND_HALF_UP))"
   ]
  },
  {
   "cell_type": "code",
   "execution_count": null,
   "metadata": {},
   "outputs": [],
   "source": []
  },
  {
   "cell_type": "code",
   "execution_count": null,
   "metadata": {},
   "outputs": [],
   "source": []
  },
  {
   "cell_type": "code",
   "execution_count": null,
   "metadata": {},
   "outputs": [],
   "source": []
  },
  {
   "cell_type": "code",
   "execution_count": null,
   "metadata": {},
   "outputs": [],
   "source": []
  },
  {
   "cell_type": "markdown",
   "metadata": {},
   "source": [
    "### B"
   ]
  },
  {
   "cell_type": "code",
   "execution_count": 8,
   "metadata": {},
   "outputs": [
    {
     "name": "stdin",
     "output_type": "stream",
     "text": [
      " 4\n",
      " 2 1 2\n",
      " 2 1 1\n",
      " 2 2 1\n",
      " 2 1 2\n"
     ]
    }
   ],
   "source": [
    "n = int(input())\n",
    "l_list = [list(map(int, input().split())) for _ in range(n)]"
   ]
  },
  {
   "cell_type": "code",
   "execution_count": 9,
   "metadata": {},
   "outputs": [
    {
     "data": {
      "text/plain": [
       "[[2, 1, 2], [2, 1, 1], [2, 2, 1], [2, 1, 2]]"
      ]
     },
     "execution_count": 9,
     "metadata": {},
     "output_type": "execute_result"
    }
   ],
   "source": [
    "l_list"
   ]
  },
  {
   "cell_type": "code",
   "execution_count": 11,
   "metadata": {},
   "outputs": [
    {
     "data": {
      "text/plain": [
       "3"
      ]
     },
     "execution_count": 11,
     "metadata": {},
     "output_type": "execute_result"
    }
   ],
   "source": [
    "arr = l_list\n",
    "arr = list(map(list, set(map(tuple, arr))))\n",
    "print(len(arr))"
   ]
  },
  {
   "cell_type": "code",
   "execution_count": 49,
   "metadata": {},
   "outputs": [
    {
     "data": {
      "text/plain": [
       "{(2, 1, 1), (2, 1, 2), (2, 2, 1)}"
      ]
     },
     "execution_count": 49,
     "metadata": {},
     "output_type": "execute_result"
    }
   ],
   "source": []
  },
  {
   "cell_type": "code",
   "execution_count": 52,
   "metadata": {},
   "outputs": [
    {
     "data": {
      "text/plain": [
       "{(2, 1, 1), (2, 1, 2), (2, 2, 1)}"
      ]
     },
     "execution_count": 52,
     "metadata": {},
     "output_type": "execute_result"
    }
   ],
   "source": [
    "set(((2, 1, 1), (2, 1, 2), (2, 2, 1)))"
   ]
  },
  {
   "cell_type": "code",
   "execution_count": null,
   "metadata": {},
   "outputs": [],
   "source": []
  },
  {
   "cell_type": "markdown",
   "metadata": {},
   "source": [
    "### C"
   ]
  },
  {
   "cell_type": "code",
   "execution_count": 38,
   "metadata": {},
   "outputs": [
    {
     "name": "stdin",
     "output_type": "stream",
     "text": [
      " 6\n",
      " 4 3 1 4\n",
      " 3 4 3\n",
      " 3 2 5\n",
      " 2 4 1\n",
      " 5 4 1\n",
      " 3 1 5\n"
     ]
    }
   ],
   "source": [
    "n = int(input())\n",
    "skill_list = []\n",
    "for _ in range(n):\n",
    "    skill  = list(map(int, input().split()))\n",
    "    skill_list.append(skill)"
   ]
  },
  {
   "cell_type": "code",
   "execution_count": 25,
   "metadata": {},
   "outputs": [
    {
     "data": {
      "text/plain": [
       "[1]"
      ]
     },
     "execution_count": 25,
     "metadata": {},
     "output_type": "execute_result"
    }
   ],
   "source": [
    "nes_list = skill_list[-1][2:]\n",
    "nes_list"
   ]
  },
  {
   "cell_type": "code",
   "execution_count": 46,
   "metadata": {},
   "outputs": [
    {
     "name": "stdout",
     "output_type": "stream",
     "text": [
      "[1]\n"
     ]
    }
   ],
   "source": [
    "tmep_nes_list = skill_list[-1][2:]\n",
    "nes_list= []\n",
    "all_time = 0\n",
    "for nes_idx in tmep_nes_list:\n",
    "    nes = skill_list[nes_idx-1][2:]\n",
    "    get_nes_index(nes)\n",
    "    if len(nes) != 0:\n",
    "        nes_list += nes"
   ]
  },
  {
   "cell_type": "code",
   "execution_count": 36,
   "metadata": {},
   "outputs": [],
   "source": [
    "final_nes_list = list(set(nes_list))\n",
    "all_time = 0\n",
    "for nes_idx in final_nes_list:\n",
    "    time = skill_list[nes_idx-1][0]\n",
    "    all_time += time\n",
    "ans = all_time + skill_list[-1][0]\n",
    "print(ans)"
   ]
  },
  {
   "cell_type": "code",
   "execution_count": null,
   "metadata": {},
   "outputs": [],
   "source": []
  },
  {
   "cell_type": "code",
   "execution_count": 37,
   "metadata": {},
   "outputs": [
    {
     "name": "stdout",
     "output_type": "stream",
     "text": [
      "10\n"
     ]
    }
   ],
   "source": [
    "all_time = 0\n",
    "for nes_idx in final_nes_list:\n",
    "    nes = skill_list[nes_idx-1][2:]\n",
    "    nes_list.append(nes)\n",
    "    time = skill_list[nes_idx-1][0]\n",
    "    all_time += time\n",
    "ans = all_time + skill_list[-1][0]\n",
    "print(ans)"
   ]
  },
  {
   "cell_type": "code",
   "execution_count": null,
   "metadata": {},
   "outputs": [],
   "source": [
    "5000000000\n",
    "5000000000\n",
    "5000000000\n",
    "5000000000\n",
    "5000000000\n"
   ]
  },
  {
   "cell_type": "code",
   "execution_count": 22,
   "metadata": {},
   "outputs": [],
   "source": [
    "a = []\n",
    "for i in a:\n",
    "    print(i)"
   ]
  },
  {
   "cell_type": "code",
   "execution_count": 47,
   "metadata": {},
   "outputs": [],
   "source": [
    "def get_nes_index(l):\n",
    "    nes_list = []\n",
    "    for i in l:\n",
    "        nes = skill_list[i-1][2:]\n",
    "        nes_list += nes\n",
    "    return nes_list"
   ]
  },
  {
   "cell_type": "markdown",
   "metadata": {},
   "source": [
    "-----------"
   ]
  },
  {
   "cell_type": "code",
   "execution_count": null,
   "metadata": {},
   "outputs": [],
   "source": [
    "n = int(input())\n",
    "t = [0] * (n+1)\n",
    "k = [0] * (n+1)\n",
    "a = [0] * (n+1)\n",
    "for i in range(1, n+1):\n",
    "    inp = list(map(int, input().split()))\n",
    "    t[i] = inp[0]\n",
    "    k[i] = inp[1]\n",
    "    a[i] = inp[2:]\n",
    "\n",
    "need = [False] * (n+1)\n",
    "\n",
    "need[n] = True\n",
    "for i in range(n, 0, -1):\n",
    "    if not need[i]:\n",
    "        continue\n",
    "    for child in a[i]:\n",
    "        need[child] = True\n",
    "print(sum(t[i] for i in range(1, n+1) if need[i]))"
   ]
  }
 ],
 "metadata": {
  "kernelspec": {
   "display_name": "Python 3",
   "language": "python",
   "name": "python3"
  },
  "language_info": {
   "codemirror_mode": {
    "name": "ipython",
    "version": 3
   },
   "file_extension": ".py",
   "mimetype": "text/x-python",
   "name": "python",
   "nbconvert_exporter": "python",
   "pygments_lexer": "ipython3",
   "version": "3.7.4"
  }
 },
 "nbformat": 4,
 "nbformat_minor": 4
}
