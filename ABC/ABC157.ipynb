{
 "cells": [
  {
   "cell_type": "markdown",
   "metadata": {},
   "source": [
    "### A"
   ]
  },
  {
   "cell_type": "code",
   "execution_count": 4,
   "metadata": {},
   "outputs": [
    {
     "name": "stdin",
     "output_type": "stream",
     "text": [
      " 100\n"
     ]
    }
   ],
   "source": [
    "n = int(input())"
   ]
  },
  {
   "cell_type": "code",
   "execution_count": 5,
   "metadata": {},
   "outputs": [
    {
     "name": "stdout",
     "output_type": "stream",
     "text": [
      "50\n"
     ]
    }
   ],
   "source": [
    "ans = -(-n // 2)\n",
    "print(ans)"
   ]
  },
  {
   "cell_type": "markdown",
   "metadata": {},
   "source": [
    "### B"
   ]
  },
  {
   "cell_type": "code",
   "execution_count": 3,
   "metadata": {},
   "outputs": [
    {
     "name": "stdin",
     "output_type": "stream",
     "text": [
      " 84 97 66\n",
      " 79 89 11\n",
      " 61 59 7\n",
      " 7\n",
      " 89\n",
      " 7\n",
      " 87\n",
      " 79\n",
      " 24\n",
      " 84\n",
      " 30\n"
     ]
    }
   ],
   "source": [
    "a = [list(map(int, input().split())) for _ in range(3)]\n",
    "n = int(input())\n",
    "b = [int(input()) for _ in range(n)]"
   ]
  },
  {
   "cell_type": "code",
   "execution_count": 5,
   "metadata": {},
   "outputs": [
    {
     "data": {
      "text/plain": [
       "[89, 7, 87, 79, 24, 84, 30]"
      ]
     },
     "execution_count": 5,
     "metadata": {},
     "output_type": "execute_result"
    }
   ],
   "source": [
    "b"
   ]
  },
  {
   "cell_type": "code",
   "execution_count": 11,
   "metadata": {},
   "outputs": [],
   "source": [
    "ok = []\n",
    "for i, e in enumerate(a):\n",
    "    for j, t in enumerate(e):\n",
    "        if t in b:\n",
    "            ok.append((i+1, j+1))"
   ]
  },
  {
   "cell_type": "code",
   "execution_count": 12,
   "metadata": {},
   "outputs": [
    {
     "data": {
      "text/plain": [
       "[(1, 1), (2, 1), (2, 2), (3, 3)]"
      ]
     },
     "execution_count": 12,
     "metadata": {},
     "output_type": "execute_result"
    }
   ],
   "source": [
    "ok"
   ]
  },
  {
   "cell_type": "code",
   "execution_count": 14,
   "metadata": {},
   "outputs": [
    {
     "name": "stdout",
     "output_type": "stream",
     "text": [
      "Yes\n"
     ]
    }
   ],
   "source": [
    "ans = 'No'\n",
    "row_list = [x[0] for x in ok]\n",
    "column_list = [x[1] for x in ok]\n",
    "for l in (row_list, column_list):\n",
    "    for i in range(1, 4):\n",
    "        a = l.count(i)\n",
    "        if a == 3:\n",
    "            ans = 'Yes'\n",
    "            break\n",
    "if ans == 'No':\n",
    "    if (1, 1) in ok and (2, 2) in ok and (3, 3) in ok:\n",
    "        ans = 'Yes'\n",
    "    elif (1, 3) in ok and (2, 2) in ok and (3, 1) in ok:\n",
    "        ans = 'Yes'\n",
    "print(ans)"
   ]
  },
  {
   "cell_type": "markdown",
   "metadata": {},
   "source": [
    "### C"
   ]
  },
  {
   "cell_type": "code",
   "execution_count": 3,
   "metadata": {},
   "outputs": [
    {
     "name": "stdin",
     "output_type": "stream",
     "text": [
      " 3 3\n",
      " 1 7\n",
      " 3 2\n",
      " 1 7\n"
     ]
    }
   ],
   "source": [
    "n, m = map(int, input().split())\n",
    "sc = [list(map(int, input().split())) for x in range(m)]"
   ]
  },
  {
   "cell_type": "code",
   "execution_count": 4,
   "metadata": {},
   "outputs": [
    {
     "name": "stdout",
     "output_type": "stream",
     "text": [
      "702\n",
      "712\n",
      "722\n",
      "732\n",
      "742\n",
      "752\n",
      "762\n",
      "772\n",
      "782\n",
      "792\n",
      "-1\n"
     ]
    }
   ],
   "source": [
    "for i in range(1000):\n",
    "    num = str(i)\n",
    "    if len(num) != n:\n",
    "        continue\n",
    "    num = list(str(i))\n",
    "    ok = True\n",
    "    for condition in sc:\n",
    "        s = condition[0]\n",
    "        c = condition[1]\n",
    "        if num[s-1] != str(c):\n",
    "            ok = False\n",
    "    if ok:\n",
    "        print(i)\n",
    "        exit()\n",
    "print(-1)"
   ]
  },
  {
   "cell_type": "code",
   "execution_count": null,
   "metadata": {},
   "outputs": [],
   "source": []
  }
 ],
 "metadata": {
  "kernelspec": {
   "display_name": "Python 3",
   "language": "python",
   "name": "python3"
  },
  "language_info": {
   "codemirror_mode": {
    "name": "ipython",
    "version": 3
   },
   "file_extension": ".py",
   "mimetype": "text/x-python",
   "name": "python",
   "nbconvert_exporter": "python",
   "pygments_lexer": "ipython3",
   "version": "3.7.4"
  }
 },
 "nbformat": 4,
 "nbformat_minor": 4
}
