{
 "cells": [
  {
   "cell_type": "markdown",
   "id": "searching-convergence",
   "metadata": {},
   "source": [
    "### A - Difference Max"
   ]
  },
  {
   "cell_type": "code",
   "execution_count": 2,
   "id": "hidden-concept",
   "metadata": {},
   "outputs": [
    {
     "name": "stdin",
     "output_type": "stream",
     "text": [
      " 0 10\n",
      " 0 10\n"
     ]
    }
   ],
   "source": [
    "a, b = map(int, input().split())\n",
    "c, d = map(int, input().split())"
   ]
  },
  {
   "cell_type": "code",
   "execution_count": 3,
   "id": "seventh-iraqi",
   "metadata": {},
   "outputs": [
    {
     "name": "stdout",
     "output_type": "stream",
     "text": [
      "10\n"
     ]
    }
   ],
   "source": [
    "result = b - c\n",
    "print(result)"
   ]
  },
  {
   "cell_type": "markdown",
   "id": "sustainable-pregnancy",
   "metadata": {},
   "source": [
    "### B - Round Down"
   ]
  },
  {
   "cell_type": "code",
   "execution_count": null,
   "id": "characteristic-causing",
   "metadata": {},
   "outputs": [],
   "source": []
  }
 ],
 "metadata": {
  "kernelspec": {
   "display_name": "Python 3",
   "language": "python",
   "name": "python3"
  },
  "language_info": {
   "codemirror_mode": {
    "name": "ipython",
    "version": 3
   },
   "file_extension": ".py",
   "mimetype": "text/x-python",
   "name": "python",
   "nbconvert_exporter": "python",
   "pygments_lexer": "ipython3",
   "version": "3.8.8"
  }
 },
 "nbformat": 4,
 "nbformat_minor": 5
}
