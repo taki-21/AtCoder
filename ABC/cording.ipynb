{
 "cells": [
  {
   "cell_type": "code",
   "execution_count": 1,
   "metadata": {},
   "outputs": [],
   "source": [
    "import numpy as np"
   ]
  },
  {
   "cell_type": "code",
   "execution_count": 2,
   "metadata": {},
   "outputs": [
    {
     "data": {
      "text/plain": [
       "array([1, 2])"
      ]
     },
     "execution_count": 2,
     "metadata": {},
     "output_type": "execute_result"
    }
   ],
   "source": [
    "np.array([1, 2])"
   ]
  },
  {
   "cell_type": "code",
   "execution_count": 12,
   "metadata": {},
   "outputs": [],
   "source": [
    "a = [\n",
    "    [1, '北海道', '帯広店', '1500'],\n",
    "    [1, '北海道', '帯広店', '1500'],\n",
    "    [1, '北海道', '札幌店', '2000'],\n",
    "    [1, '北海道', '帯広店', '6666'],\n",
    "    [13, '東京都', '日本橋店', '1400'],\n",
    "    [13, '東京都', '日本橋店', '1400'],\n",
    "    [2, '青森県', '鈴木店', '1500'],\n",
    "]"
   ]
  },
  {
   "cell_type": "code",
   "execution_count": 13,
   "metadata": {},
   "outputs": [
    {
     "data": {
      "text/plain": [
       "[[1, '北海道', '帯広店', '1500'],\n",
       " [1, '北海道', '帯広店', '1500'],\n",
       " [1, '北海道', '帯広店', '6666'],\n",
       " [1, '北海道', '札幌店', '2000'],\n",
       " [2, '青森県', '鈴木店', '1500'],\n",
       " [13, '東京都', '日本橋店', '1400'],\n",
       " [13, '東京都', '日本橋店', '1400']]"
      ]
     },
     "execution_count": 13,
     "metadata": {},
     "output_type": "execute_result"
    }
   ],
   "source": [
    "b = sorted(a, key=lambda a:(a[0], a[2]))\n",
    "b"
   ]
  },
  {
   "cell_type": "code",
   "execution_count": null,
   "metadata": {},
   "outputs": [],
   "source": []
  },
  {
   "cell_type": "code",
   "execution_count": null,
   "metadata": {},
   "outputs": [],
   "source": []
  }
 ],
 "metadata": {
  "kernelspec": {
   "display_name": "Python 3",
   "language": "python",
   "name": "python3"
  },
  "language_info": {
   "codemirror_mode": {
    "name": "ipython",
    "version": 3
   },
   "file_extension": ".py",
   "mimetype": "text/x-python",
   "name": "python",
   "nbconvert_exporter": "python",
   "pygments_lexer": "ipython3",
   "version": "3.7.4"
  }
 },
 "nbformat": 4,
 "nbformat_minor": 4
}
