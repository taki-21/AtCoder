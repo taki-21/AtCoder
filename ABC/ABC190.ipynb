{
 "cells": [
  {
   "cell_type": "markdown",
   "metadata": {},
   "source": [
    "### A - Very Very Primitive Game"
   ]
  },
  {
   "cell_type": "code",
   "execution_count": 8,
   "metadata": {},
   "outputs": [
    {
     "name": "stdin",
     "output_type": "stream",
     "text": [
      " 2 2 1\n"
     ]
    }
   ],
   "source": [
    "a, b, c = map(int, input().split())"
   ]
  },
  {
   "cell_type": "code",
   "execution_count": 9,
   "metadata": {},
   "outputs": [
    {
     "name": "stdout",
     "output_type": "stream",
     "text": [
      "Takahashi\n"
     ]
    }
   ],
   "source": [
    "if a > b:\n",
    "    print('Takahashi')\n",
    "elif a < b:\n",
    "    print('Aoki')\n",
    "else:\n",
    "    if c:\n",
    "        print('Takahashi')\n",
    "    else:\n",
    "        print('Aoki')"
   ]
  },
  {
   "cell_type": "markdown",
   "metadata": {},
   "source": [
    "### B - Magic 3"
   ]
  },
  {
   "cell_type": "code",
   "execution_count": 10,
   "metadata": {},
   "outputs": [
    {
     "name": "stdin",
     "output_type": "stream",
     "text": [
      " 4 9 9\n"
     ]
    }
   ],
   "source": [
    "n, s, d = map(int, input().split())"
   ]
  },
  {
   "cell_type": "code",
   "execution_count": 11,
   "metadata": {},
   "outputs": [
    {
     "name": "stdin",
     "output_type": "stream",
     "text": [
      " 5 5\n",
      " 15 5\n",
      " 5 15\n",
      " 15 15\n"
     ]
    },
    {
     "name": "stdout",
     "output_type": "stream",
     "text": [
      "Yes\n"
     ]
    }
   ],
   "source": [
    "damage = False\n",
    "for _ in range(n):\n",
    "    x, y = map(int, input().split())\n",
    "    if (x < s) and (y > d):\n",
    "        damage = True\n",
    "    else:\n",
    "        continue\n",
    "if damage:\n",
    "    print('Yes')\n",
    "else:\n",
    "    print('No')\n",
    "        "
   ]
  },
  {
   "cell_type": "code",
   "execution_count": 9,
   "metadata": {},
   "outputs": [
    {
     "data": {
      "text/plain": [
       "True"
      ]
     },
     "execution_count": 9,
     "metadata": {},
     "output_type": "execute_result"
    }
   ],
   "source": [
    "a = True\n",
    "b = False\n",
    "c = a|b\n",
    "c"
   ]
  },
  {
   "cell_type": "markdown",
   "metadata": {},
   "source": [
    "### C - Bowls and Dishes"
   ]
  },
  {
   "cell_type": "code",
   "execution_count": 46,
   "metadata": {},
   "outputs": [
    {
     "name": "stdin",
     "output_type": "stream",
     "text": [
      " 4 4\n",
      " 1 2\n",
      " 1 3\n",
      " 2 4\n",
      " 3 4\n",
      " 3\n",
      " 1 2\n",
      " 1 3\n",
      " 2 3\n"
     ]
    }
   ],
   "source": [
    "n, m = map(int, input().split())\n",
    "conditions = []\n",
    "for _ in range(m):\n",
    "    a, b = map(int, input().split())\n",
    "    conditions.append((a, b))\n",
    "k = int(input())\n",
    "people = []\n",
    "for _ in range(k):\n",
    "    c, d = map(int, input().split())\n",
    "    people.append((c, d))"
   ]
  },
  {
   "cell_type": "code",
   "execution_count": 47,
   "metadata": {},
   "outputs": [
    {
     "data": {
      "text/plain": [
       "[(1, 2), (1, 3), (2, 4), (3, 4)]"
      ]
     },
     "execution_count": 47,
     "metadata": {},
     "output_type": "execute_result"
    }
   ],
   "source": [
    "conditions"
   ]
  },
  {
   "cell_type": "code",
   "execution_count": 48,
   "metadata": {},
   "outputs": [
    {
     "data": {
      "text/plain": [
       "[(1, 2), (1, 3), (2, 3)]"
      ]
     },
     "execution_count": 48,
     "metadata": {},
     "output_type": "execute_result"
    }
   ],
   "source": [
    "people"
   ]
  },
  {
   "cell_type": "code",
   "execution_count": 65,
   "metadata": {},
   "outputs": [
    {
     "name": "stdout",
     "output_type": "stream",
     "text": [
      "{1, 2}\n",
      "{1, 3}\n",
      "{1, 2, 3}\n",
      "{1, 3}\n",
      "{1, 2}\n",
      "{1, 2, 3}\n",
      "{2, 3}\n",
      "{2, 3}\n",
      "2\n"
     ]
    }
   ],
   "source": [
    "import itertools\n",
    "\n",
    "ans = 0\n",
    "for balls in itertools.product(*people):\n",
    "    balls = set(balls)\n",
    "    print(balls)\n",
    "    cnt = sum((a in balls) and (b in balls) for a, b in conditions)\n",
    "    if ans < cnt:\n",
    "        ans = cnt\n",
    "print(ans)"
   ]
  },
  {
   "cell_type": "code",
   "execution_count": 79,
   "metadata": {},
   "outputs": [
    {
     "name": "stdout",
     "output_type": "stream",
     "text": [
      "[True, False, False, False]\n"
     ]
    },
    {
     "data": {
      "text/plain": [
       "2"
      ]
     },
     "execution_count": 79,
     "metadata": {},
     "output_type": "execute_result"
    }
   ],
   "source": [
    "balls = {1, 2}\n",
    "# for a, b in conditions:\n",
    "print(list((a in balls) and (b in balls) for a, b in conditions))\n",
    "#     print(a, b)\n",
    "#     print(a in balls and b in balls)\n",
    "a = [True, False, True, False]\n",
    "sum(a)"
   ]
  },
  {
   "cell_type": "code",
   "execution_count": 58,
   "metadata": {},
   "outputs": [
    {
     "name": "stdout",
     "output_type": "stream",
     "text": [
      "2\n"
     ]
    }
   ],
   "source": [
    "ans = 0\n",
    "cnt = [0] * 110\n",
    "for bit in range(1 << k):\n",
    "    for i in range(k):\n",
    "        cnt[people[i][(bit >> i) % 2]] += 1\n",
    "    temp = 0\n",
    "    for (a, b) in conditions:\n",
    "        if cnt[a] > 0 and cnt[b] > 0:\n",
    "            temp += 1\n",
    "    ans = max(ans, temp)\n",
    "    for i in range(k):\n",
    "        cnt[people[i][(bit >> i) % 2]] -= 1\n",
    "print(ans)"
   ]
  },
  {
   "cell_type": "code",
   "execution_count": null,
   "metadata": {},
   "outputs": [],
   "source": []
  },
  {
   "cell_type": "code",
   "execution_count": 57,
   "metadata": {},
   "outputs": [
    {
     "name": "stdout",
     "output_type": "stream",
     "text": [
      "0\n",
      "1\n",
      "1\n",
      "2\n",
      "1\n",
      "2\n",
      "3\n",
      "3\n",
      "2\n",
      "1\n",
      "1\n",
      "2\n",
      "3\n",
      "2\n",
      "3\n",
      "3\n",
      "4\n",
      "1\n",
      "1\n",
      "2\n",
      "5\n",
      "2\n",
      "3\n",
      "3\n",
      "6\n",
      "1\n",
      "1\n",
      "2\n",
      "7\n",
      "2\n",
      "3\n",
      "3\n"
     ]
    }
   ],
   "source": [
    "for bit in range(1 << 3):\n",
    "    print(bit)\n",
    "    for i in range(3):\n",
    "        print(people[i][(bit >> 0) % 2])"
   ]
  },
  {
   "cell_type": "code",
   "execution_count": null,
   "metadata": {},
   "outputs": [],
   "source": []
  },
  {
   "cell_type": "code",
   "execution_count": null,
   "metadata": {},
   "outputs": [],
   "source": []
  },
  {
   "cell_type": "code",
   "execution_count": null,
   "metadata": {},
   "outputs": [],
   "source": []
  },
  {
   "cell_type": "code",
   "execution_count": null,
   "metadata": {},
   "outputs": [],
   "source": []
  },
  {
   "cell_type": "code",
   "execution_count": null,
   "metadata": {},
   "outputs": [],
   "source": []
  },
  {
   "cell_type": "markdown",
   "metadata": {},
   "source": [
    "#### ビット全探索"
   ]
  },
  {
   "cell_type": "code",
   "execution_count": 38,
   "metadata": {},
   "outputs": [
    {
     "name": "stdout",
     "output_type": "stream",
     "text": [
      "0b101\n",
      "0b0\n",
      "0\n"
     ]
    }
   ],
   "source": [
    "i = 5\n",
    "n = 10\n",
    "print(bin(i))\n",
    "print(bin(i >> n))\n",
    "print((i>>n) & 1)"
   ]
  },
  {
   "cell_type": "code",
   "execution_count": 30,
   "metadata": {},
   "outputs": [
    {
     "data": {
      "text/plain": [
       "'0b1'"
      ]
     },
     "execution_count": 30,
     "metadata": {},
     "output_type": "execute_result"
    }
   ],
   "source": [
    "i = 5\n",
    "bin(i)\n",
    "bin(i >> 2)"
   ]
  },
  {
   "cell_type": "code",
   "execution_count": 37,
   "metadata": {},
   "outputs": [
    {
     "name": "stdout",
     "output_type": "stream",
     "text": [
      "0 []\n",
      "100 ['みかん']\n",
      "200 ['りんご']\n",
      "300 ['みかん', 'りんご']\n",
      "300 ['ぶどう']\n"
     ]
    }
   ],
   "source": [
    "money = 300\n",
    "item = ((\"みかん\", 100), (\"りんご\", 200), (\"ぶどう\", 300))\n",
    "n = len(item)\n",
    "for i in range(2**n):\n",
    "    bag = []\n",
    "    total = 0\n",
    "    for j in range(n):\n",
    "        if((i >> j) & 1):\n",
    "            bag.append(item[j][0])\n",
    "            total += item[j][1]\n",
    "    if (total <= money):\n",
    "        print(total, bag)"
   ]
  },
  {
   "cell_type": "code",
   "execution_count": null,
   "metadata": {},
   "outputs": [],
   "source": []
  }
 ],
 "metadata": {
  "kernelspec": {
   "display_name": "Python 3",
   "language": "python",
   "name": "python3"
  },
  "language_info": {
   "codemirror_mode": {
    "name": "ipython",
    "version": 3
   },
   "file_extension": ".py",
   "mimetype": "text/x-python",
   "name": "python",
   "nbconvert_exporter": "python",
   "pygments_lexer": "ipython3",
   "version": "3.8.5"
  }
 },
 "nbformat": 4,
 "nbformat_minor": 4
}
