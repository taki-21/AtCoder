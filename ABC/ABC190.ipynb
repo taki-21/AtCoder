{
 "cells": [
  {
   "cell_type": "markdown",
   "metadata": {},
   "source": [
    "### A - Very Very Primitive Game"
   ]
  },
  {
   "cell_type": "code",
   "execution_count": 8,
   "metadata": {},
   "outputs": [
    {
     "name": "stdin",
     "output_type": "stream",
     "text": [
      " 2 2 1\n"
     ]
    }
   ],
   "source": [
    "a, b, c = map(int, input().split())"
   ]
  },
  {
   "cell_type": "code",
   "execution_count": 9,
   "metadata": {},
   "outputs": [
    {
     "name": "stdout",
     "output_type": "stream",
     "text": [
      "Takahashi\n"
     ]
    }
   ],
   "source": [
    "if a > b:\n",
    "    print('Takahashi')\n",
    "elif a < b:\n",
    "    print('Aoki')\n",
    "else:\n",
    "    if c:\n",
    "        print('Takahashi')\n",
    "    else:\n",
    "        print('Aoki')"
   ]
  },
  {
   "cell_type": "markdown",
   "metadata": {},
   "source": [
    "### B - Magic 3"
   ]
  },
  {
   "cell_type": "code",
   "execution_count": 10,
   "metadata": {},
   "outputs": [
    {
     "name": "stdin",
     "output_type": "stream",
     "text": [
      " 4 9 9\n"
     ]
    }
   ],
   "source": [
    "n, s, d = map(int, input().split())"
   ]
  },
  {
   "cell_type": "code",
   "execution_count": 11,
   "metadata": {},
   "outputs": [
    {
     "name": "stdin",
     "output_type": "stream",
     "text": [
      " 5 5\n",
      " 15 5\n",
      " 5 15\n",
      " 15 15\n"
     ]
    },
    {
     "name": "stdout",
     "output_type": "stream",
     "text": [
      "Yes\n"
     ]
    }
   ],
   "source": [
    "damage = False\n",
    "for _ in range(n):\n",
    "    x, y = map(int, input().split())\n",
    "    if (x < s) and (y > d):\n",
    "        damage = True\n",
    "    else:\n",
    "        continue\n",
    "if damage:\n",
    "    print('Yes')\n",
    "else:\n",
    "    print('No')\n",
    "        "
   ]
  },
  {
   "cell_type": "code",
   "execution_count": 9,
   "metadata": {},
   "outputs": [
    {
     "data": {
      "text/plain": [
       "True"
      ]
     },
     "execution_count": 9,
     "metadata": {},
     "output_type": "execute_result"
    }
   ],
   "source": [
    "a = True\n",
    "b = False\n",
    "c = a|b\n",
    "c"
   ]
  },
  {
   "cell_type": "markdown",
   "metadata": {},
   "source": [
    "### C - Bowls and Dishes"
   ]
  },
  {
   "cell_type": "code",
   "execution_count": null,
   "metadata": {},
   "outputs": [],
   "source": []
  },
  {
   "cell_type": "code",
   "execution_count": null,
   "metadata": {},
   "outputs": [],
   "source": []
  },
  {
   "cell_type": "markdown",
   "metadata": {},
   "source": [
    "#### ビット全探索"
   ]
  },
  {
   "cell_type": "code",
   "execution_count": 38,
   "metadata": {},
   "outputs": [
    {
     "name": "stdout",
     "output_type": "stream",
     "text": [
      "0b101\n",
      "0b0\n",
      "0\n"
     ]
    }
   ],
   "source": [
    "i = 5\n",
    "n = 10\n",
    "print(bin(i))\n",
    "print(bin(i >> n))\n",
    "print((i>>n) & 1)"
   ]
  },
  {
   "cell_type": "code",
   "execution_count": 30,
   "metadata": {},
   "outputs": [
    {
     "data": {
      "text/plain": [
       "'0b1'"
      ]
     },
     "execution_count": 30,
     "metadata": {},
     "output_type": "execute_result"
    }
   ],
   "source": [
    "i = 5\n",
    "bin(i)\n",
    "bin(i >> 2)"
   ]
  },
  {
   "cell_type": "code",
   "execution_count": 37,
   "metadata": {},
   "outputs": [
    {
     "name": "stdout",
     "output_type": "stream",
     "text": [
      "0 []\n",
      "100 ['みかん']\n",
      "200 ['りんご']\n",
      "300 ['みかん', 'りんご']\n",
      "300 ['ぶどう']\n"
     ]
    }
   ],
   "source": [
    "money = 300\n",
    "item = ((\"みかん\", 100), (\"りんご\", 200), (\"ぶどう\", 300))\n",
    "n = len(item)\n",
    "for i in range(2**n):\n",
    "    bag = []\n",
    "    total = 0\n",
    "    for j in range(n):\n",
    "        if((i >> j) & 1):\n",
    "            bag.append(item[j][0])\n",
    "            total += item[j][1]\n",
    "    if (total <= money):\n",
    "        print(total, bag)"
   ]
  },
  {
   "cell_type": "code",
   "execution_count": null,
   "metadata": {},
   "outputs": [],
   "source": []
  }
 ],
 "metadata": {
  "kernelspec": {
   "display_name": "Python 3",
   "language": "python",
   "name": "python3"
  },
  "language_info": {
   "codemirror_mode": {
    "name": "ipython",
    "version": 3
   },
   "file_extension": ".py",
   "mimetype": "text/x-python",
   "name": "python",
   "nbconvert_exporter": "python",
   "pygments_lexer": "ipython3",
   "version": "3.8.5"
  }
 },
 "nbformat": 4,
 "nbformat_minor": 4
}
