{
 "cells": [
  {
   "cell_type": "markdown",
   "id": "relevant-cross",
   "metadata": {},
   "source": [
    "### A - Favorite Sound"
   ]
  },
  {
   "cell_type": "code",
   "execution_count": 17,
   "id": "insured-cartridge",
   "metadata": {},
   "outputs": [
    {
     "name": "stdin",
     "output_type": "stream",
     "text": [
      " 100 1 10\n"
     ]
    }
   ],
   "source": [
    "a, b, c = map(int, input().split())"
   ]
  },
  {
   "cell_type": "code",
   "execution_count": 18,
   "id": "therapeutic-enhancement",
   "metadata": {},
   "outputs": [
    {
     "name": "stdout",
     "output_type": "stream",
     "text": [
      "0\n"
     ]
    }
   ],
   "source": [
    "result = b // a\n",
    "if result > c:\n",
    "    result = c\n",
    "print(result)"
   ]
  },
  {
   "cell_type": "markdown",
   "id": "shaped-glenn",
   "metadata": {},
   "source": [
    "### B - K-th Common Divisor"
   ]
  },
  {
   "cell_type": "code",
   "execution_count": 20,
   "id": "touched-helping",
   "metadata": {},
   "outputs": [
    {
     "name": "stdin",
     "output_type": "stream",
     "text": [
      " 100 50 4\n"
     ]
    }
   ],
   "source": [
    "a, b, k = map(int, input().split())"
   ]
  },
  {
   "cell_type": "code",
   "execution_count": 22,
   "id": "applicable-playback",
   "metadata": {},
   "outputs": [
    {
     "name": "stdout",
     "output_type": "stream",
     "text": [
      "[1, 2, 5, 10, 25, 50]\n",
      "5\n"
     ]
    }
   ],
   "source": [
    "common_divisor = []\n",
    "for i in range(1, max(a, b)+1):\n",
    "    if (a % i == 0) and (b % i == 0):\n",
    "        common_divisor.append(i)\n",
    "\n",
    "print(common_divisor[-k])"
   ]
  },
  {
   "cell_type": "markdown",
   "id": "legendary-manchester",
   "metadata": {},
   "source": [
    "### C - Unification"
   ]
  },
  {
   "cell_type": "code",
   "execution_count": 6,
   "id": "residential-product",
   "metadata": {},
   "outputs": [
    {
     "name": "stdin",
     "output_type": "stream",
     "text": [
      " 0011\n"
     ]
    }
   ],
   "source": [
    "s = input() "
   ]
  },
  {
   "cell_type": "code",
   "execution_count": 7,
   "id": "fabulous-litigation",
   "metadata": {},
   "outputs": [
    {
     "data": {
      "text/plain": [
       "'0011'"
      ]
     },
     "execution_count": 7,
     "metadata": {},
     "output_type": "execute_result"
    }
   ],
   "source": [
    "s"
   ]
  },
  {
   "cell_type": "code",
   "execution_count": 8,
   "id": "sophisticated-visit",
   "metadata": {
    "tags": []
   },
   "outputs": [],
   "source": [
    "# ans = 0\n",
    "# for i in range(len(s)-1):\n",
    "#     if s[i] != s[i+1]:\n",
    "#         s = s[:i] + s[i+2:]\n",
    "#         ans += 2\n",
    "#         continue\n",
    "# remove_cube(s, ans)\n",
    "# print(ans)"
   ]
  },
  {
   "cell_type": "code",
   "execution_count": 13,
   "id": "accessory-innocent",
   "metadata": {},
   "outputs": [
    {
     "name": "stdout",
     "output_type": "stream",
     "text": [
      "4\n"
     ]
    }
   ],
   "source": [
    "z = 0\n",
    "o = 0\n",
    "for i in s:\n",
    "    if i == '0':\n",
    "        z += 1\n",
    "    else:\n",
    "        o += 1\n",
    "print(min(z, o) * 2)"
   ]
  },
  {
   "cell_type": "code",
   "execution_count": 33,
   "id": "second-oasis",
   "metadata": {},
   "outputs": [
    {
     "data": {
      "text/plain": [
       "0"
      ]
     },
     "execution_count": 33,
     "metadata": {},
     "output_type": "execute_result"
    }
   ],
   "source": [
    "def remove_cube(s, ans):\n",
    "    for i in range(len(s) - 1):\n",
    "        print('s_1: ', s)\n",
    "        print('i: ', i)\n",
    "        if s[i] != s[i+1]:\n",
    "            s = s[:i] + s[(i+2):]\n",
    "            print('s_2: ', s)\n",
    "            ans += 2\n",
    "            if s == '':\n",
    "                return ans\n",
    "            remove_cube(s, ans)\n",
    "    return ans\n",
    "\n",
    "remove_cube( '', ans=0)"
   ]
  }
 ],
 "metadata": {
  "kernelspec": {
   "display_name": "Python 3",
   "language": "python",
   "name": "python3"
  },
  "language_info": {
   "codemirror_mode": {
    "name": "ipython",
    "version": 3
   },
   "file_extension": ".py",
   "mimetype": "text/x-python",
   "name": "python",
   "nbconvert_exporter": "python",
   "pygments_lexer": "ipython3",
   "version": "3.7.9"
  }
 },
 "nbformat": 4,
 "nbformat_minor": 5
}
