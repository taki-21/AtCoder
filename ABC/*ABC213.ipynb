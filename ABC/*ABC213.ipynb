{
 "cells": [
  {
   "cell_type": "markdown",
   "metadata": {},
   "source": [
    "### A"
   ]
  },
  {
   "cell_type": "code",
   "execution_count": 10,
   "metadata": {},
   "outputs": [
    {
     "name": "stdin",
     "output_type": "stream",
     "text": [
      " 10 12\n"
     ]
    }
   ],
   "source": [
    "a, b = map(int, input().split())"
   ]
  },
  {
   "cell_type": "code",
   "execution_count": 11,
   "metadata": {},
   "outputs": [
    {
     "data": {
      "text/plain": [
       "6"
      ]
     },
     "execution_count": 11,
     "metadata": {},
     "output_type": "execute_result"
    }
   ],
   "source": [
    "(a ^ b)"
   ]
  },
  {
   "cell_type": "code",
   "execution_count": null,
   "metadata": {},
   "outputs": [],
   "source": []
  },
  {
   "cell_type": "code",
   "execution_count": null,
   "metadata": {},
   "outputs": [],
   "source": []
  },
  {
   "cell_type": "code",
   "execution_count": null,
   "metadata": {},
   "outputs": [],
   "source": []
  },
  {
   "cell_type": "markdown",
   "metadata": {},
   "source": [
    "### B"
   ]
  },
  {
   "cell_type": "code",
   "execution_count": 34,
   "metadata": {},
   "outputs": [
    {
     "name": "stdin",
     "output_type": "stream",
     "text": [
      " 6\n",
      " 1 123 12345 12 1234 123456\n"
     ]
    }
   ],
   "source": [
    "n = int(input())\n",
    "a_list = list(map(int, input().split()))"
   ]
  },
  {
   "cell_type": "code",
   "execution_count": 35,
   "metadata": {},
   "outputs": [],
   "source": [
    "import numpy as np\n",
    "A = np.array(a_list)\n",
    "ans = A.argsort()[::-1][1]"
   ]
  },
  {
   "cell_type": "code",
   "execution_count": 36,
   "metadata": {},
   "outputs": [
    {
     "name": "stdout",
     "output_type": "stream",
     "text": [
      "3\n"
     ]
    }
   ],
   "source": [
    "print(ans+1)"
   ]
  },
  {
   "cell_type": "code",
   "execution_count": null,
   "metadata": {},
   "outputs": [],
   "source": []
  },
  {
   "cell_type": "code",
   "execution_count": null,
   "metadata": {},
   "outputs": [],
   "source": []
  },
  {
   "cell_type": "code",
   "execution_count": null,
   "metadata": {},
   "outputs": [],
   "source": []
  },
  {
   "cell_type": "code",
   "execution_count": null,
   "metadata": {},
   "outputs": [],
   "source": []
  },
  {
   "cell_type": "markdown",
   "metadata": {},
   "source": [
    "### C"
   ]
  },
  {
   "cell_type": "code",
   "execution_count": 166,
   "metadata": {},
   "outputs": [
    {
     "name": "stdin",
     "output_type": "stream",
     "text": [
      " 4 5 2\n"
     ]
    }
   ],
   "source": [
    "h, w, n = map(int, input().split())"
   ]
  },
  {
   "cell_type": "code",
   "execution_count": 175,
   "metadata": {},
   "outputs": [
    {
     "name": "stdin",
     "output_type": "stream",
     "text": [
      " 4 1\n",
      " 1 5\n"
     ]
    },
    {
     "data": {
      "text/plain": [
       "[[4, 1], [1, 5]]"
      ]
     },
     "execution_count": 175,
     "metadata": {},
     "output_type": "execute_result"
    }
   ],
   "source": [
    "ab_list = []\n",
    "for _ in range(n):\n",
    "    ab = list(map(int, input().split()))\n",
    "    ab_list.append(ab)\n",
    "ab_list"
   ]
  },
  {
   "cell_type": "code",
   "execution_count": 176,
   "metadata": {},
   "outputs": [
    {
     "data": {
      "text/plain": [
       "array([1, 0])"
      ]
     },
     "execution_count": 176,
     "metadata": {},
     "output_type": "execute_result"
    }
   ],
   "source": [
    "row_list = [x[0] for x in ab_list]\n",
    "A=np.array(row_list)\n",
    "row_idx_list = A.argsort()\n",
    "row_idx_list"
   ]
  },
  {
   "cell_type": "code",
   "execution_count": 177,
   "metadata": {},
   "outputs": [
    {
     "data": {
      "text/plain": [
       "[0, 2]"
      ]
     },
     "execution_count": 177,
     "metadata": {},
     "output_type": "execute_result"
    }
   ],
   "source": [
    "sorted_ab_list = sorted(ab_list, key=lambda x: x[0])\n",
    "ans = sorted_ab_list[0][0] - 1\n",
    "delete_row = [ans]\n",
    "for i in range(1, n):\n",
    "    add = max(0, sorted_ab_list[i][0] - sorted_ab_list[i-1][0] - 1)\n",
    "    ans += add\n",
    "    delete_row.append(ans)\n",
    "delete_row"
   ]
  },
  {
   "cell_type": "code",
   "execution_count": 178,
   "metadata": {},
   "outputs": [
    {
     "data": {
      "text/plain": [
       "array([0, 1])"
      ]
     },
     "execution_count": 178,
     "metadata": {},
     "output_type": "execute_result"
    }
   ],
   "source": [
    "column_list = [x[1] for x in ab_list]\n",
    "A=np.array(column_list)\n",
    "column_idx_list = A.argsort()\n",
    "column_idx_list"
   ]
  },
  {
   "cell_type": "code",
   "execution_count": 179,
   "metadata": {},
   "outputs": [
    {
     "data": {
      "text/plain": [
       "[0, 3]"
      ]
     },
     "execution_count": 179,
     "metadata": {},
     "output_type": "execute_result"
    }
   ],
   "source": [
    "sorted_ab_list = sorted(ab_list, key=lambda x: x[1])\n",
    "ans = sorted_ab_list[0][1] - 1\n",
    "delete_column = [ans]\n",
    "for i in range(1, n):\n",
    "    add = max(0, sorted_ab_list[i][1] - sorted_ab_list[i-1][1] - 1)\n",
    "    ans += add\n",
    "    delete_column.append(ans)\n",
    "delete_column"
   ]
  },
  {
   "cell_type": "code",
   "execution_count": 180,
   "metadata": {},
   "outputs": [
    {
     "name": "stdout",
     "output_type": "stream",
     "text": [
      "1\n",
      "0\n"
     ]
    }
   ],
   "source": [
    "for i, j in zip(row_idx_list, delete_row):\n",
    "    print(i)\n",
    "    ab_list[i][0] -= j\n",
    "for i, j in zip(column_idx_list, delete_column):\n",
    "    ab_list[i][1] -= j"
   ]
  },
  {
   "cell_type": "code",
   "execution_count": 181,
   "metadata": {},
   "outputs": [
    {
     "data": {
      "text/plain": [
       "[[2, 1], [1, 2]]"
      ]
     },
     "execution_count": 181,
     "metadata": {},
     "output_type": "execute_result"
    }
   ],
   "source": [
    "ab_list"
   ]
  },
  {
   "cell_type": "code",
   "execution_count": 182,
   "metadata": {},
   "outputs": [
    {
     "name": "stdout",
     "output_type": "stream",
     "text": [
      "2 1\n",
      "1 2\n"
     ]
    }
   ],
   "source": [
    "for i in ab_list:\n",
    "    a, b = i\n",
    "    print(a, b)"
   ]
  },
  {
   "cell_type": "code",
   "execution_count": null,
   "metadata": {},
   "outputs": [],
   "source": []
  },
  {
   "cell_type": "markdown",
   "metadata": {},
   "source": [
    "### D"
   ]
  },
  {
   "cell_type": "code",
   "execution_count": 184,
   "metadata": {},
   "outputs": [
    {
     "name": "stdin",
     "output_type": "stream",
     "text": [
      " 4\n",
      " 1 2\n",
      " 4 2\n",
      " 3 1\n"
     ]
    }
   ],
   "source": [
    "n = int(input())\n",
    "ab_list = []\n",
    "for _ in range(n-1):\n",
    "    a, b = map(int, input().split())\n",
    "    ab_list.append([a, b])"
   ]
  },
  {
   "cell_type": "code",
   "execution_count": 199,
   "metadata": {},
   "outputs": [
    {
     "data": {
      "text/plain": [
       "[[1, 2], [4, 2], [3, 1]]"
      ]
     },
     "execution_count": 199,
     "metadata": {},
     "output_type": "execute_result"
    }
   ],
   "source": [
    "ab_list"
   ]
  },
  {
   "cell_type": "code",
   "execution_count": 217,
   "metadata": {},
   "outputs": [
    {
     "data": {
      "text/plain": [
       "{1: [2, 3], 2: [1, 4], 4: [2], 3: [1]}"
      ]
     },
     "execution_count": 217,
     "metadata": {},
     "output_type": "execute_result"
    }
   ],
   "source": [
    "route_dict = {}\n",
    "# for i in range(1, n+1):\n",
    "#     route_dict[i] = []\n",
    "for route in ab_list:\n",
    "    key_0 = route[0]\n",
    "    key_1 = route[1]\n",
    "    if key_0 not in route_dict:    #1\n",
    "        route_dict[key_0] = []\n",
    "    route_dict[key_0].append(key_1) #3\n",
    "    if key_1 not in route_dict:    #1\n",
    "        route_dict[key_1] = []\n",
    "    route_dict[key_1].append(key_0) #3\n",
    "route_dict"
   ]
  },
  {
   "cell_type": "code",
   "execution_count": 212,
   "metadata": {},
   "outputs": [
    {
     "data": {
      "text/plain": [
       "{1: [2, 3], 2: [1, 4], 3: [1], 4: [2]}"
      ]
     },
     "execution_count": 212,
     "metadata": {},
     "output_type": "execute_result"
    }
   ],
   "source": [
    "route_dict = {}\n",
    "for i in range(1, n+1):\n",
    "    route_dict[i] = []\n",
    "for route in ab_list:\n",
    "    route_dict[route[0]] += [route[1]]\n",
    "    route_dict[route[1]] += [route[0]]\n",
    "route_dict"
   ]
  },
  {
   "cell_type": "code",
   "execution_count": 214,
   "metadata": {},
   "outputs": [],
   "source": [
    "now = 1\n",
    "end_route = [now]\n",
    "while True:\n",
    "    pos_list = route_dict[now]\n",
    "    for i in end_route:\n",
    "        if i in pos_list:\n",
    "            pos_list.remove(i)\n",
    "    if len(pos_list) == 0:\n",
    "        if now == 1:\n",
    "            break\n",
    "        else:\n",
    "            next_city = end_route[end_route.index(now) - 1]\n",
    "    else:\n",
    "        next_city = min(pos_list)\n",
    "    end_route.append(next_city)\n",
    "    now = next_city"
   ]
  },
  {
   "cell_type": "code",
   "execution_count": 216,
   "metadata": {},
   "outputs": [
    {
     "name": "stdout",
     "output_type": "stream",
     "text": [
      "1 2 4 2 1 3 1\n"
     ]
    }
   ],
   "source": [
    "print(*end_route)"
   ]
  },
  {
   "cell_type": "code",
   "execution_count": 206,
   "metadata": {},
   "outputs": [
    {
     "data": {
      "text/plain": [
       "1"
      ]
     },
     "execution_count": 206,
     "metadata": {},
     "output_type": "execute_result"
    }
   ],
   "source": [
    "a = [1, 2, 5, 3]\n",
    "a.index(5) - 1"
   ]
  },
  {
   "cell_type": "code",
   "execution_count": null,
   "metadata": {},
   "outputs": [],
   "source": []
  }
 ],
 "metadata": {
  "kernelspec": {
   "display_name": "Python 3",
   "language": "python",
   "name": "python3"
  },
  "language_info": {
   "codemirror_mode": {
    "name": "ipython",
    "version": 3
   },
   "file_extension": ".py",
   "mimetype": "text/x-python",
   "name": "python",
   "nbconvert_exporter": "python",
   "pygments_lexer": "ipython3",
   "version": "3.7.4"
  }
 },
 "nbformat": 4,
 "nbformat_minor": 4
}
