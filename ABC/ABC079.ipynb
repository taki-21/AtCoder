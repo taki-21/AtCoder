{
 "cells": [
  {
   "cell_type": "markdown",
   "metadata": {},
   "source": [
    "### C - Train Ticket"
   ]
  },
  {
   "cell_type": "code",
   "execution_count": 5,
   "metadata": {},
   "outputs": [
    {
     "name": "stdin",
     "output_type": "stream",
     "text": [
      " 1 2 2 2\n"
     ]
    }
   ],
   "source": [
    "num = list(map(int, input().split()))"
   ]
  },
  {
   "cell_type": "code",
   "execution_count": 6,
   "metadata": {},
   "outputs": [
    {
     "data": {
      "text/plain": [
       "[1, 2, 2, 2]"
      ]
     },
     "execution_count": 6,
     "metadata": {},
     "output_type": "execute_result"
    }
   ],
   "source": [
    "num"
   ]
  },
  {
   "cell_type": "code",
   "execution_count": 11,
   "metadata": {},
   "outputs": [],
   "source": [
    "op_cnt = len(num)-1"
   ]
  },
  {
   "cell_type": "code",
   "execution_count": 13,
   "metadata": {},
   "outputs": [
    {
     "name": "stdout",
     "output_type": "stream",
     "text": [
      "['-', '-', '-']\n",
      "['-', '-', '+']\n",
      "['-', '+', '-']\n",
      "['-', '+', '+']\n",
      "['+', '-', '-']\n",
      "['+', '-', '+']\n",
      "['+', '+', '-']\n",
      "['+', '+', '+']\n"
     ]
    }
   ],
   "source": [
    "for i in range(2**op_cnt):\n",
    "    op = ['-'] * op_cnt\n",
    "    for j in range(op_cnt):\n",
    "        if((i >> j) & 1):\n",
    "            op[op_cnt - 1 - j] = '+'\n",
    "    print(op)"
   ]
  },
  {
   "cell_type": "code",
   "execution_count": 19,
   "metadata": {},
   "outputs": [
    {
     "name": "stdin",
     "output_type": "stream",
     "text": [
      " 3242\n"
     ]
    },
    {
     "name": "stdout",
     "output_type": "stream",
     "text": [
      "3-2+4+2=7\n"
     ]
    }
   ],
   "source": [
    "n = input()\n",
    "op_cnt = len(n) - 1  # すき間の個数\n",
    "for i in range(2 ** op_cnt):\n",
    "    op = [\"-\"] * op_cnt  # あらかじめ [\"-\", \"-\", \"-\"] というリストを作っておく\n",
    "    for j in range(op_cnt):\n",
    "        if ((i >> j) & 1):\n",
    "            op[op_cnt - 1 - j] = \"+\"  # フラグが立っていた箇所を \"+\" で上書き\n",
    "            \n",
    "    formula = ''\n",
    "    for p_n, p_o in zip(n, op + ['']):\n",
    "        formula += (p_n + p_o)\n",
    "    if eval(formula) == 7:\n",
    "        print(formula + '=7')\n",
    "        break"
   ]
  },
  {
   "cell_type": "code",
   "execution_count": 21,
   "metadata": {},
   "outputs": [
    {
     "data": {
      "text/plain": [
       "int"
      ]
     },
     "execution_count": 21,
     "metadata": {},
     "output_type": "execute_result"
    }
   ],
   "source": [
    "type(eval('3 + 2'))"
   ]
  },
  {
   "cell_type": "markdown",
   "metadata": {},
   "source": [
    "------------------"
   ]
  },
  {
   "cell_type": "code",
   "execution_count": 19,
   "metadata": {},
   "outputs": [
    {
     "name": "stdin",
     "output_type": "stream",
     "text": [
      " 1234\n"
     ]
    }
   ],
   "source": [
    "n = [int(x) for x in input()]"
   ]
  },
  {
   "cell_type": "code",
   "execution_count": 20,
   "metadata": {},
   "outputs": [
    {
     "data": {
      "text/plain": [
       "[1, 2, 3, 4]"
      ]
     },
     "execution_count": 20,
     "metadata": {},
     "output_type": "execute_result"
    }
   ],
   "source": [
    "n"
   ]
  },
  {
   "cell_type": "code",
   "execution_count": 21,
   "metadata": {},
   "outputs": [
    {
     "data": {
      "text/plain": [
       "3"
      ]
     },
     "execution_count": 21,
     "metadata": {},
     "output_type": "execute_result"
    }
   ],
   "source": [
    "op_cnt = len(n) - 1\n",
    "op_cnt"
   ]
  },
  {
   "cell_type": "code",
   "execution_count": 24,
   "metadata": {},
   "outputs": [
    {
     "name": "stdout",
     "output_type": "stream",
     "text": [
      "0\n",
      "['-', '-', '-']\n",
      "1\n",
      "['-', '-', '+']\n",
      "2\n",
      "['-', '+', '-']\n",
      "3\n",
      "['-', '+', '+']\n",
      "4\n",
      "['+', '-', '-']\n",
      "5\n",
      "['+', '-', '+']\n",
      "6\n",
      "['+', '+', '-']\n",
      "7\n",
      "['+', '+', '+']\n"
     ]
    }
   ],
   "source": [
    "for i in range(2 ** op_cnt):\n",
    "    print(i)\n",
    "    op = ['-'] * op_cnt  # あらかじめ[\"-\", \"-\", \"-\"] というリストをつくっておく。\n",
    "    for j in range(op_cnt):\n",
    "        if ((i >> j) & 1):\n",
    "            op[op_cnt - 1 - j] = '+' # フラグが立っている場所は'+'で上書き\n",
    "    print(op)\n",
    "#     formula = ''\n",
    "#     for p_n, p_o zip(n, op + ['']):\n",
    "        "
   ]
  },
  {
   "cell_type": "code",
   "execution_count": 27,
   "metadata": {},
   "outputs": [
    {
     "data": {
      "text/plain": [
       "'0b10'"
      ]
     },
     "execution_count": 27,
     "metadata": {},
     "output_type": "execute_result"
    }
   ],
   "source": []
  },
  {
   "cell_type": "code",
   "execution_count": 32,
   "metadata": {},
   "outputs": [
    {
     "data": {
      "text/plain": [
       "'0b10'"
      ]
     },
     "execution_count": 32,
     "metadata": {},
     "output_type": "execute_result"
    }
   ],
   "source": [
    "bin(8 >> 2)"
   ]
  },
  {
   "cell_type": "code",
   "execution_count": 33,
   "metadata": {},
   "outputs": [
    {
     "data": {
      "text/plain": [
       "'0b1'"
      ]
     },
     "execution_count": 33,
     "metadata": {},
     "output_type": "execute_result"
    }
   ],
   "source": [
    "bin(1)"
   ]
  },
  {
   "cell_type": "code",
   "execution_count": 34,
   "metadata": {},
   "outputs": [
    {
     "data": {
      "text/plain": [
       "'0b0'"
      ]
     },
     "execution_count": 34,
     "metadata": {},
     "output_type": "execute_result"
    }
   ],
   "source": [
    "bin((8 >> 2) & 1)"
   ]
  },
  {
   "cell_type": "code",
   "execution_count": 36,
   "metadata": {},
   "outputs": [
    {
     "name": "stdout",
     "output_type": "stream",
     "text": [
      "2\n",
      "0b10\n"
     ]
    }
   ],
   "source": [
    "x = 7   # 0b0111\n",
    "y = 10  # 0b1010\n",
    "\n",
    "print(x & y)\n",
    "print(bin(x & y))\n",
    "# 8\n",
    "# 0b1000"
   ]
  },
  {
   "cell_type": "code",
   "execution_count": 37,
   "metadata": {},
   "outputs": [
    {
     "data": {
      "text/plain": [
       "'0b111'"
      ]
     },
     "execution_count": 37,
     "metadata": {},
     "output_type": "execute_result"
    }
   ],
   "source": [
    "bin(7)"
   ]
  },
  {
   "cell_type": "code",
   "execution_count": null,
   "metadata": {},
   "outputs": [],
   "source": []
  }
 ],
 "metadata": {
  "kernelspec": {
   "display_name": "Python 3",
   "language": "python",
   "name": "python3"
  },
  "language_info": {
   "codemirror_mode": {
    "name": "ipython",
    "version": 3
   },
   "file_extension": ".py",
   "mimetype": "text/x-python",
   "name": "python",
   "nbconvert_exporter": "python",
   "pygments_lexer": "ipython3",
   "version": "3.8.5"
  }
 },
 "nbformat": 4,
 "nbformat_minor": 4
}
