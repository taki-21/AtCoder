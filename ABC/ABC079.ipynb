{
 "cells": [
  {
   "cell_type": "markdown",
   "metadata": {},
   "source": [
    "### C - Train Ticket"
   ]
  },
  {
   "cell_type": "code",
   "execution_count": 5,
   "metadata": {},
   "outputs": [
    {
     "name": "stdin",
     "output_type": "stream",
     "text": [
      " 1 2 2 2\n"
     ]
    }
   ],
   "source": [
    "num = list(map(int, input().split()))"
   ]
  },
  {
   "cell_type": "code",
   "execution_count": 6,
   "metadata": {},
   "outputs": [
    {
     "data": {
      "text/plain": [
       "[1, 2, 2, 2]"
      ]
     },
     "execution_count": 6,
     "metadata": {},
     "output_type": "execute_result"
    }
   ],
   "source": [
    "num"
   ]
  },
  {
   "cell_type": "code",
   "execution_count": 11,
   "metadata": {},
   "outputs": [],
   "source": [
    "op_cnt = len(num)-1"
   ]
  },
  {
   "cell_type": "code",
   "execution_count": 13,
   "metadata": {},
   "outputs": [
    {
     "name": "stdout",
     "output_type": "stream",
     "text": [
      "['-', '-', '-']\n",
      "['-', '-', '+']\n",
      "['-', '+', '-']\n",
      "['-', '+', '+']\n",
      "['+', '-', '-']\n",
      "['+', '-', '+']\n",
      "['+', '+', '-']\n",
      "['+', '+', '+']\n"
     ]
    }
   ],
   "source": [
    "for i in range(2**op_cnt):\n",
    "    op = ['-'] * op_cnt\n",
    "    for j in range(op_cnt):\n",
    "        if((i >> j) & 1):\n",
    "            op[op_cnt - 1 - j] = '+'\n",
    "    print(op)"
   ]
  },
  {
   "cell_type": "code",
   "execution_count": 19,
   "metadata": {},
   "outputs": [
    {
     "name": "stdin",
     "output_type": "stream",
     "text": [
      " 3242\n"
     ]
    },
    {
     "name": "stdout",
     "output_type": "stream",
     "text": [
      "3-2+4+2=7\n"
     ]
    }
   ],
   "source": [
    "n = input()\n",
    "op_cnt = len(n) - 1  # すき間の個数\n",
    "for i in range(2 ** op_cnt):\n",
    "    op = [\"-\"] * op_cnt  # あらかじめ [\"-\", \"-\", \"-\"] というリストを作っておく\n",
    "    for j in range(op_cnt):\n",
    "        if ((i >> j) & 1):\n",
    "            op[op_cnt - 1 - j] = \"+\"  # フラグが立っていた箇所を \"+\" で上書き\n",
    "            \n",
    "    formula = ''\n",
    "    for p_n, p_o in zip(n, op + ['']):\n",
    "        formula += (p_n + p_o)\n",
    "    if eval(formula) == 7:\n",
    "        print(formula + '=7')\n",
    "        break"
   ]
  },
  {
   "cell_type": "code",
   "execution_count": 21,
   "metadata": {},
   "outputs": [
    {
     "data": {
      "text/plain": [
       "int"
      ]
     },
     "execution_count": 21,
     "metadata": {},
     "output_type": "execute_result"
    }
   ],
   "source": [
    "type(eval('3 + 2'))"
   ]
  },
  {
   "cell_type": "code",
   "execution_count": null,
   "metadata": {},
   "outputs": [],
   "source": []
  }
 ],
 "metadata": {
  "kernelspec": {
   "display_name": "Python 3",
   "language": "python",
   "name": "python3"
  },
  "language_info": {
   "codemirror_mode": {
    "name": "ipython",
    "version": 3
   },
   "file_extension": ".py",
   "mimetype": "text/x-python",
   "name": "python",
   "nbconvert_exporter": "python",
   "pygments_lexer": "ipython3",
   "version": "3.8.5"
  }
 },
 "nbformat": 4,
 "nbformat_minor": 4
}
