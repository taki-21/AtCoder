{
 "cells": [
  {
   "cell_type": "markdown",
   "metadata": {},
   "source": [
    "### A"
   ]
  },
  {
   "cell_type": "code",
   "execution_count": 8,
   "metadata": {},
   "outputs": [
    {
     "name": "stdin",
     "output_type": "stream",
     "text": [
      " 123 123\n"
     ]
    }
   ],
   "source": [
    "a, b = map(int, input().split())"
   ]
  },
  {
   "cell_type": "code",
   "execution_count": 9,
   "metadata": {},
   "outputs": [],
   "source": [
    "ans = (a - b) / 3 + b"
   ]
  },
  {
   "cell_type": "raw",
   "metadata": {},
   "source": []
  },
  {
   "cell_type": "code",
   "execution_count": 10,
   "metadata": {},
   "outputs": [
    {
     "name": "stdout",
     "output_type": "stream",
     "text": [
      "123.0\n"
     ]
    }
   ],
   "source": [
    "print(ans)"
   ]
  },
  {
   "cell_type": "code",
   "execution_count": 52,
   "metadata": {},
   "outputs": [
    {
     "name": "stdin",
     "output_type": "stream",
     "text": [
      " a\n",
      " b\n",
      " c\n",
      " d\n"
     ]
    }
   ],
   "source": [
    "s_list = [0] * 4\n",
    "for i in range(4):\n",
    "    s_list[i] = input()"
   ]
  },
  {
   "cell_type": "code",
   "execution_count": 53,
   "metadata": {},
   "outputs": [
    {
     "data": {
      "text/plain": [
       "['a', 'b', 'c', 'd']"
      ]
     },
     "execution_count": 53,
     "metadata": {},
     "output_type": "execute_result"
    }
   ],
   "source": [
    "s_list"
   ]
  },
  {
   "cell_type": "code",
   "execution_count": 17,
   "metadata": {},
   "outputs": [
    {
     "name": "stdout",
     "output_type": "stream",
     "text": [
      "No\n"
     ]
    }
   ],
   "source": [
    "if len(set(s_list)) == 4:\n",
    "    print('Yes')\n",
    "else:\n",
    "    print('No')"
   ]
  },
  {
   "cell_type": "markdown",
   "metadata": {},
   "source": [
    "### B"
   ]
  },
  {
   "cell_type": "code",
   "execution_count": null,
   "metadata": {},
   "outputs": [],
   "source": []
  },
  {
   "cell_type": "code",
   "execution_count": null,
   "metadata": {},
   "outputs": [],
   "source": []
  },
  {
   "cell_type": "code",
   "execution_count": null,
   "metadata": {},
   "outputs": [],
   "source": []
  },
  {
   "cell_type": "code",
   "execution_count": null,
   "metadata": {},
   "outputs": [],
   "source": []
  },
  {
   "cell_type": "code",
   "execution_count": null,
   "metadata": {},
   "outputs": [],
   "source": []
  },
  {
   "cell_type": "code",
   "execution_count": null,
   "metadata": {},
   "outputs": [],
   "source": []
  },
  {
   "cell_type": "markdown",
   "metadata": {},
   "source": [
    "### C"
   ]
  },
  {
   "cell_type": "code",
   "execution_count": 37,
   "metadata": {},
   "outputs": [
    {
     "name": "stdin",
     "output_type": "stream",
     "text": [
      " chokudaichokudaichokudai\n"
     ]
    }
   ],
   "source": [
    "s = input()"
   ]
  },
  {
   "cell_type": "code",
   "execution_count": 40,
   "metadata": {},
   "outputs": [],
   "source": [
    "dic = {'c': 0, 'h': 0, 'o': 0, 'k':0, 'u': 0, 'd': 0, 'a': 0, 'i': 0}\n",
    "for st in s:\n",
    "    if st == 'c':\n",
    "        dic['c'] +=1\n",
    "    if st == 'h':\n",
    "        dic['h'] +=1\n",
    "    if st == 'o':\n",
    "        dic['o'] +=1\n",
    "    if st == 'k':\n",
    "        dic['k'] +=1\n",
    "    if st == 'u':\n",
    "        dic['u'] +=1\n",
    "    if st == 'd':\n",
    "        dic['d'] +=1\n",
    "    if st == 'a':\n",
    "        dic['a'] +=1\n",
    "    if st == 'i':\n",
    "        dic['i'] +=1"
   ]
  },
  {
   "cell_type": "code",
   "execution_count": 41,
   "metadata": {},
   "outputs": [
    {
     "data": {
      "text/plain": [
       "{'c': 3, 'h': 3, 'o': 3, 'k': 3, 'u': 3, 'd': 3, 'a': 3, 'i': 3}"
      ]
     },
     "execution_count": 41,
     "metadata": {},
     "output_type": "execute_result"
    }
   ],
   "source": [
    "dic"
   ]
  },
  {
   "cell_type": "code",
   "execution_count": 47,
   "metadata": {},
   "outputs": [
    {
     "data": {
      "text/plain": [
       "6561"
      ]
     },
     "execution_count": 47,
     "metadata": {},
     "output_type": "execute_result"
    }
   ],
   "source": [
    "mod = 1000000007\n",
    "ans = 1\n",
    "for i in dic.values():\n",
    "    ans *= i % mod\n",
    "ans"
   ]
  },
  {
   "cell_type": "code",
   "execution_count": 48,
   "metadata": {},
   "outputs": [
    {
     "data": {
      "text/plain": [
       "273.375"
      ]
     },
     "execution_count": 48,
     "metadata": {},
     "output_type": "execute_result"
    }
   ],
   "source": [
    "6561 / 24"
   ]
  },
  {
   "cell_type": "code",
   "execution_count": 49,
   "metadata": {},
   "outputs": [
    {
     "ename": "KeyboardInterrupt",
     "evalue": "",
     "output_type": "error",
     "traceback": [
      "\u001b[0;31m---------------------------------------------------------------------------\u001b[0m",
      "\u001b[0;31mKeyboardInterrupt\u001b[0m                         Traceback (most recent call last)",
      "\u001b[0;32m<ipython-input-49-d5e41830ea6f>\u001b[0m in \u001b[0;36m<module>\u001b[0;34m\u001b[0m\n\u001b[1;32m      3\u001b[0m     \u001b[0mst\u001b[0m \u001b[0;34m=\u001b[0m \u001b[0;34m''\u001b[0m\u001b[0;34m\u001b[0m\u001b[0;34m\u001b[0m\u001b[0m\n\u001b[1;32m      4\u001b[0m     \u001b[0;32mfor\u001b[0m \u001b[0mj\u001b[0m \u001b[0;32min\u001b[0m \u001b[0mrange\u001b[0m\u001b[0;34m(\u001b[0m\u001b[0mlen\u001b[0m\u001b[0;34m(\u001b[0m\u001b[0ms\u001b[0m\u001b[0;34m)\u001b[0m\u001b[0;34m)\u001b[0m\u001b[0;34m:\u001b[0m\u001b[0;34m\u001b[0m\u001b[0;34m\u001b[0m\u001b[0m\n\u001b[0;32m----> 5\u001b[0;31m         \u001b[0;32mif\u001b[0m \u001b[0;34m(\u001b[0m\u001b[0;34m(\u001b[0m\u001b[0mi\u001b[0m \u001b[0;34m>>\u001b[0m \u001b[0mj\u001b[0m\u001b[0;34m)\u001b[0m \u001b[0;34m&\u001b[0m \u001b[0;36m1\u001b[0m\u001b[0;34m)\u001b[0m\u001b[0;34m:\u001b[0m\u001b[0;34m\u001b[0m\u001b[0;34m\u001b[0m\u001b[0m\n\u001b[0m\u001b[1;32m      6\u001b[0m             \u001b[0mst\u001b[0m \u001b[0;34m+=\u001b[0m \u001b[0ms\u001b[0m\u001b[0;34m[\u001b[0m\u001b[0mj\u001b[0m\u001b[0;34m]\u001b[0m\u001b[0;34m\u001b[0m\u001b[0;34m\u001b[0m\u001b[0m\n\u001b[1;32m      7\u001b[0m     \u001b[0;32mif\u001b[0m \u001b[0mst\u001b[0m \u001b[0;34m==\u001b[0m \u001b[0;34m'chokudai'\u001b[0m\u001b[0;34m:\u001b[0m\u001b[0;34m\u001b[0m\u001b[0;34m\u001b[0m\u001b[0m\n",
      "\u001b[0;31mKeyboardInterrupt\u001b[0m: "
     ]
    }
   ],
   "source": [
    "ans = 0\n",
    "for i in range(2 ** len(s)):\n",
    "    st = ''\n",
    "    for j in range(len(s)):\n",
    "        if ((i >> j) & 1):\n",
    "            st += s[j]\n",
    "    if st == 'chokudai':\n",
    "        ans += 1\n",
    "print(ans)"
   ]
  },
  {
   "cell_type": "code",
   "execution_count": 20,
   "metadata": {},
   "outputs": [
    {
     "data": {
      "text/plain": [
       "'Y'"
      ]
     },
     "execution_count": 20,
     "metadata": {},
     "output_type": "execute_result"
    }
   ],
   "source": [
    "ans = ''\n",
    "ans += 'Y'\n",
    "ans"
   ]
  },
  {
   "cell_type": "code",
   "execution_count": 34,
   "metadata": {},
   "outputs": [
    {
     "data": {
      "text/plain": [
       "735471"
      ]
     },
     "execution_count": 34,
     "metadata": {},
     "output_type": "execute_result"
    }
   ],
   "source": [
    "import itertools\n",
    "len(list(itertools.combinations(s, 8)))"
   ]
  },
  {
   "cell_type": "code",
   "execution_count": null,
   "metadata": {},
   "outputs": [],
   "source": []
  },
  {
   "cell_type": "code",
   "execution_count": 72,
   "metadata": {},
   "outputs": [],
   "source": [
    "chokudai = ' chokudai'\n",
    "mod = 10**9 + 7\n",
    "dp = [0] * 9\n",
    "dp[0] = 1"
   ]
  },
  {
   "cell_type": "code",
   "execution_count": 73,
   "metadata": {},
   "outputs": [
    {
     "name": "stdin",
     "output_type": "stream",
     "text": [
      " chokudaichokudaichokudai\n"
     ]
    }
   ],
   "source": [
    "s = input()"
   ]
  },
  {
   "cell_type": "code",
   "execution_count": 74,
   "metadata": {},
   "outputs": [
    {
     "name": "stdout",
     "output_type": "stream",
     "text": [
      "45\n"
     ]
    }
   ],
   "source": [
    "for c in s:\n",
    "    for i in range(9):\n",
    "        if chokudai[i] == c:\n",
    "            dp[i] += dp[i-1]\n",
    "            dp[i] %= mod\n",
    "print(dp[-1])"
   ]
  },
  {
   "cell_type": "markdown",
   "metadata": {},
   "source": [
    "-------------"
   ]
  },
  {
   "cell_type": "code",
   "execution_count": 28,
   "metadata": {},
   "outputs": [
    {
     "name": "stdin",
     "output_type": "stream",
     "text": [
      " abcababc\n"
     ]
    }
   ],
   "source": [
    "s = input()"
   ]
  },
  {
   "cell_type": "code",
   "execution_count": 46,
   "metadata": {},
   "outputs": [
    {
     "data": {
      "text/plain": [
       "[1, 0, 0, 0]"
      ]
     },
     "execution_count": 46,
     "metadata": {},
     "output_type": "execute_result"
    }
   ],
   "source": [
    "chokudai = ' chokudai'\n",
    "chokudai = ' abc'\n",
    "mod = 10**9 + 7\n",
    "dp = [0] * 9\n",
    "dp[0] = 1\n",
    "dp"
   ]
  },
  {
   "cell_type": "code",
   "execution_count": 47,
   "metadata": {},
   "outputs": [
    {
     "name": "stdout",
     "output_type": "stream",
     "text": [
      "==========\n",
      "c:  a\n",
      "----------\n",
      "chokudai[i]:   \n",
      "chokudai[i]:  a\n",
      "dp:  [1, 0, 0, 0]\n",
      "dp:  [1, 1, 0, 0]\n",
      "chokudai[i]:  b\n",
      "chokudai[i]:  c\n",
      "==========\n",
      "c:  b\n",
      "----------\n",
      "chokudai[i]:   \n",
      "chokudai[i]:  a\n",
      "chokudai[i]:  b\n",
      "dp:  [1, 1, 0, 0]\n",
      "dp:  [1, 1, 1, 0]\n",
      "chokudai[i]:  c\n",
      "==========\n",
      "c:  c\n",
      "----------\n",
      "chokudai[i]:   \n",
      "chokudai[i]:  a\n",
      "chokudai[i]:  b\n",
      "chokudai[i]:  c\n",
      "dp:  [1, 1, 1, 0]\n",
      "dp:  [1, 1, 1, 1]\n",
      "==========\n",
      "c:  a\n",
      "----------\n",
      "chokudai[i]:   \n",
      "chokudai[i]:  a\n",
      "dp:  [1, 1, 1, 1]\n",
      "dp:  [1, 2, 1, 1]\n",
      "chokudai[i]:  b\n",
      "chokudai[i]:  c\n",
      "==========\n",
      "c:  b\n",
      "----------\n",
      "chokudai[i]:   \n",
      "chokudai[i]:  a\n",
      "chokudai[i]:  b\n",
      "dp:  [1, 2, 1, 1]\n",
      "dp:  [1, 2, 3, 1]\n",
      "chokudai[i]:  c\n",
      "==========\n",
      "c:  a\n",
      "----------\n",
      "chokudai[i]:   \n",
      "chokudai[i]:  a\n",
      "dp:  [1, 2, 3, 1]\n",
      "dp:  [1, 3, 3, 1]\n",
      "chokudai[i]:  b\n",
      "chokudai[i]:  c\n",
      "==========\n",
      "c:  b\n",
      "----------\n",
      "chokudai[i]:   \n",
      "chokudai[i]:  a\n",
      "chokudai[i]:  b\n",
      "dp:  [1, 3, 3, 1]\n",
      "dp:  [1, 3, 6, 1]\n",
      "chokudai[i]:  c\n",
      "==========\n",
      "c:  c\n",
      "----------\n",
      "chokudai[i]:   \n",
      "chokudai[i]:  a\n",
      "chokudai[i]:  b\n",
      "chokudai[i]:  c\n",
      "dp:  [1, 3, 6, 1]\n",
      "dp:  [1, 3, 6, 7]\n",
      "7\n"
     ]
    }
   ],
   "source": [
    "for c in s:\n",
    "    print('==========')\n",
    "    print('c: ',c)\n",
    "    print('----------')\n",
    "    for i in range(4):\n",
    "        print('chokudai[i]: ', chokudai[i])\n",
    "        if chokudai[i] == c:\n",
    "            print('dp: ', dp)\n",
    "            dp[i] += dp[i-1]\n",
    "            print('dp: ', dp)\n",
    "#             dp[i] %= mod\n",
    "print(dp[-1])"
   ]
  },
  {
   "cell_type": "code",
   "execution_count": null,
   "metadata": {},
   "outputs": [],
   "source": []
  },
  {
   "cell_type": "markdown",
   "metadata": {},
   "source": [
    "### D"
   ]
  },
  {
   "cell_type": "code",
   "execution_count": null,
   "metadata": {},
   "outputs": [],
   "source": []
  },
  {
   "cell_type": "code",
   "execution_count": null,
   "metadata": {},
   "outputs": [],
   "source": []
  },
  {
   "cell_type": "code",
   "execution_count": null,
   "metadata": {},
   "outputs": [],
   "source": []
  },
  {
   "cell_type": "code",
   "execution_count": null,
   "metadata": {},
   "outputs": [],
   "source": []
  },
  {
   "cell_type": "code",
   "execution_count": null,
   "metadata": {},
   "outputs": [],
   "source": []
  },
  {
   "cell_type": "code",
   "execution_count": null,
   "metadata": {},
   "outputs": [],
   "source": []
  }
 ],
 "metadata": {
  "kernelspec": {
   "display_name": "Python 3",
   "language": "python",
   "name": "python3"
  },
  "language_info": {
   "codemirror_mode": {
    "name": "ipython",
    "version": 3
   },
   "file_extension": ".py",
   "mimetype": "text/x-python",
   "name": "python",
   "nbconvert_exporter": "python",
   "pygments_lexer": "ipython3",
   "version": "3.7.4"
  }
 },
 "nbformat": 4,
 "nbformat_minor": 4
}
