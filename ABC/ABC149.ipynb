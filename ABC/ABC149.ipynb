{
 "cells": [
  {
   "cell_type": "code",
   "execution_count": null,
   "metadata": {},
   "outputs": [],
   "source": []
  },
  {
   "cell_type": "code",
   "execution_count": null,
   "metadata": {},
   "outputs": [],
   "source": []
  },
  {
   "cell_type": "code",
   "execution_count": null,
   "metadata": {},
   "outputs": [],
   "source": []
  },
  {
   "cell_type": "markdown",
   "metadata": {},
   "source": [
    "### D"
   ]
  },
  {
   "cell_type": "code",
   "execution_count": 34,
   "metadata": {},
   "outputs": [
    {
     "name": "stdin",
     "output_type": "stream",
     "text": [
      " 7 1\n",
      " 100 10 1\n",
      " ssssppr\n"
     ]
    }
   ],
   "source": [
    "N, K = map(int, input().split())\n",
    "R, S, P = map(int, input().split())\n",
    "T = list(input())"
   ]
  },
  {
   "cell_type": "code",
   "execution_count": 35,
   "metadata": {},
   "outputs": [
    {
     "name": "stdout",
     "output_type": "stream",
     "text": [
      "211\n"
     ]
    }
   ],
   "source": [
    "janken = {'r': P, 's': R, 'p': S}\n",
    "temp = ''\n",
    "score = 0\n",
    "for i in range(N):\n",
    "    opp = T[i]\n",
    "    point = janken[opp]\n",
    "    if i >= K:\n",
    "        temp = T[i-K]\n",
    "    if temp == opp:\n",
    "        point = 0\n",
    "        T[i] = 'q'\n",
    "    score += point\n",
    "print(score)"
   ]
  },
  {
   "cell_type": "markdown",
   "metadata": {},
   "source": [
    "---"
   ]
  },
  {
   "cell_type": "code",
   "execution_count": 32,
   "metadata": {},
   "outputs": [
    {
     "name": "stdin",
     "output_type": "stream",
     "text": [
      " 7 1\n",
      " 100 10 1\n",
      " ssssppr\n"
     ]
    },
    {
     "name": "stdout",
     "output_type": "stream",
     "text": [
      "211\n"
     ]
    }
   ],
   "source": [
    "N,K = map(int,input().split())\n",
    "R,S,P = map(int,input().split())\n",
    "T = list(input())\n",
    " \n",
    "for i in range(N-K):\n",
    "    if T[K+i] == T[i]:\n",
    "        T[K+i] = 0\n",
    "\n",
    "print(sum([T.count(\"r\")*P, T.count(\"s\")*R, T.count(\"p\")*S]))"
   ]
  },
  {
   "cell_type": "code",
   "execution_count": null,
   "metadata": {},
   "outputs": [],
   "source": []
  }
 ],
 "metadata": {
  "kernelspec": {
   "display_name": "Python 3",
   "language": "python",
   "name": "python3"
  },
  "language_info": {
   "codemirror_mode": {
    "name": "ipython",
    "version": 3
   },
   "file_extension": ".py",
   "mimetype": "text/x-python",
   "name": "python",
   "nbconvert_exporter": "python",
   "pygments_lexer": "ipython3",
   "version": "3.7.4"
  }
 },
 "nbformat": 4,
 "nbformat_minor": 4
}
