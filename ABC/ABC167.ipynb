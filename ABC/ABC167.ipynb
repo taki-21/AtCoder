{
 "cells": [
  {
   "cell_type": "code",
   "execution_count": null,
   "metadata": {},
   "outputs": [],
   "source": []
  },
  {
   "cell_type": "code",
   "execution_count": null,
   "metadata": {},
   "outputs": [],
   "source": []
  },
  {
   "cell_type": "code",
   "execution_count": null,
   "metadata": {},
   "outputs": [],
   "source": []
  },
  {
   "cell_type": "code",
   "execution_count": null,
   "metadata": {},
   "outputs": [],
   "source": []
  },
  {
   "cell_type": "markdown",
   "metadata": {},
   "source": [
    "### C"
   ]
  },
  {
   "cell_type": "code",
   "execution_count": 40,
   "metadata": {},
   "outputs": [
    {
     "name": "stdin",
     "output_type": "stream",
     "text": [
      " 3 3 10\n"
     ]
    }
   ],
   "source": [
    "n, m, x = map(int, input().split())"
   ]
  },
  {
   "cell_type": "code",
   "execution_count": 41,
   "metadata": {},
   "outputs": [],
   "source": [
    "A = [[] for _ in range(n)]\n",
    "c = [0]* n"
   ]
  },
  {
   "cell_type": "code",
   "execution_count": 42,
   "metadata": {},
   "outputs": [
    {
     "name": "stdin",
     "output_type": "stream",
     "text": [
      " 60 2 2 4\n",
      " 70 8 7 9\n",
      " 50 2 3 9\n"
     ]
    }
   ],
   "source": [
    "for i in range(n):\n",
    "    c_as = list(map(int, input().split()))\n",
    "    c[i], A[i] = c_as[0], c_as[1:]"
   ]
  },
  {
   "cell_type": "code",
   "execution_count": 45,
   "metadata": {},
   "outputs": [
    {
     "name": "stdout",
     "output_type": "stream",
     "text": [
      "120\n"
     ]
    }
   ],
   "source": [
    "INF = 10**9\n",
    "ans = INF\n",
    "for s in range(0, 1 << n):\n",
    "    smart = [0] * m\n",
    "    cost_sum = 0\n",
    "    for i in range(n):\n",
    "        if (s >> i) % 2 == 0:continue\n",
    "        cost_sum += c[i]\n",
    "        for j in range(m):\n",
    "            smart[j] += A[i][j]\n",
    "    ok = True\n",
    "    for j in range(m):\n",
    "        if smart[j] < x:\n",
    "            ok = False\n",
    "    if ok:\n",
    "        ans = min(ans, cost_sum)\n",
    "if ans == INF:\n",
    "    ans = -1\n",
    "print(ans)"
   ]
  },
  {
   "cell_type": "markdown",
   "metadata": {},
   "source": [
    "--------"
   ]
  },
  {
   "cell_type": "code",
   "execution_count": 58,
   "metadata": {},
   "outputs": [
    {
     "name": "stdin",
     "output_type": "stream",
     "text": [
      " 3 3 10\n"
     ]
    }
   ],
   "source": [
    "n, m, x = map(int, input().split())"
   ]
  },
  {
   "cell_type": "code",
   "execution_count": 59,
   "metadata": {},
   "outputs": [
    {
     "name": "stdin",
     "output_type": "stream",
     "text": [
      " 60 2 2 4\n",
      " 70 8 7 9\n",
      " 50 2 3 9\n"
     ]
    }
   ],
   "source": [
    "c_a = []\n",
    "for _ in range(n):\n",
    "    ca = list(map(int, input().split()))\n",
    "    c_a.append(ca)"
   ]
  },
  {
   "cell_type": "code",
   "execution_count": 60,
   "metadata": {},
   "outputs": [
    {
     "data": {
      "text/plain": [
       "[[60, 2, 2, 4], [70, 8, 7, 9], [50, 2, 3, 9]]"
      ]
     },
     "execution_count": 60,
     "metadata": {},
     "output_type": "execute_result"
    }
   ],
   "source": [
    "c_a"
   ]
  },
  {
   "cell_type": "code",
   "execution_count": 63,
   "metadata": {},
   "outputs": [
    {
     "name": "stdout",
     "output_type": "stream",
     "text": [
      "120\n"
     ]
    }
   ],
   "source": [
    "ans = float('inf')\n",
    "\n",
    "for i in range(2**n):\n",
    "    money = 0\n",
    "    u = [0] * m\n",
    "    for j in range(n):\n",
    "        if ((i >> j) & 1):\n",
    "            money += c_a[j][0]\n",
    "            for k in range(m):\n",
    "                u[k] += c_a[j][k+1]\n",
    "    ok = True\n",
    "    for j in range(m):\n",
    "        if u[j] < x:\n",
    "            ok = False\n",
    "    if ok:\n",
    "        ans = min(ans, money)\n",
    "if ans == float('inf'):\n",
    "    ans = -1\n",
    "print(ans)"
   ]
  },
  {
   "cell_type": "code",
   "execution_count": 62,
   "metadata": {},
   "outputs": [
    {
     "data": {
      "text/plain": [
       "inf"
      ]
     },
     "execution_count": 62,
     "metadata": {},
     "output_type": "execute_result"
    }
   ],
   "source": []
  },
  {
   "cell_type": "code",
   "execution_count": null,
   "metadata": {},
   "outputs": [],
   "source": []
  },
  {
   "cell_type": "code",
   "execution_count": 68,
   "metadata": {},
   "outputs": [
    {
     "data": {
      "text/plain": [
       "33554432"
      ]
     },
     "execution_count": 68,
     "metadata": {},
     "output_type": "execute_result"
    }
   ],
   "source": []
  },
  {
   "cell_type": "code",
   "execution_count": null,
   "metadata": {},
   "outputs": [],
   "source": []
  },
  {
   "cell_type": "code",
   "execution_count": 38,
   "metadata": {},
   "outputs": [
    {
     "name": "stdout",
     "output_type": "stream",
     "text": [
      "0b0\n",
      "0\n",
      "0\n",
      "0\n",
      "0b1\n",
      "1\n",
      "0\n",
      "0\n",
      "0b10\n",
      "2\n",
      "1\n",
      "0\n",
      "0b11\n",
      "3\n",
      "1\n",
      "0\n",
      "0b100\n",
      "4\n",
      "2\n",
      "1\n",
      "0b101\n",
      "5\n",
      "2\n",
      "1\n",
      "0b110\n",
      "6\n",
      "3\n",
      "1\n",
      "0b111\n",
      "7\n",
      "3\n",
      "1\n"
     ]
    }
   ],
   "source": [
    "for s in range(1 << 3):\n",
    "    print(bin(s))\n",
    "    for i in range(3):\n",
    "        print((s >> i) )"
   ]
  },
  {
   "cell_type": "code",
   "execution_count": null,
   "metadata": {},
   "outputs": [],
   "source": []
  }
 ],
 "metadata": {
  "kernelspec": {
   "display_name": "Python 3",
   "language": "python",
   "name": "python3"
  },
  "language_info": {
   "codemirror_mode": {
    "name": "ipython",
    "version": 3
   },
   "file_extension": ".py",
   "mimetype": "text/x-python",
   "name": "python",
   "nbconvert_exporter": "python",
   "pygments_lexer": "ipython3",
   "version": "3.8.5"
  }
 },
 "nbformat": 4,
 "nbformat_minor": 4
}
