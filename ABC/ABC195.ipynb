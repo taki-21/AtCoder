{
 "cells": [
  {
   "cell_type": "markdown",
   "id": "intense-anger",
   "metadata": {},
   "source": [
    "### A - Health M Death"
   ]
  },
  {
   "cell_type": "code",
   "execution_count": 4,
   "id": "unlimited-retail",
   "metadata": {},
   "outputs": [
    {
     "name": "stdin",
     "output_type": "stream",
     "text": [
      " 10 125\n"
     ]
    }
   ],
   "source": [
    "m, h = map(int, input().split())"
   ]
  },
  {
   "cell_type": "code",
   "execution_count": 6,
   "id": "limiting-trace",
   "metadata": {},
   "outputs": [
    {
     "name": "stdout",
     "output_type": "stream",
     "text": [
      "No\n"
     ]
    }
   ],
   "source": [
    "if h % m == 0:\n",
    "    print('Yes')\n",
    "else:\n",
    "    print('No')"
   ]
  },
  {
   "cell_type": "markdown",
   "id": "confident-mainstream",
   "metadata": {},
   "source": [
    "### B - Many Oranges"
   ]
  },
  {
   "cell_type": "code",
   "execution_count": 19,
   "id": "decreased-gabriel",
   "metadata": {},
   "outputs": [
    {
     "name": "stdin",
     "output_type": "stream",
     "text": [
      " 120 150 2\n"
     ]
    }
   ],
   "source": [
    "a, b, w = map(int, input().split())"
   ]
  },
  {
   "cell_type": "code",
   "execution_count": 20,
   "id": "violent-lobby",
   "metadata": {},
   "outputs": [],
   "source": [
    "import math\n",
    "upper = int(math.floor(1000*w/a))\n",
    "lower = int(math.floor(1000*w/b))"
   ]
  },
  {
   "cell_type": "code",
   "execution_count": 21,
   "id": "incomplete-japanese",
   "metadata": {},
   "outputs": [
    {
     "data": {
      "text/plain": [
       "(16, 13)"
      ]
     },
     "execution_count": 21,
     "metadata": {},
     "output_type": "execute_result"
    }
   ],
   "source": [
    "upper, lower"
   ]
  },
  {
   "cell_type": "code",
   "execution_count": 18,
   "id": "decreased-execution",
   "metadata": {},
   "outputs": [
    {
     "name": "stdout",
     "output_type": "stream",
     "text": [
      "10 20\n"
     ]
    }
   ],
   "source": [
    "if lower > upper:\n",
    "    print('UNSATISFIABLE')\n",
    "else:\n",
    "    print(lower, upper)"
   ]
  },
  {
   "cell_type": "code",
   "execution_count": null,
   "id": "criminal-terrorist",
   "metadata": {},
   "outputs": [],
   "source": []
  }
 ],
 "metadata": {
  "kernelspec": {
   "display_name": "Python 3",
   "language": "python",
   "name": "python3"
  },
  "language_info": {
   "codemirror_mode": {
    "name": "ipython",
    "version": 3
   },
   "file_extension": ".py",
   "mimetype": "text/x-python",
   "name": "python",
   "nbconvert_exporter": "python",
   "pygments_lexer": "ipython3",
   "version": "3.8.8"
  }
 },
 "nbformat": 4,
 "nbformat_minor": 5
}
