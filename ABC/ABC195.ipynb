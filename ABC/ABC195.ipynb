{
 "cells": [
  {
   "cell_type": "markdown",
   "metadata": {},
   "source": [
    "### A - Health M Death"
   ]
  },
  {
   "cell_type": "code",
   "execution_count": 4,
   "metadata": {},
   "outputs": [
    {
     "name": "stdin",
     "output_type": "stream",
     "text": [
      " 10 125\n"
     ]
    }
   ],
   "source": [
    "m, h = map(int, input().split())"
   ]
  },
  {
   "cell_type": "code",
   "execution_count": 6,
   "metadata": {},
   "outputs": [
    {
     "name": "stdout",
     "output_type": "stream",
     "text": [
      "No\n"
     ]
    }
   ],
   "source": [
    "if h % m == 0:\n",
    "    print('Yes')\n",
    "else:\n",
    "    print('No')"
   ]
  },
  {
   "cell_type": "markdown",
   "metadata": {},
   "source": [
    "### B - Many Oranges"
   ]
  },
  {
   "cell_type": "code",
   "execution_count": 19,
   "metadata": {},
   "outputs": [
    {
     "name": "stdin",
     "output_type": "stream",
     "text": [
      " 120 150 2\n"
     ]
    }
   ],
   "source": [
    "a, b, w = map(int, input().split())"
   ]
  },
  {
   "cell_type": "code",
   "execution_count": 20,
   "metadata": {},
   "outputs": [],
   "source": [
    "import math\n",
    "upper = int(math.floor(1000*w/a))\n",
    "lower = int(math.floor(1000*w/b))"
   ]
  },
  {
   "cell_type": "code",
   "execution_count": 21,
   "metadata": {},
   "outputs": [
    {
     "data": {
      "text/plain": [
       "(16, 13)"
      ]
     },
     "execution_count": 21,
     "metadata": {},
     "output_type": "execute_result"
    }
   ],
   "source": [
    "upper, lower"
   ]
  },
  {
   "cell_type": "code",
   "execution_count": 18,
   "metadata": {},
   "outputs": [
    {
     "name": "stdout",
     "output_type": "stream",
     "text": [
      "10 20\n"
     ]
    }
   ],
   "source": [
    "if lower > upper:\n",
    "    print('UNSATISFIABLE')\n",
    "else:\n",
    "    print(lower, upper)"
   ]
  },
  {
   "cell_type": "markdown",
   "metadata": {},
   "source": [
    "------------------------"
   ]
  },
  {
   "cell_type": "code",
   "execution_count": 50,
   "metadata": {},
   "outputs": [
    {
     "name": "stdin",
     "output_type": "stream",
     "text": [
      " 300 333 1\n"
     ]
    }
   ],
   "source": [
    "a, b, w = map(int, input().split())"
   ]
  },
  {
   "cell_type": "code",
   "execution_count": 51,
   "metadata": {},
   "outputs": [],
   "source": [
    "ok = []\n",
    "\n",
    "for i in range(10**6+1):\n",
    "    if a*i <= 1000*w <= b*i:\n",
    "        ok.append(i)"
   ]
  },
  {
   "cell_type": "code",
   "execution_count": 52,
   "metadata": {},
   "outputs": [
    {
     "name": "stdout",
     "output_type": "stream",
     "text": [
      "UNSATISFIABLE\n"
     ]
    }
   ],
   "source": [
    "if len(ok) == 0:\n",
    "    print('UNSATISFIABLE')\n",
    "else:\n",
    "    print(min(ok), max(ok))"
   ]
  },
  {
   "cell_type": "markdown",
   "metadata": {},
   "source": [
    "### C"
   ]
  },
  {
   "cell_type": "code",
   "execution_count": 27,
   "metadata": {},
   "outputs": [
    {
     "name": "stdin",
     "output_type": "stream",
     "text": [
      " 27182818284590\n"
     ]
    }
   ],
   "source": [
    "n = input()"
   ]
  },
  {
   "cell_type": "code",
   "execution_count": 32,
   "metadata": {},
   "outputs": [],
   "source": [
    "ans = 0\n",
    "if 3 < len(n) :\n",
    "    ans += (int(n) - (10**3-1)) * 1\n",
    "if 6 < len(n):\n",
    "    ans += (int(n) - (10**6-1)) * 1\n",
    "if 9 < len(n):\n",
    "    ans += (int(n) - (10**9-1)) * 1\n",
    "if 12 < len(n):\n",
    "    ans += (int(n) - (10**12-1)) * 1\n",
    "if len(n) == 16:\n",
    "    ans += 1"
   ]
  },
  {
   "cell_type": "code",
   "execution_count": 33,
   "metadata": {},
   "outputs": [],
   "source": [
    "# if len(n) <= 3:\n",
    "#     ans = 0\n",
    "# elif 3 < len(n) <= 6:\n",
    "#     ans = (int(n) - (10**3-1)) * 1\n",
    "# elif 6 < len(n) <= 9:\n",
    "#     ans = (10**6 - 10**3) *1\n",
    "#     ans += (int(n) - (10**6-1)) * 2\n",
    "# elif 9 < len(n) <= 12:\n",
    "#     ans = (10**6 - 10**3) *1 + (10**9 - 10**6)*2\n",
    "#     ans += (int(n) - (10**9-1)) * 3\n",
    "# elif 12 < len(n) <= 15:\n",
    "#     ans = (10**6 - 10**3) *1 + (10**9 - 10**6)*2 + (10**12 - 10**9) *3\n",
    "#     ans += (int(n) - (10**12-1)) * 4\n",
    "# elif len(n) == 16:\n",
    "#     ans = (10**6 - 10**3) *1 + (10**9 - 10**6)*2 + (10**12 - 10**9) *3+(10**15 - 10**12)*4\n",
    "#     ans += 5"
   ]
  },
  {
   "cell_type": "code",
   "execution_count": 34,
   "metadata": {},
   "outputs": [
    {
     "name": "stdout",
     "output_type": "stream",
     "text": [
      "107730272137364\n"
     ]
    }
   ],
   "source": [
    "print(ans)"
   ]
  },
  {
   "cell_type": "code",
   "execution_count": 8,
   "metadata": {},
   "outputs": [
    {
     "data": {
      "text/plain": [
       "1000000000000000"
      ]
     },
     "execution_count": 8,
     "metadata": {},
     "output_type": "execute_result"
    }
   ],
   "source": [
    "10**15"
   ]
  },
  {
   "cell_type": "code",
   "execution_count": null,
   "metadata": {},
   "outputs": [],
   "source": []
  }
 ],
 "metadata": {
  "kernelspec": {
   "display_name": "Python 3",
   "language": "python",
   "name": "python3"
  },
  "language_info": {
   "codemirror_mode": {
    "name": "ipython",
    "version": 3
   },
   "file_extension": ".py",
   "mimetype": "text/x-python",
   "name": "python",
   "nbconvert_exporter": "python",
   "pygments_lexer": "ipython3",
   "version": "3.8.5"
  }
 },
 "nbformat": 4,
 "nbformat_minor": 5
}
