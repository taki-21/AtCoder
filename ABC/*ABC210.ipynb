{
 "cells": [
  {
   "cell_type": "markdown",
   "metadata": {},
   "source": [
    "### A"
   ]
  },
  {
   "cell_type": "code",
   "execution_count": 5,
   "metadata": {},
   "outputs": [
    {
     "name": "stdin",
     "output_type": "stream",
     "text": [
      " 10 10 100 1\n"
     ]
    }
   ],
   "source": [
    "n, a, x, y  = map(int, input().split())"
   ]
  },
  {
   "cell_type": "code",
   "execution_count": 6,
   "metadata": {},
   "outputs": [
    {
     "name": "stdout",
     "output_type": "stream",
     "text": [
      "1000\n"
     ]
    }
   ],
   "source": [
    "if n <= a:\n",
    "    ans = x * n\n",
    "else:\n",
    "    ans = x * a + y * (n - a)\n",
    "print(ans)"
   ]
  },
  {
   "cell_type": "code",
   "execution_count": null,
   "metadata": {},
   "outputs": [],
   "source": []
  },
  {
   "cell_type": "code",
   "execution_count": null,
   "metadata": {},
   "outputs": [],
   "source": []
  },
  {
   "cell_type": "markdown",
   "metadata": {},
   "source": [
    "### B"
   ]
  },
  {
   "cell_type": "code",
   "execution_count": 9,
   "metadata": {},
   "outputs": [
    {
     "name": "stdin",
     "output_type": "stream",
     "text": [
      " 3\n",
      " 010\n"
     ]
    }
   ],
   "source": [
    "n = int(input())\n",
    "s = input()"
   ]
  },
  {
   "cell_type": "code",
   "execution_count": 10,
   "metadata": {},
   "outputs": [
    {
     "name": "stdout",
     "output_type": "stream",
     "text": [
      "Aoki\n"
     ]
    }
   ],
   "source": [
    "for i in range(n):\n",
    "    if s[i] == '1':\n",
    "        temp = i\n",
    "        break\n",
    "if temp % 2 == 0:\n",
    "    print('Takahashi')\n",
    "else:\n",
    "    print('Aoki')"
   ]
  },
  {
   "cell_type": "code",
   "execution_count": null,
   "metadata": {},
   "outputs": [],
   "source": []
  },
  {
   "cell_type": "code",
   "execution_count": null,
   "metadata": {},
   "outputs": [],
   "source": []
  },
  {
   "cell_type": "code",
   "execution_count": null,
   "metadata": {},
   "outputs": [],
   "source": []
  },
  {
   "cell_type": "code",
   "execution_count": null,
   "metadata": {},
   "outputs": [],
   "source": []
  },
  {
   "cell_type": "code",
   "execution_count": null,
   "metadata": {},
   "outputs": [],
   "source": []
  },
  {
   "cell_type": "code",
   "execution_count": null,
   "metadata": {},
   "outputs": [],
   "source": []
  },
  {
   "cell_type": "markdown",
   "metadata": {},
   "source": [
    "### C"
   ]
  },
  {
   "cell_type": "code",
   "execution_count": 109,
   "metadata": {},
   "outputs": [
    {
     "name": "stdin",
     "output_type": "stream",
     "text": [
      " 7 3\n",
      " 1 2 1 2 3 3 1\n"
     ]
    }
   ],
   "source": [
    "n, k = map(int, input().split())\n",
    "c_list = [x / 10 ** 6 for x in list(map(int, input().split()))]"
   ]
  },
  {
   "cell_type": "code",
   "execution_count": 110,
   "metadata": {},
   "outputs": [
    {
     "name": "stdout",
     "output_type": "stream",
     "text": [
      "3\n"
     ]
    }
   ],
   "source": [
    "ans = 1\n",
    "if n - k == 0:\n",
    "    ans = len(set(c_list))\n",
    "else:\n",
    "    for i in range(n-k):\n",
    "        temp = len(set(c_list[i:i+k]))\n",
    "        ans = max(temp, ans)\n",
    "print(ans)"
   ]
  },
  {
   "cell_type": "code",
   "execution_count": 93,
   "metadata": {},
   "outputs": [
    {
     "name": "stdout",
     "output_type": "stream",
     "text": [
      "i:  0\n",
      "--------\n",
      "ans_1:  2\n",
      "i:  1\n",
      "--------\n",
      "temp:  2\n",
      "ans_2:  1\n",
      "i:  2\n",
      "--------\n",
      "ans_1:  2\n",
      "i:  3\n",
      "--------\n",
      "ans_1:  3\n",
      "i:  4\n",
      "--------\n",
      "temp:  3\n",
      "ans_2:  1\n",
      "i:  5\n",
      "--------\n",
      "ans_1:  2\n",
      "i:  6\n",
      "--------\n",
      "temp:  3\n",
      "ans_2:  1\n",
      "i:  7\n",
      "--------\n",
      "temp:  3\n",
      "ans_2:  1\n",
      "i:  8\n",
      "--------\n",
      "ans_1:  2\n",
      "3\n"
     ]
    }
   ],
   "source": [
    "ans = 1\n",
    "ans_list = []\n",
    "pre_list = [c_list[0]]\n",
    "temp = 1\n",
    "for i in range(n-1):\n",
    "    print('i: ', i)\n",
    "    print('--------')\n",
    "    if c_list[i] != c_list[i+1] and c_list[i+1] not in pre_list:\n",
    "        ans += 1\n",
    "        pre_list.append(c_list[i+1])\n",
    "        print('ans_1: ', ans)\n",
    "    else:\n",
    "        temp = max(ans, temp)\n",
    "        print('temp: ', temp)\n",
    "        ans = 1\n",
    "        pre_list = [c_list[i+1]]\n",
    "        print('ans_2: ', ans)\n",
    "        \n",
    "ans = min(temp, k)\n",
    "print(ans)"
   ]
  },
  {
   "cell_type": "code",
   "execution_count": 92,
   "metadata": {},
   "outputs": [
    {
     "data": {
      "text/plain": [
       "3"
      ]
     },
     "execution_count": 92,
     "metadata": {},
     "output_type": "execute_result"
    }
   ],
   "source": [
    "ans"
   ]
  },
  {
   "cell_type": "code",
   "execution_count": 96,
   "metadata": {},
   "outputs": [
    {
     "data": {
      "text/plain": [
       "123490.18234"
      ]
     },
     "execution_count": 96,
     "metadata": {},
     "output_type": "execute_result"
    }
   ],
   "source": [
    "12349018234 / 10 ** 5"
   ]
  },
  {
   "cell_type": "code",
   "execution_count": 87,
   "metadata": {},
   "outputs": [
    {
     "name": "stdout",
     "output_type": "stream",
     "text": [
      "3\n"
     ]
    }
   ],
   "source": [
    "ans = 1\n",
    "pre_list = [c_list[0]]\n",
    "for i in range(n-1):\n",
    "    if c_list[i] != c_list[i+1] and c_list[i+1] not in pre_list:\n",
    "        ans += 1\n",
    "        pre_list.append(c_list[i+1])\n",
    "    else\n",
    "ans = min(ans, k)\n",
    "print(ans)"
   ]
  },
  {
   "cell_type": "markdown",
   "metadata": {},
   "source": [
    "-----------------"
   ]
  },
  {
   "cell_type": "code",
   "execution_count": null,
   "metadata": {},
   "outputs": [],
   "source": []
  },
  {
   "cell_type": "code",
   "execution_count": null,
   "metadata": {},
   "outputs": [],
   "source": []
  },
  {
   "cell_type": "code",
   "execution_count": null,
   "metadata": {},
   "outputs": [],
   "source": []
  },
  {
   "cell_type": "markdown",
   "metadata": {},
   "source": [
    "### D"
   ]
  },
  {
   "cell_type": "code",
   "execution_count": null,
   "metadata": {},
   "outputs": [],
   "source": []
  }
 ],
 "metadata": {
  "kernelspec": {
   "display_name": "Python 3",
   "language": "python",
   "name": "python3"
  },
  "language_info": {
   "codemirror_mode": {
    "name": "ipython",
    "version": 3
   },
   "file_extension": ".py",
   "mimetype": "text/x-python",
   "name": "python",
   "nbconvert_exporter": "python",
   "pygments_lexer": "ipython3",
   "version": "3.7.4"
  }
 },
 "nbformat": 4,
 "nbformat_minor": 4
}
