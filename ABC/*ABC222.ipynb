{
 "cells": [
  {
   "cell_type": "markdown",
   "metadata": {},
   "source": [
    "### A"
   ]
  },
  {
   "cell_type": "code",
   "execution_count": 7,
   "metadata": {},
   "outputs": [
    {
     "name": "stdin",
     "output_type": "stream",
     "text": [
      " 1\n"
     ]
    }
   ],
   "source": [
    "n = input()"
   ]
  },
  {
   "cell_type": "code",
   "execution_count": 8,
   "metadata": {},
   "outputs": [
    {
     "name": "stdout",
     "output_type": "stream",
     "text": [
      "0001\n"
     ]
    }
   ],
   "source": [
    "if len(n) == 4:\n",
    "    add = \"\"\n",
    "elif len(n) == 3:\n",
    "    add = \"0\"\n",
    "elif len(n) == 2:\n",
    "    add = \"00\"\n",
    "else:\n",
    "    add = \"000\"\n",
    "print(add + n)"
   ]
  },
  {
   "cell_type": "code",
   "execution_count": null,
   "metadata": {},
   "outputs": [],
   "source": []
  },
  {
   "cell_type": "code",
   "execution_count": null,
   "metadata": {},
   "outputs": [],
   "source": []
  },
  {
   "cell_type": "markdown",
   "metadata": {},
   "source": [
    "### B"
   ]
  },
  {
   "cell_type": "code",
   "execution_count": 10,
   "metadata": {},
   "outputs": [
    {
     "name": "stdin",
     "output_type": "stream",
     "text": [
      " 4 50\n",
      " 80 60 40 0\n"
     ]
    }
   ],
   "source": [
    "n, p = map(int, input().split())\n",
    "a_list = list(map(int, input().split()))"
   ]
  },
  {
   "cell_type": "code",
   "execution_count": 11,
   "metadata": {},
   "outputs": [
    {
     "data": {
      "text/plain": [
       "2"
      ]
     },
     "execution_count": 11,
     "metadata": {},
     "output_type": "execute_result"
    }
   ],
   "source": [
    "print(len([x for x in a_list if x < p]))"
   ]
  },
  {
   "cell_type": "code",
   "execution_count": null,
   "metadata": {},
   "outputs": [],
   "source": []
  },
  {
   "cell_type": "code",
   "execution_count": null,
   "metadata": {},
   "outputs": [],
   "source": []
  },
  {
   "cell_type": "code",
   "execution_count": null,
   "metadata": {},
   "outputs": [],
   "source": []
  },
  {
   "cell_type": "markdown",
   "metadata": {},
   "source": [
    "### C"
   ]
  },
  {
   "cell_type": "code",
   "execution_count": 230,
   "metadata": {},
   "outputs": [
    {
     "name": "stdin",
     "output_type": "stream",
     "text": [
      " 2 2\n",
      " GC\n",
      " PG\n",
      " CG\n",
      " PP\n"
     ]
    }
   ],
   "source": [
    "n, m = map(int, input().split())\n",
    "a_list = [input() for _ in range(2*n)]"
   ]
  },
  {
   "cell_type": "code",
   "execution_count": 231,
   "metadata": {},
   "outputs": [
    {
     "data": {
      "text/plain": [
       "['GC', 'PG', 'CG', 'PP']"
      ]
     },
     "execution_count": 231,
     "metadata": {},
     "output_type": "execute_result"
    }
   ],
   "source": [
    "a_list"
   ]
  },
  {
   "cell_type": "code",
   "execution_count": 232,
   "metadata": {},
   "outputs": [
    {
     "data": {
      "text/plain": [
       "[0, 0, 0, 0]"
      ]
     },
     "execution_count": 232,
     "metadata": {},
     "output_type": "execute_result"
    }
   ],
   "source": [
    "win_num_list = [0]*2*n\n",
    "win_num_list"
   ]
  },
  {
   "cell_type": "code",
   "execution_count": 233,
   "metadata": {},
   "outputs": [
    {
     "data": {
      "text/plain": [
       "[0, 1, 2, 3]"
      ]
     },
     "execution_count": 233,
     "metadata": {},
     "output_type": "execute_result"
    }
   ],
   "source": [
    "ranking = [x for x in range(2*n)]\n",
    "ranking"
   ]
  },
  {
   "cell_type": "code",
   "execution_count": 234,
   "metadata": {},
   "outputs": [],
   "source": [
    "def get_vs(ranking):\n",
    "    vs = []\n",
    "    for i in range(len(ranking)//2):\n",
    "        vs_p = ranking[i*2:(i+1)*2]\n",
    "        vs.append(vs_p)\n",
    "    return vs"
   ]
  },
  {
   "cell_type": "code",
   "execution_count": 235,
   "metadata": {},
   "outputs": [],
   "source": [
    "def get_ranking(win_num_list):\n",
    "    win_num_list_copy = win_num_list.copy()\n",
    "    ranking = []\n",
    "    sort_a = sorted(win_num_list, reverse=True)\n",
    "    for x in sort_a:\n",
    "        idx = win_num_list.index(x)\n",
    "        ranking.append(idx)\n",
    "        win_num_list[idx] = 1000\n",
    "    return ranking, win_num_list_copy"
   ]
  },
  {
   "cell_type": "code",
   "execution_count": 236,
   "metadata": {},
   "outputs": [],
   "source": [
    "def janken(hand_1, hand_2):\n",
    "    if hand_1 == hand_2:\n",
    "        return 10\n",
    "    elif (hand_1 == \"G\" and hand_2 == \"P\") or (hand_1 == \"P\" and hand_2 == \"C\") or (hand_1 == \"C\" and hand_2 == \"G\"):\n",
    "        return 1\n",
    "    elif (hand_1 == \"P\" and hand_2 == \"G\") or (hand_1 == \"C\" and hand_2 == \"P\") or (hand_1 == \"G\" and hand_2 == \"C\"):\n",
    "        return 0"
   ]
  },
  {
   "cell_type": "code",
   "execution_count": 237,
   "metadata": {},
   "outputs": [
    {
     "name": "stdout",
     "output_type": "stream",
     "text": [
      "win_num_list_0:  [0, 1, 0, 0]\n",
      "win_num_list_0:  [0, 1, 1, 0]\n",
      "win_num_list_1:  [0, 1, 1, 0]\n",
      "ranking:  [1, 2, 0, 3]\n",
      "win_num_list_2:  [0, 1, 1, 0]\n",
      "win_num_list_0:  [0, 1, 1, 0]\n",
      "win_num_list_0:  [1, 1, 1, 0]\n",
      "win_num_list_1:  [1, 1, 1, 0]\n",
      "ranking:  [0, 1, 2, 3]\n",
      "win_num_list_2:  [1, 1, 1, 0]\n",
      "1\n",
      "2\n",
      "3\n",
      "4\n"
     ]
    }
   ],
   "source": [
    "for m_idx in range(m):\n",
    "    vs_list = get_vs(ranking)\n",
    "    for p in vs_list:\n",
    "        p_1 = p[0]\n",
    "        p_2 = p[1]\n",
    "        p_1_hand = a_list[p_1][m_idx]\n",
    "        p_2_hand = a_list[p_2][m_idx]\n",
    "        idx = janken(p_1_hand, p_2_hand)\n",
    "        if idx == 0:\n",
    "            win_num_list[p_1] += 1\n",
    "        elif idx == 1:\n",
    "            win_num_list[p_2] += 1\n",
    "    ranking, win_num_list = get_ranking(win_num_list)\n",
    "    \n",
    "for i in ranking:\n",
    "    print(i+1)"
   ]
  },
  {
   "cell_type": "code",
   "execution_count": 229,
   "metadata": {},
   "outputs": [
    {
     "data": {
      "text/plain": [
       "([2, 0, 3, 1], [1, 0, 2, 1])"
      ]
     },
     "execution_count": 229,
     "metadata": {},
     "output_type": "execute_result"
    }
   ],
   "source": [
    "get_ranking(win_num_list)"
   ]
  },
  {
   "cell_type": "code",
   "execution_count": null,
   "metadata": {},
   "outputs": [],
   "source": []
  },
  {
   "cell_type": "code",
   "execution_count": 217,
   "metadata": {},
   "outputs": [],
   "source": [
    "win_num_list = [1, 1, 1, 1, 1, 1, 1, 1]"
   ]
  },
  {
   "cell_type": "code",
   "execution_count": 218,
   "metadata": {},
   "outputs": [],
   "source": [
    "ranking = []\n",
    "sort_a = sorted(win_num_list, reverse=True)\n",
    "for x in sort_a:\n",
    "    idx = win_num_list.index(x)\n",
    "    ranking.append(idx)\n",
    "    win_num_list[idx] = 1000"
   ]
  },
  {
   "cell_type": "code",
   "execution_count": 219,
   "metadata": {},
   "outputs": [
    {
     "data": {
      "text/plain": [
       "[0, 1, 2, 3, 4, 5, 6, 7]"
      ]
     },
     "execution_count": 219,
     "metadata": {},
     "output_type": "execute_result"
    }
   ],
   "source": [
    "ranking"
   ]
  },
  {
   "cell_type": "code",
   "execution_count": null,
   "metadata": {},
   "outputs": [],
   "source": []
  },
  {
   "cell_type": "code",
   "execution_count": 220,
   "metadata": {},
   "outputs": [
    {
     "data": {
      "text/plain": [
       "[[0, 1], [2, 3], [4, 5], [6, 7]]"
      ]
     },
     "execution_count": 220,
     "metadata": {},
     "output_type": "execute_result"
    }
   ],
   "source": [
    "vs = []\n",
    "for i in range(len(ranking)//2):\n",
    "    vs_p = ranking[i*2:(i+1)*2]\n",
    "    vs.append(vs_p)\n",
    "vs"
   ]
  },
  {
   "cell_type": "code",
   "execution_count": null,
   "metadata": {},
   "outputs": [],
   "source": []
  }
 ],
 "metadata": {
  "kernelspec": {
   "display_name": "Python 3",
   "language": "python",
   "name": "python3"
  },
  "language_info": {
   "codemirror_mode": {
    "name": "ipython",
    "version": 3
   },
   "file_extension": ".py",
   "mimetype": "text/x-python",
   "name": "python",
   "nbconvert_exporter": "python",
   "pygments_lexer": "ipython3",
   "version": "3.7.4"
  }
 },
 "nbformat": 4,
 "nbformat_minor": 4
}
