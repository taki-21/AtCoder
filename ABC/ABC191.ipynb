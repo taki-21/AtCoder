{
 "cells": [
  {
   "cell_type": "markdown",
   "id": "1f451da5-b110-43af-af10-ffe26029cb67",
   "metadata": {},
   "source": [
    "### A - Vanishing Pitch"
   ]
  },
  {
   "cell_type": "code",
   "execution_count": 3,
   "id": "3c17f5b9-509e-405f-a14b-9d57c05c67d2",
   "metadata": {},
   "outputs": [
    {
     "name": "stdin",
     "output_type": "stream",
     "text": [
      " 10 3 5 30\n"
     ]
    }
   ],
   "source": [
    "v, t, s, d = map(int, input().split())"
   ]
  },
  {
   "cell_type": "code",
   "execution_count": 4,
   "id": "94d33a09-a30f-4daf-9951-b70978d9b717",
   "metadata": {},
   "outputs": [
    {
     "name": "stdout",
     "output_type": "stream",
     "text": [
      "No\n"
     ]
    }
   ],
   "source": [
    "if v*t <= d <= v*s:\n",
    "    print('No')\n",
    "else:\n",
    "    print('Yes')"
   ]
  },
  {
   "cell_type": "code",
   "execution_count": null,
   "id": "1af07dc7-29bc-4eaf-aca3-4f836e9bebf1",
   "metadata": {},
   "outputs": [],
   "source": []
  }
 ],
 "metadata": {
  "kernelspec": {
   "display_name": "Python 3",
   "language": "python",
   "name": "python3"
  },
  "language_info": {
   "codemirror_mode": {
    "name": "ipython",
    "version": 3
   },
   "file_extension": ".py",
   "mimetype": "text/x-python",
   "name": "python",
   "nbconvert_exporter": "python",
   "pygments_lexer": "ipython3",
   "version": "3.9.4"
  }
 },
 "nbformat": 4,
 "nbformat_minor": 5
}
