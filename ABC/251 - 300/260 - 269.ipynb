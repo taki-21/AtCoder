{
 "cells": [
  {
   "cell_type": "markdown",
   "metadata": {},
   "source": [
    "# 264"
   ]
  },
  {
   "cell_type": "markdown",
   "metadata": {},
   "source": [
    "## A"
   ]
  },
  {
   "cell_type": "code",
   "execution_count": 8,
   "metadata": {},
   "outputs": [
    {
     "name": "stdin",
     "output_type": "stream",
     "text": [
      " 1 7\n"
     ]
    }
   ],
   "source": [
    "l, r = map(int, input().split())"
   ]
  },
  {
   "cell_type": "code",
   "execution_count": 9,
   "metadata": {},
   "outputs": [
    {
     "name": "stdout",
     "output_type": "stream",
     "text": [
      "atcoder\n"
     ]
    }
   ],
   "source": [
    "answer = \"atcoder\"[l-1:r]\n",
    "print(answer)"
   ]
  },
  {
   "cell_type": "markdown",
   "metadata": {},
   "source": [
    "## B"
   ]
  },
  {
   "cell_type": "code",
   "execution_count": 75,
   "metadata": {},
   "outputs": [
    {
     "name": "stdin",
     "output_type": "stream",
     "text": [
      " 14 14\n"
     ]
    }
   ],
   "source": [
    "r, c = map(int, input().split())"
   ]
  },
  {
   "cell_type": "code",
   "execution_count": 76,
   "metadata": {},
   "outputs": [],
   "source": [
    "black_dict = {}\n",
    "black_dict[1] = list(range(1, 16))\n",
    "black_dict[2] = [1, 15]\n",
    "black_dict[3] = black_dict[2] + list(range(3, 16-3+1))\n",
    "black_dict[4] = [1, 3, 13, 15]\n",
    "black_dict[5] = black_dict[4] + list(range(5, 15-5+1))\n",
    "black_dict[6] = [1, 3, 5, 11, 13, 15]\n",
    "black_dict[7] = black_dict[6] + list(range(7, 15-7+1))\n",
    "black_dict[8] = [1, 3, 5, 7, 9, 11, 13, 15]\n"
   ]
  },
  {
   "cell_type": "code",
   "execution_count": 77,
   "metadata": {},
   "outputs": [
    {
     "data": {
      "text/plain": [
       "{1: [1, 2, 3, 4, 5, 6, 7, 8, 9, 10, 11, 12, 13, 14, 15],\n",
       " 2: [1, 15],\n",
       " 3: [1, 15, 3, 4, 5, 6, 7, 8, 9, 10, 11, 12, 13],\n",
       " 4: [1, 3, 13, 15],\n",
       " 5: [1, 3, 13, 15, 5, 6, 7, 8, 9, 10],\n",
       " 6: [1, 3, 5, 11, 13, 15],\n",
       " 7: [1, 3, 5, 11, 13, 15, 7, 8],\n",
       " 8: [1, 3, 5, 7, 9, 11, 13, 15]}"
      ]
     },
     "execution_count": 77,
     "metadata": {},
     "output_type": "execute_result"
    }
   ],
   "source": [
    "black_dict"
   ]
  },
  {
   "cell_type": "code",
   "execution_count": 78,
   "metadata": {},
   "outputs": [
    {
     "name": "stdout",
     "output_type": "stream",
     "text": [
      "white\n"
     ]
    }
   ],
   "source": [
    "if r > 8:\n",
    "    r = 16 - r\n",
    "if c > 8:\n",
    "    c = 16 - c\n",
    "if c in black_dict[r]:\n",
    "    print('black')\n",
    "else:\n",
    "    print('white')"
   ]
  },
  {
   "cell_type": "code",
   "execution_count": 74,
   "metadata": {},
   "outputs": [
    {
     "ename": "SyntaxError",
     "evalue": "invalid syntax (<ipython-input-74-11235219868d>, line 1)",
     "output_type": "error",
     "traceback": [
      "\u001b[0;36m  File \u001b[0;32m\"<ipython-input-74-11235219868d>\"\u001b[0;36m, line \u001b[0;32m1\u001b[0m\n\u001b[0;31m    9 -> 7\u001b[0m\n\u001b[0m       ^\u001b[0m\n\u001b[0;31mSyntaxError\u001b[0m\u001b[0;31m:\u001b[0m invalid syntax\n"
     ]
    }
   ],
   "source": [
    "9 -> 7\n",
    "10 -> 6\n",
    "11 -> 5\n",
    "12 -> 4"
   ]
  },
  {
   "cell_type": "code",
   "execution_count": null,
   "metadata": {},
   "outputs": [],
   "source": []
  }
 ],
 "metadata": {
  "kernelspec": {
   "display_name": "Python 3",
   "language": "python",
   "name": "python3"
  },
  "language_info": {
   "codemirror_mode": {
    "name": "ipython",
    "version": 3
   },
   "file_extension": ".py",
   "mimetype": "text/x-python",
   "name": "python",
   "nbconvert_exporter": "python",
   "pygments_lexer": "ipython3",
   "version": "3.7.4"
  }
 },
 "nbformat": 4,
 "nbformat_minor": 4
}
