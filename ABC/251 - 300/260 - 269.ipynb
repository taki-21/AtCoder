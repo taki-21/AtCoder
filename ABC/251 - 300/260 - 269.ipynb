{
 "cells": [
  {
   "cell_type": "markdown",
   "metadata": {},
   "source": [
    "# 261"
   ]
  },
  {
   "cell_type": "markdown",
   "metadata": {},
   "source": [
    "### A"
   ]
  },
  {
   "cell_type": "code",
   "execution_count": 95,
   "metadata": {},
   "outputs": [
    {
     "name": "stdin",
     "output_type": "stream",
     "text": [
      " 0 3 3 7\n"
     ]
    }
   ],
   "source": [
    "L1, R1, L2, R2 = map(int, input().split())"
   ]
  },
  {
   "cell_type": "code",
   "execution_count": 97,
   "metadata": {},
   "outputs": [
    {
     "name": "stdout",
     "output_type": "stream",
     "text": [
      "0\n"
     ]
    }
   ],
   "source": [
    "result = max(0, min(R1, R2) - max(L1, L2))\n",
    "print(result)"
   ]
  },
  {
   "cell_type": "code",
   "execution_count": null,
   "metadata": {},
   "outputs": [],
   "source": []
  },
  {
   "cell_type": "code",
   "execution_count": null,
   "metadata": {},
   "outputs": [],
   "source": []
  },
  {
   "cell_type": "markdown",
   "metadata": {},
   "source": [
    "# 262"
   ]
  },
  {
   "cell_type": "markdown",
   "metadata": {},
   "source": [
    "### A"
   ]
  },
  {
   "cell_type": "code",
   "execution_count": 68,
   "metadata": {},
   "outputs": [
    {
     "name": "stdin",
     "output_type": "stream",
     "text": [
      " 4\n"
     ]
    }
   ],
   "source": [
    "y = int(input())"
   ]
  },
  {
   "cell_type": "code",
   "execution_count": 61,
   "metadata": {},
   "outputs": [],
   "source": [
    "# 6, 10, 14, 18"
   ]
  },
  {
   "cell_type": "code",
   "execution_count": 69,
   "metadata": {},
   "outputs": [
    {
     "name": "stdout",
     "output_type": "stream",
     "text": [
      "6\n"
     ]
    }
   ],
   "source": [
    "if y % 4 == 0:\n",
    "    print(y+2)\n",
    "elif y % 4 == 1:\n",
    "    print(y+1)\n",
    "elif y % 4 == 2:\n",
    "    print(y)\n",
    "elif y % 4 == 3:\n",
    "    print(y+3)"
   ]
  },
  {
   "cell_type": "markdown",
   "metadata": {},
   "source": [
    "### B"
   ]
  },
  {
   "cell_type": "code",
   "execution_count": 73,
   "metadata": {},
   "outputs": [
    {
     "name": "stdin",
     "output_type": "stream",
     "text": [
      " 5 6\n",
      " 1 5\n",
      " 4 5\n",
      " 2 3\n",
      " 1 4\n",
      " 3 5\n",
      " 2 5\n"
     ]
    }
   ],
   "source": [
    "n, m = map(int, input().split())\n",
    "uv_list = []\n",
    "for i in range(m):\n",
    "    u, v = map(int, input().split())\n",
    "    uv_list.append([u, v])"
   ]
  },
  {
   "cell_type": "code",
   "execution_count": 74,
   "metadata": {},
   "outputs": [
    {
     "data": {
      "text/plain": [
       "[[1, 5], [4, 5], [2, 3], [1, 4], [3, 5], [2, 5]]"
      ]
     },
     "execution_count": 74,
     "metadata": {},
     "output_type": "execute_result"
    }
   ],
   "source": [
    "uv_list"
   ]
  },
  {
   "cell_type": "code",
   "execution_count": 77,
   "metadata": {},
   "outputs": [],
   "source": [
    "table = {}\n",
    "for u, v in uv_list:\n",
    "    if u not in table:\n",
    "        table[u] = []\n",
    "    if v not in table:\n",
    "        table[v] = []\n",
    "    table[u].append(v)"
   ]
  },
  {
   "cell_type": "code",
   "execution_count": 78,
   "metadata": {},
   "outputs": [
    {
     "data": {
      "text/plain": [
       "{1: [5, 4], 5: [], 4: [5], 2: [3, 5], 3: [5]}"
      ]
     },
     "execution_count": 78,
     "metadata": {},
     "output_type": "execute_result"
    }
   ],
   "source": [
    "table"
   ]
  },
  {
   "cell_type": "markdown",
   "metadata": {},
   "source": [
    "---"
   ]
  },
  {
   "cell_type": "code",
   "execution_count": 79,
   "metadata": {},
   "outputs": [
    {
     "name": "stdin",
     "output_type": "stream",
     "text": [
      " 5 6\n"
     ]
    }
   ],
   "source": [
    "N, M = map(int, input().split())"
   ]
  },
  {
   "cell_type": "code",
   "execution_count": 85,
   "metadata": {},
   "outputs": [
    {
     "data": {
      "text/plain": [
       "[[False, False, False, False, False],\n",
       " [False, False, False, False, False],\n",
       " [False, False, False, False, False],\n",
       " [False, False, False, False, False],\n",
       " [False, False, False, False, False]]"
      ]
     },
     "execution_count": 85,
     "metadata": {},
     "output_type": "execute_result"
    }
   ],
   "source": [
    "edge = [[False] * N for _ in range(N)]\n",
    "edge"
   ]
  },
  {
   "cell_type": "code",
   "execution_count": 86,
   "metadata": {},
   "outputs": [
    {
     "name": "stdin",
     "output_type": "stream",
     "text": [
      " 1 5\n",
      " 4 5\n",
      " 2 3\n",
      " 1 4\n",
      " 3 5\n",
      " 2 5\n"
     ]
    }
   ],
   "source": [
    "for _ in range(M):\n",
    "    U, V = map(int, input().split())\n",
    "    U -= 1\n",
    "    V -= 1\n",
    "    edge[U][V] = True\n",
    "    edge[V][U] = True"
   ]
  },
  {
   "cell_type": "code",
   "execution_count": 87,
   "metadata": {},
   "outputs": [
    {
     "data": {
      "text/plain": [
       "[[False, False, False, True, True],\n",
       " [False, False, True, False, True],\n",
       " [False, True, False, False, True],\n",
       " [True, False, False, False, True],\n",
       " [True, True, True, True, False]]"
      ]
     },
     "execution_count": 87,
     "metadata": {},
     "output_type": "execute_result"
    }
   ],
   "source": [
    "edge"
   ]
  },
  {
   "cell_type": "code",
   "execution_count": 88,
   "metadata": {},
   "outputs": [
    {
     "name": "stdout",
     "output_type": "stream",
     "text": [
      "2\n"
     ]
    }
   ],
   "source": [
    "cnt = 0\n",
    "for a in range(N):\n",
    "    for b in range(a + 1, N):\n",
    "        for c in range(b + 1, N):\n",
    "            if edge[a][b] and edge[b][c] and edge[c][a]:\n",
    "                cnt += 1\n",
    "print(cnt)"
   ]
  },
  {
   "cell_type": "markdown",
   "metadata": {},
   "source": [
    "# 263"
   ]
  },
  {
   "cell_type": "markdown",
   "metadata": {},
   "source": [
    "### A"
   ]
  },
  {
   "cell_type": "code",
   "execution_count": 56,
   "metadata": {},
   "outputs": [
    {
     "name": "stdin",
     "output_type": "stream",
     "text": [
      " 1 1 1 2 2 \n"
     ]
    }
   ],
   "source": [
    "numbers = sorted(input().split())"
   ]
  },
  {
   "cell_type": "code",
   "execution_count": 57,
   "metadata": {},
   "outputs": [
    {
     "data": {
      "text/plain": [
       "['1', '1', '1', '2', '2']"
      ]
     },
     "execution_count": 57,
     "metadata": {},
     "output_type": "execute_result"
    }
   ],
   "source": [
    "numbers"
   ]
  },
  {
   "cell_type": "code",
   "execution_count": 58,
   "metadata": {},
   "outputs": [
    {
     "name": "stdout",
     "output_type": "stream",
     "text": [
      "Yes\n"
     ]
    }
   ],
   "source": [
    "is_ok = False\n",
    "if len(set(numbers)) == 2:\n",
    "    for i in range(len(numbers) -1):\n",
    "        if numbers[i] != numbers[i+1] and (i == 1 or i == 2):\n",
    "            print('Yes')\n",
    "            is_ok = True\n",
    "            break\n",
    "if not is_ok:\n",
    "    print('No')"
   ]
  },
  {
   "cell_type": "code",
   "execution_count": 16,
   "metadata": {},
   "outputs": [
    {
     "name": "stdout",
     "output_type": "stream",
     "text": [
      "Yes\n"
     ]
    }
   ],
   "source": [
    "length_of_number = len(set([a, b, c, d, e]))\n",
    "if length_of_number == 2:\n",
    "    print('Yes')\n",
    "else:\n",
    "    print('No')"
   ]
  },
  {
   "cell_type": "markdown",
   "metadata": {},
   "source": [
    "# 264"
   ]
  },
  {
   "cell_type": "markdown",
   "metadata": {},
   "source": [
    "## A"
   ]
  },
  {
   "cell_type": "code",
   "execution_count": 8,
   "metadata": {},
   "outputs": [
    {
     "name": "stdin",
     "output_type": "stream",
     "text": [
      " 1 7\n"
     ]
    }
   ],
   "source": [
    "l, r = map(int, input().split())"
   ]
  },
  {
   "cell_type": "code",
   "execution_count": 9,
   "metadata": {},
   "outputs": [
    {
     "name": "stdout",
     "output_type": "stream",
     "text": [
      "atcoder\n"
     ]
    }
   ],
   "source": [
    "answer = \"atcoder\"[l-1:r]\n",
    "print(answer)"
   ]
  },
  {
   "cell_type": "markdown",
   "metadata": {},
   "source": [
    "## B"
   ]
  },
  {
   "cell_type": "code",
   "execution_count": 75,
   "metadata": {},
   "outputs": [
    {
     "name": "stdin",
     "output_type": "stream",
     "text": [
      " 14 14\n"
     ]
    }
   ],
   "source": [
    "r, c = map(int, input().split())"
   ]
  },
  {
   "cell_type": "code",
   "execution_count": 76,
   "metadata": {},
   "outputs": [],
   "source": [
    "black_dict = {}\n",
    "black_dict[1] = list(range(1, 16))\n",
    "black_dict[2] = [1, 15]\n",
    "black_dict[3] = black_dict[2] + list(range(3, 16-3+1))\n",
    "black_dict[4] = [1, 3, 13, 15]\n",
    "black_dict[5] = black_dict[4] + list(range(5, 15-5+1))\n",
    "black_dict[6] = [1, 3, 5, 11, 13, 15]\n",
    "black_dict[7] = black_dict[6] + list(range(7, 15-7+1))\n",
    "black_dict[8] = [1, 3, 5, 7, 9, 11, 13, 15]\n"
   ]
  },
  {
   "cell_type": "code",
   "execution_count": 77,
   "metadata": {},
   "outputs": [
    {
     "data": {
      "text/plain": [
       "{1: [1, 2, 3, 4, 5, 6, 7, 8, 9, 10, 11, 12, 13, 14, 15],\n",
       " 2: [1, 15],\n",
       " 3: [1, 15, 3, 4, 5, 6, 7, 8, 9, 10, 11, 12, 13],\n",
       " 4: [1, 3, 13, 15],\n",
       " 5: [1, 3, 13, 15, 5, 6, 7, 8, 9, 10],\n",
       " 6: [1, 3, 5, 11, 13, 15],\n",
       " 7: [1, 3, 5, 11, 13, 15, 7, 8],\n",
       " 8: [1, 3, 5, 7, 9, 11, 13, 15]}"
      ]
     },
     "execution_count": 77,
     "metadata": {},
     "output_type": "execute_result"
    }
   ],
   "source": [
    "black_dict"
   ]
  },
  {
   "cell_type": "code",
   "execution_count": 78,
   "metadata": {},
   "outputs": [
    {
     "name": "stdout",
     "output_type": "stream",
     "text": [
      "white\n"
     ]
    }
   ],
   "source": [
    "if r > 8:\n",
    "    r = 16 - r\n",
    "if c > 8:\n",
    "    c = 16 - c\n",
    "if c in black_dict[r]:\n",
    "    print('black')\n",
    "else:\n",
    "    print('white')"
   ]
  },
  {
   "cell_type": "code",
   "execution_count": 81,
   "metadata": {},
   "outputs": [],
   "source": [
    "r = abs(8 - r)\n",
    "c = abs(8 - c)\n",
    "distance = max(r, c)"
   ]
  },
  {
   "cell_type": "code",
   "execution_count": 84,
   "metadata": {},
   "outputs": [
    {
     "name": "stdout",
     "output_type": "stream",
     "text": [
      "white\n"
     ]
    }
   ],
   "source": [
    "if distance % 2 == 0:\n",
    "    print('white')\n",
    "else:\n",
    "    print('black')"
   ]
  },
  {
   "cell_type": "code",
   "execution_count": null,
   "metadata": {},
   "outputs": [],
   "source": []
  },
  {
   "cell_type": "code",
   "execution_count": null,
   "metadata": {},
   "outputs": [],
   "source": []
  }
 ],
 "metadata": {
  "kernelspec": {
   "display_name": "Python 3",
   "language": "python",
   "name": "python3"
  },
  "language_info": {
   "codemirror_mode": {
    "name": "ipython",
    "version": 3
   },
   "file_extension": ".py",
   "mimetype": "text/x-python",
   "name": "python",
   "nbconvert_exporter": "python",
   "pygments_lexer": "ipython3",
   "version": "3.7.4"
  }
 },
 "nbformat": 4,
 "nbformat_minor": 4
}
