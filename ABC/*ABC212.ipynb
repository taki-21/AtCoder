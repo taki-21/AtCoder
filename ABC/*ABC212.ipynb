{
 "cells": [
  {
   "cell_type": "code",
   "execution_count": 9,
   "metadata": {},
   "outputs": [
    {
     "name": "stdin",
     "output_type": "stream",
     "text": [
      " 0112\n"
     ]
    }
   ],
   "source": [
    "num_list = list(map(int, list(input())))"
   ]
  },
  {
   "cell_type": "code",
   "execution_count": null,
   "metadata": {},
   "outputs": [],
   "source": []
  },
  {
   "cell_type": "code",
   "execution_count": null,
   "metadata": {},
   "outputs": [],
   "source": []
  },
  {
   "cell_type": "code",
   "execution_count": null,
   "metadata": {},
   "outputs": [],
   "source": []
  },
  {
   "cell_type": "code",
   "execution_count": 8,
   "metadata": {},
   "outputs": [
    {
     "data": {
      "text/plain": [
       "[7, 7, 7, 7]"
      ]
     },
     "execution_count": 8,
     "metadata": {},
     "output_type": "execute_result"
    }
   ],
   "source": [
    "num_list"
   ]
  },
  {
   "cell_type": "code",
   "execution_count": 10,
   "metadata": {},
   "outputs": [
    {
     "name": "stdout",
     "output_type": "stream",
     "text": [
      "Weak\n",
      "Strong\n"
     ]
    }
   ],
   "source": [
    "if len(set(num_list)) == 1:\n",
    "    print('Weak')\n",
    "    exit()\n",
    "else:\n",
    "    ng = 0\n",
    "    for i in range(1, 4):\n",
    "        if num_list[i] == num_list[i-1] + 1:\n",
    "            ng += 1\n",
    "        elif num_list[i] == num_list[i-1] - 9:\n",
    "            ng += 1\n",
    "    if ng == 3:\n",
    "        print('Weak')\n",
    "    else:\n",
    "        print('Strong')"
   ]
  },
  {
   "cell_type": "code",
   "execution_count": null,
   "metadata": {},
   "outputs": [],
   "source": []
  },
  {
   "cell_type": "code",
   "execution_count": 9,
   "metadata": {},
   "outputs": [],
   "source": [
    "import numpy as np"
   ]
  },
  {
   "cell_type": "code",
   "execution_count": 29,
   "metadata": {},
   "outputs": [
    {
     "name": "stdin",
     "output_type": "stream",
     "text": [
      " 6 8\n",
      " 82 76 82 82 71 70\n",
      " 17 39 67 2 45 35 22 24\n"
     ]
    }
   ],
   "source": [
    "n, m = map(int, input().split())\n",
    "a_list = list(map(int, input().split()))\n",
    "b_list = list(map(int, input().split()))"
   ]
  },
  {
   "cell_type": "code",
   "execution_count": 23,
   "metadata": {},
   "outputs": [],
   "source": [
    "# a_sort = sorted(a_list)\n",
    "# a_sort = [1] + a_sort\n",
    "# for i in a_sort:\n",
    "#     print(i)\n",
    "    "
   ]
  },
  {
   "cell_type": "code",
   "execution_count": 30,
   "metadata": {},
   "outputs": [
    {
     "name": "stdout",
     "output_type": "stream",
     "text": [
      "3\n"
     ]
    }
   ],
   "source": [
    "a_array = np.array(a_list)\n",
    "ans = float('inf')\n",
    "for i in range(m):\n",
    "    mn = min(abs(a_array - b_list[i]))\n",
    "    if mn < ans:\n",
    "        ans = mn\n",
    "print(ans)"
   ]
  },
  {
   "cell_type": "code",
   "execution_count": 18,
   "metadata": {},
   "outputs": [
    {
     "data": {
      "text/plain": [
       "0"
      ]
     },
     "execution_count": 18,
     "metadata": {},
     "output_type": "execute_result"
    }
   ],
   "source": [
    "min(abs(a_array - 4))"
   ]
  },
  {
   "cell_type": "code",
   "execution_count": 31,
   "metadata": {},
   "outputs": [],
   "source": [
    "temp = [0] * 10**9"
   ]
  },
  {
   "cell_type": "code",
   "execution_count": 34,
   "metadata": {},
   "outputs": [],
   "source": [
    "for i in a_list:\n",
    "    temp[i] += 1\n",
    "for i in b_list:\n",
    "    temp[i] += 5\n",
    "# temp "
   ]
  },
  {
   "cell_type": "code",
   "execution_count": 35,
   "metadata": {},
   "outputs": [],
   "source": [
    "a_sort = sorted(a_list)\n",
    "b_sort = sorted(b_list)"
   ]
  },
  {
   "cell_type": "code",
   "execution_count": 36,
   "metadata": {},
   "outputs": [
    {
     "data": {
      "text/plain": [
       "[70, 71, 76, 82, 82, 82]"
      ]
     },
     "execution_count": 36,
     "metadata": {},
     "output_type": "execute_result"
    }
   ],
   "source": [
    "a_sort"
   ]
  },
  {
   "cell_type": "code",
   "execution_count": 37,
   "metadata": {},
   "outputs": [
    {
     "data": {
      "text/plain": [
       "[2, 17, 22, 24, 35, 39, 45, 67]"
      ]
     },
     "execution_count": 37,
     "metadata": {},
     "output_type": "execute_result"
    }
   ],
   "source": [
    "b_sort"
   ]
  },
  {
   "cell_type": "code",
   "execution_count": null,
   "metadata": {},
   "outputs": [],
   "source": [
    "a_idx = 0\n",
    "ans = float('inf')\n",
    "for b in b_sort:\n",
    "    if b > a_sort[a_idx]:\n",
    "        num = abs(b - a_sort[a_idx])\n",
    "        if mn < ans:\n",
    "            ans = mn\n",
    "        pass\n",
    "    if num = abs(b - a_sort[a_idx])\n",
    "        if mn < ans:\n",
    "            ans = mn"
   ]
  },
  {
   "cell_type": "markdown",
   "metadata": {},
   "source": [
    "---------"
   ]
  },
  {
   "cell_type": "markdown",
   "metadata": {},
   "source": [
    "### C"
   ]
  },
  {
   "cell_type": "code",
   "execution_count": 7,
   "metadata": {},
   "outputs": [
    {
     "name": "stdin",
     "output_type": "stream",
     "text": [
      " 6 8\n"
     ]
    }
   ],
   "source": [
    "n, m = map(int, input().split())"
   ]
  },
  {
   "cell_type": "code",
   "execution_count": 8,
   "metadata": {},
   "outputs": [
    {
     "name": "stdin",
     "output_type": "stream",
     "text": [
      " 82 76 82 82 71 70\n",
      " 17 39 67 2 45 35 22 24\n"
     ]
    }
   ],
   "source": [
    "a_list = list(map(int, input().split()))\n",
    "b_list = list(map(int, input().split()))"
   ]
  },
  {
   "cell_type": "code",
   "execution_count": 9,
   "metadata": {},
   "outputs": [],
   "source": [
    "a_list_sort = sorted(a_list)\n",
    "b_list_sort = sorted(b_list)"
   ]
  },
  {
   "cell_type": "code",
   "execution_count": 10,
   "metadata": {},
   "outputs": [
    {
     "data": {
      "text/plain": [
       "[70, 71, 76, 82, 82, 82]"
      ]
     },
     "execution_count": 10,
     "metadata": {},
     "output_type": "execute_result"
    }
   ],
   "source": [
    "a_list_sort"
   ]
  },
  {
   "cell_type": "code",
   "execution_count": 11,
   "metadata": {},
   "outputs": [
    {
     "data": {
      "text/plain": [
       "[2, 17, 22, 24, 35, 39, 45, 67]"
      ]
     },
     "execution_count": 11,
     "metadata": {},
     "output_type": "execute_result"
    }
   ],
   "source": [
    "b_list_sort"
   ]
  },
  {
   "cell_type": "code",
   "execution_count": 20,
   "metadata": {},
   "outputs": [
    {
     "name": "stdout",
     "output_type": "stream",
     "text": [
      "a_idx:  0\n",
      "b_idx:  1\n",
      "=============\n",
      "a_idx:  0\n",
      "b_idx:  2\n",
      "=============\n",
      "a_idx:  0\n",
      "b_idx:  3\n",
      "=============\n",
      "a_idx:  0\n",
      "b_idx:  4\n",
      "=============\n",
      "a_idx:  0\n",
      "b_idx:  5\n",
      "=============\n",
      "a_idx:  0\n",
      "b_idx:  6\n",
      "=============\n",
      "a_idx:  0\n",
      "b_idx:  7\n",
      "=============\n",
      "a_idx:  0\n",
      "b_idx:  8\n",
      "=============\n"
     ]
    },
    {
     "data": {
      "text/plain": [
       "3"
      ]
     },
     "execution_count": 20,
     "metadata": {},
     "output_type": "execute_result"
    }
   ],
   "source": [
    "a_idx = 0\n",
    "b_idx = 0\n",
    "ans = float('inf')\n",
    "while a_idx <= len(a_list)-1 and b_idx <= len(b_list)-1:\n",
    "    mn = abs(a_list_sort[a_idx] - b_list_sort[b_idx])\n",
    "    if mn < ans:\n",
    "        ans = mn\n",
    "    if a_list_sort[a_idx] == b_list_sort[b_idx]:\n",
    "        ans = 0\n",
    "        break\n",
    "    elif a_list_sort[a_idx] < b_list_sort[b_idx]:\n",
    "        a_idx += 1\n",
    "    else:\n",
    "        b_idx += 1\n",
    "print(ans)"
   ]
  },
  {
   "cell_type": "code",
   "execution_count": null,
   "metadata": {},
   "outputs": [],
   "source": []
  }
 ],
 "metadata": {
  "kernelspec": {
   "display_name": "Python 3",
   "language": "python",
   "name": "python3"
  },
  "language_info": {
   "codemirror_mode": {
    "name": "ipython",
    "version": 3
   },
   "file_extension": ".py",
   "mimetype": "text/x-python",
   "name": "python",
   "nbconvert_exporter": "python",
   "pygments_lexer": "ipython3",
   "version": "3.7.4"
  }
 },
 "nbformat": 4,
 "nbformat_minor": 5
}
