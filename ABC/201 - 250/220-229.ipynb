{
 "cells": [
  {
   "cell_type": "markdown",
   "metadata": {},
   "source": [
    "# 224"
   ]
  },
  {
   "cell_type": "markdown",
   "metadata": {},
   "source": [
    "### A"
   ]
  },
  {
   "cell_type": "code",
   "execution_count": 5,
   "metadata": {},
   "outputs": [
    {
     "name": "stdin",
     "output_type": "stream",
     "text": [
      " er\n"
     ]
    }
   ],
   "source": [
    "s = input()"
   ]
  },
  {
   "cell_type": "code",
   "execution_count": 6,
   "metadata": {},
   "outputs": [
    {
     "name": "stdout",
     "output_type": "stream",
     "text": [
      "er\n"
     ]
    }
   ],
   "source": [
    "if s[-3:] == \"ist\":\n",
    "    print(\"ist\")\n",
    "elif s[-2:] == \"er\":\n",
    "    print(\"er\")"
   ]
  },
  {
   "cell_type": "markdown",
   "metadata": {},
   "source": [
    "### B"
   ]
  },
  {
   "cell_type": "code",
   "execution_count": null,
   "metadata": {},
   "outputs": [],
   "source": [
    "h, w = map(int, input().split())\n",
    "h_w_list = []\n",
    "for _ in range(w):\n",
    "    row = list(map(int, input().split()))\n",
    "    h_w_list.append(row)"
   ]
  },
  {
   "cell_type": "code",
   "execution_count": null,
   "metadata": {},
   "outputs": [],
   "source": [
    "ans = \"Yes\"\n",
    "for i_1 in range(1, w):\n",
    "    for i_2 in range(i+1, w+1):\n",
    "        for j_1 in range(1, h):\n",
    "            for j_2 in range(k+1, h+1):\n",
    "                left = h_w_list[i_1-1][j_1-1] +  h_w_list[i_2-1][j_2-1]\n",
    "                right = h_w_list[i_2-1][j_1-1] +  h_w_list[i_1-1][j_2-1]\n",
    "                if left <= right:\n",
    "                    pass\n",
    "                else:\n",
    "                    ans = 'No'\n",
    "                    break\n",
    "print(ans)"
   ]
  },
  {
   "cell_type": "code",
   "execution_count": null,
   "metadata": {},
   "outputs": [],
   "source": []
  },
  {
   "cell_type": "markdown",
   "metadata": {},
   "source": [
    "# 225"
   ]
  },
  {
   "cell_type": "markdown",
   "metadata": {},
   "source": [
    "### A"
   ]
  },
  {
   "cell_type": "code",
   "execution_count": 10,
   "metadata": {},
   "outputs": [
    {
     "name": "stdin",
     "output_type": "stream",
     "text": [
      " xxe\n"
     ]
    }
   ],
   "source": [
    "s = input()"
   ]
  },
  {
   "cell_type": "code",
   "execution_count": 11,
   "metadata": {},
   "outputs": [
    {
     "name": "stdout",
     "output_type": "stream",
     "text": [
      "3\n"
     ]
    }
   ],
   "source": [
    "set_len = len(set(s))\n",
    "if set_len == 2:\n",
    "    ans = 3\n",
    "elif set_len == 1:\n",
    "    ans = 1\n",
    "elif set_len == 3:\n",
    "    ans = 6\n",
    "print(ans)"
   ]
  },
  {
   "cell_type": "markdown",
   "metadata": {},
   "source": [
    "### B"
   ]
  },
  {
   "cell_type": "code",
   "execution_count": 23,
   "metadata": {},
   "outputs": [
    {
     "name": "stdin",
     "output_type": "stream",
     "text": [
      " 5\n",
      " 1 4\n",
      " 2 4\n",
      " 3 4\n",
      " 4 5\n"
     ]
    }
   ],
   "source": [
    "n = int(input())\n",
    "a_b_list = []\n",
    "for _ in range(n-1):\n",
    "    a, b = map(int, input().split())\n",
    "    a_b_list.append([a, b])"
   ]
  },
  {
   "cell_type": "code",
   "execution_count": 67,
   "metadata": {},
   "outputs": [
    {
     "data": {
      "text/plain": [
       "4"
      ]
     },
     "execution_count": 67,
     "metadata": {},
     "output_type": "execute_result"
    }
   ],
   "source": [
    "common_num = list(set(a_b_list[0]) & set(a_b_list[1]))[0]\n",
    "common_num"
   ]
  },
  {
   "cell_type": "code",
   "execution_count": 71,
   "metadata": {},
   "outputs": [
    {
     "data": {
      "text/plain": [
       "[1, 2, 3, 5]"
      ]
     },
     "execution_count": 71,
     "metadata": {},
     "output_type": "execute_result"
    }
   ],
   "source": [
    "all_num = list(range(1, n+1))\n",
    "all_num.pop(common_num-1)\n",
    "all_num\n",
    "# all_num.index(common_num)"
   ]
  },
  {
   "cell_type": "code",
   "execution_count": 47,
   "metadata": {},
   "outputs": [
    {
     "name": "stdout",
     "output_type": "stream",
     "text": [
      "[1, 4]\n",
      "[1, 2, 3, 4, 5]\n",
      "[2, 4]\n",
      "[2, 3, 4, 5]\n",
      "[3, 4]\n",
      "[3, 4, 5]\n",
      "[4, 5]\n",
      "[4, 5]\n",
      "Yes\n"
     ]
    }
   ],
   "source": [
    "ans = 'Yes'\n",
    "for ab in a_b_list:\n",
    "    if common_num in ab:\n",
    "        other_num = sum(ab) - common_num\n",
    "        if other_num in all_num:\n",
    "            all_num.pop(all_num.index(other_num))\n",
    "        else:\n",
    "            ans = 'No'\n",
    "            break\n",
    "    else:\n",
    "        ans = 'No'\n",
    "        break\n",
    "print(ans)"
   ]
  },
  {
   "cell_type": "code",
   "execution_count": null,
   "metadata": {},
   "outputs": [],
   "source": []
  }
 ],
 "metadata": {
  "kernelspec": {
   "display_name": "Python 3",
   "language": "python",
   "name": "python3"
  },
  "language_info": {
   "codemirror_mode": {
    "name": "ipython",
    "version": 3
   },
   "file_extension": ".py",
   "mimetype": "text/x-python",
   "name": "python",
   "nbconvert_exporter": "python",
   "pygments_lexer": "ipython3",
   "version": "3.7.4"
  }
 },
 "nbformat": 4,
 "nbformat_minor": 4
}
