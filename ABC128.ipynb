{
 "cells": [
  {
   "cell_type": "markdown",
   "id": "informational-booth",
   "metadata": {},
   "source": [
    "### A - Apple Pie"
   ]
  },
  {
   "cell_type": "code",
   "execution_count": 5,
   "id": "framed-convertible",
   "metadata": {},
   "outputs": [
    {
     "name": "stdin",
     "output_type": "stream",
     "text": [
      " 32 21\n"
     ]
    }
   ],
   "source": [
    "A, P = map(int, input().split())"
   ]
  },
  {
   "cell_type": "code",
   "execution_count": 6,
   "id": "opening-constraint",
   "metadata": {},
   "outputs": [
    {
     "name": "stdout",
     "output_type": "stream",
     "text": [
      "58\n"
     ]
    }
   ],
   "source": [
    "ans = (A * 3 + P) // 2\n",
    "print(ans)"
   ]
  },
  {
   "cell_type": "markdown",
   "id": "enormous-bryan",
   "metadata": {},
   "source": [
    "### B - Guidebook"
   ]
  },
  {
   "cell_type": "code",
   "execution_count": 8,
   "id": "spread-manitoba",
   "metadata": {},
   "outputs": [
    {
     "name": "stdin",
     "output_type": "stream",
     "text": [
      " 6\n"
     ]
    }
   ],
   "source": [
    "N = int(input())"
   ]
  },
  {
   "cell_type": "code",
   "execution_count": 13,
   "id": "medieval-virgin",
   "metadata": {},
   "outputs": [
    {
     "name": "stdin",
     "output_type": "stream",
     "text": [
      " khabarovsk 20\n",
      " moscow 10\n",
      " kazan 50\n",
      " kazan 35\n",
      " moscow 60\n",
      " khabarovsk 40\n"
     ]
    }
   ],
   "source": [
    "restaurant_list = [input().split() for _ in range(N)]"
   ]
  },
  {
   "cell_type": "code",
   "execution_count": 14,
   "id": "bridal-shadow",
   "metadata": {},
   "outputs": [
    {
     "data": {
      "text/plain": [
       "[['khabarovsk', '20'],\n",
       " ['moscow', '10'],\n",
       " ['kazan', '50'],\n",
       " ['kazan', '35'],\n",
       " ['moscow', '60'],\n",
       " ['khabarovsk', '40']]"
      ]
     },
     "execution_count": 14,
     "metadata": {},
     "output_type": "execute_result"
    }
   ],
   "source": []
  },
  {
   "cell_type": "code",
   "execution_count": 25,
   "id": "complete-attention",
   "metadata": {},
   "outputs": [
    {
     "data": {
      "text/plain": [
       "[['kazan', '35'],\n",
       " ['kazan', '50'],\n",
       " ['khabarovsk', '20'],\n",
       " ['khabarovsk', '40'],\n",
       " ['moscow', '10'],\n",
       " ['moscow', '60']]"
      ]
     },
     "execution_count": 25,
     "metadata": {},
     "output_type": "execute_result"
    }
   ],
   "source": [
    "sorted(restaurant_list)"
   ]
  },
  {
   "cell_type": "code",
   "execution_count": 22,
   "id": "geographic-penny",
   "metadata": {},
   "outputs": [],
   "source": [
    "rank = sorted(restaurant_list, key=lambda x:)"
   ]
  },
  {
   "cell_type": "code",
   "execution_count": null,
   "id": "bigger-jungle",
   "metadata": {},
   "outputs": [],
   "source": []
  },
  {
   "cell_type": "code",
   "execution_count": null,
   "id": "civilian-ready",
   "metadata": {},
   "outputs": [],
   "source": []
  },
  {
   "cell_type": "code",
   "execution_count": 33,
   "id": "changing-variance",
   "metadata": {},
   "outputs": [],
   "source": [
    "a = [4, 3, 5, 2, 8, 6, 1]\n",
    "b = sorted(a, reverse=True)"
   ]
  },
  {
   "cell_type": "code",
   "execution_count": 35,
   "id": "constant-setup",
   "metadata": {},
   "outputs": [
    {
     "data": {
      "text/plain": [
       "[4, 3, 5, 2, 8, 6, 1]"
      ]
     },
     "execution_count": 35,
     "metadata": {},
     "output_type": "execute_result"
    }
   ],
   "source": [
    "b\n",
    "a"
   ]
  },
  {
   "cell_type": "code",
   "execution_count": 36,
   "id": "constant-detail",
   "metadata": {},
   "outputs": [],
   "source": [
    "a = [1, -3, 2]"
   ]
  },
  {
   "cell_type": "code",
   "execution_count": 37,
   "id": "later-albania",
   "metadata": {},
   "outputs": [],
   "source": [
    "b = sorted(a, key=abs)\n",
    "# absに()はいらない\n",
    "# keyに指定する関数は比較の際に使われるのみで結果の要素の値はそのまま\n",
    "\n"
   ]
  },
  {
   "cell_type": "code",
   "execution_count": 39,
   "id": "infinite-wiring",
   "metadata": {},
   "outputs": [
    {
     "data": {
      "text/plain": [
       "[1, 2, -3]"
      ]
     },
     "execution_count": 39,
     "metadata": {},
     "output_type": "execute_result"
    }
   ],
   "source": [
    "b"
   ]
  },
  {
   "cell_type": "code",
   "execution_count": 43,
   "id": "centered-france",
   "metadata": {},
   "outputs": [
    {
     "data": {
      "text/plain": [
       "-3"
      ]
     },
     "execution_count": 43,
     "metadata": {},
     "output_type": "execute_result"
    }
   ],
   "source": [
    "max(b, key=abs)"
   ]
  },
  {
   "cell_type": "code",
   "execution_count": 45,
   "id": "bridal-penalty",
   "metadata": {},
   "outputs": [
    {
     "data": {
      "text/plain": [
       "1"
      ]
     },
     "execution_count": 45,
     "metadata": {},
     "output_type": "execute_result"
    }
   ],
   "source": [
    "min(b, key=abs)"
   ]
  },
  {
   "cell_type": "code",
   "execution_count": 3,
   "id": "demanding-columbus",
   "metadata": {},
   "outputs": [],
   "source": [
    "l_str = ['bbb', 'c', 'aa']"
   ]
  },
  {
   "cell_type": "code",
   "execution_count": 4,
   "id": "australian-composition",
   "metadata": {},
   "outputs": [
    {
     "data": {
      "text/plain": [
       "['bbb', 'c', 'aa']"
      ]
     },
     "execution_count": 4,
     "metadata": {},
     "output_type": "execute_result"
    }
   ],
   "source": [
    "l_str"
   ]
  },
  {
   "cell_type": "code",
   "execution_count": 5,
   "id": "blind-absorption",
   "metadata": {},
   "outputs": [
    {
     "data": {
      "text/plain": [
       "['aa', 'bbb', 'c']"
      ]
     },
     "execution_count": 5,
     "metadata": {},
     "output_type": "execute_result"
    }
   ],
   "source": [
    "sorted(l_str)"
   ]
  },
  {
   "cell_type": "code",
   "execution_count": 7,
   "id": "cognitive-breeding",
   "metadata": {},
   "outputs": [
    {
     "data": {
      "text/plain": [
       "['c', 'aa', 'bbb']"
      ]
     },
     "execution_count": 7,
     "metadata": {},
     "output_type": "execute_result"
    }
   ],
   "source": [
    "sorted(l_str, key=len)"
   ]
  },
  {
   "cell_type": "code",
   "execution_count": 10,
   "id": "sonic-nowhere",
   "metadata": {},
   "outputs": [
    {
     "data": {
      "text/plain": [
       "[-39, 1, 12, 21, 34, 81]"
      ]
     },
     "execution_count": 10,
     "metadata": {},
     "output_type": "execute_result"
    }
   ],
   "source": [
    "li = [1, -39, 12, 34, 21, 81]\n",
    "sorted(li)"
   ]
  },
  {
   "cell_type": "code",
   "execution_count": 11,
   "id": "vietnamese-dancing",
   "metadata": {},
   "outputs": [
    {
     "data": {
      "text/plain": [
       "[1, 12, 21, 34, -39, 81]"
      ]
     },
     "execution_count": 11,
     "metadata": {},
     "output_type": "execute_result"
    }
   ],
   "source": [
    "sorted(li, key=abs)"
   ]
  },
  {
   "cell_type": "code",
   "execution_count": 12,
   "id": "surprising-motel",
   "metadata": {},
   "outputs": [],
   "source": [
    "l = [1, -3, 2]"
   ]
  },
  {
   "cell_type": "code",
   "execution_count": 15,
   "id": "olive-lawsuit",
   "metadata": {},
   "outputs": [
    {
     "data": {
      "text/plain": [
       "-3"
      ]
     },
     "execution_count": 15,
     "metadata": {},
     "output_type": "execute_result"
    }
   ],
   "source": [
    "max(l, key=abs)"
   ]
  },
  {
   "cell_type": "code",
   "execution_count": 16,
   "id": "european-forge",
   "metadata": {},
   "outputs": [],
   "source": [
    "l_2d = [[2, 10], [1, -30], [-3, 20]]"
   ]
  },
  {
   "cell_type": "code",
   "execution_count": 20,
   "id": "employed-dimension",
   "metadata": {},
   "outputs": [
    {
     "data": {
      "text/plain": [
       "[[1, -30], [-3, 20], [2, 10]]"
      ]
     },
     "execution_count": 20,
     "metadata": {},
     "output_type": "execute_result"
    }
   ],
   "source": [
    "sorted(l_2d, key=min)"
   ]
  },
  {
   "cell_type": "code",
   "execution_count": 21,
   "id": "orange-spouse",
   "metadata": {},
   "outputs": [
    {
     "data": {
      "text/plain": [
       "[[2, 10], [1, -30], [-3, 20]]"
      ]
     },
     "execution_count": 21,
     "metadata": {},
     "output_type": "execute_result"
    }
   ],
   "source": [
    "sorted(l_2d, key=lambda x: max([abs(i) for i in x]))"
   ]
  },
  {
   "cell_type": "code",
   "execution_count": 23,
   "id": "alien-marine",
   "metadata": {},
   "outputs": [
    {
     "name": "stdin",
     "output_type": "stream",
     "text": [
      " 6\n",
      " khabarovsk 20\n",
      " moscow 10\n",
      " kazan 50\n",
      " kazan 35\n",
      " moscow 60\n",
      " khabarovsk 40\n"
     ]
    }
   ],
   "source": [
    "n = int(input())\n",
    "r = [input().split() for _ in range(n)]"
   ]
  },
  {
   "cell_type": "code",
   "execution_count": 24,
   "id": "framed-review",
   "metadata": {},
   "outputs": [
    {
     "data": {
      "text/plain": [
       "6"
      ]
     },
     "execution_count": 24,
     "metadata": {},
     "output_type": "execute_result"
    }
   ],
   "source": [
    "n"
   ]
  },
  {
   "cell_type": "code",
   "execution_count": 31,
   "id": "robust-gravity",
   "metadata": {},
   "outputs": [
    {
     "data": {
      "text/plain": [
       "[['khabarovsk', '20'],\n",
       " ['moscow', '10'],\n",
       " ['kazan', '50'],\n",
       " ['kazan', '35'],\n",
       " ['moscow', '60'],\n",
       " ['khabarovsk', '40']]"
      ]
     },
     "execution_count": 31,
     "metadata": {},
     "output_type": "execute_result"
    }
   ],
   "source": []
  },
  {
   "cell_type": "code",
   "execution_count": 29,
   "id": "declared-bulgarian",
   "metadata": {},
   "outputs": [],
   "source": [
    "r_rank = sorted(r, key=lambda x: (x[0], -int(x[1])))"
   ]
  },
  {
   "cell_type": "code",
   "execution_count": 30,
   "id": "difficult-posting",
   "metadata": {},
   "outputs": [
    {
     "data": {
      "text/plain": [
       "[['kazan', '50'],\n",
       " ['kazan', '35'],\n",
       " ['khabarovsk', '40'],\n",
       " ['khabarovsk', '20'],\n",
       " ['moscow', '60'],\n",
       " ['moscow', '10']]"
      ]
     },
     "execution_count": 30,
     "metadata": {},
     "output_type": "execute_result"
    }
   ],
   "source": [
    "r_rank"
   ]
  },
  {
   "cell_type": "code",
   "execution_count": 36,
   "id": "catholic-relaxation",
   "metadata": {},
   "outputs": [
    {
     "name": "stdout",
     "output_type": "stream",
     "text": [
      "3\n",
      "4\n",
      "6\n",
      "1\n",
      "5\n",
      "2\n"
     ]
    }
   ],
   "source": [
    "for a in r_rank:\n",
    "    print(r.index(a)+1)"
   ]
  },
  {
   "cell_type": "code",
   "execution_count": 37,
   "id": "social-creature",
   "metadata": {},
   "outputs": [
    {
     "data": {
      "text/plain": [
       "5"
      ]
     },
     "execution_count": 37,
     "metadata": {},
     "output_type": "execute_result"
    }
   ],
   "source": [
    "l = [1, 5, 1, 2, 3, 14, 2, 9]\n",
    "l.index(max(l))"
   ]
  },
  {
   "cell_type": "code",
   "execution_count": null,
   "id": "fatty-virginia",
   "metadata": {},
   "outputs": [],
   "source": [
    "n = int(input())\n",
    "r = [input().split() for _ in range(n)]\n",
    "\n",
    "r_rank = sorted(r, key=lambda x: (x[0], -int(x[1])))\n",
    "for a in r_rank:\n",
    "    print(r.index(a)+1)"
   ]
  }
 ],
 "metadata": {
  "kernelspec": {
   "display_name": "Python 3",
   "language": "python",
   "name": "python3"
  },
  "language_info": {
   "codemirror_mode": {
    "name": "ipython",
    "version": 3
   },
   "file_extension": ".py",
   "mimetype": "text/x-python",
   "name": "python",
   "nbconvert_exporter": "python",
   "pygments_lexer": "ipython3",
   "version": "3.8.8"
  }
 },
 "nbformat": 4,
 "nbformat_minor": 5
}
