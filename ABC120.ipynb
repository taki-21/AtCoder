{
 "cells": [
  {
   "cell_type": "markdown",
   "id": "material-information",
   "metadata": {},
   "source": [
    "### A - Favorite Sound"
   ]
  },
  {
   "cell_type": "code",
   "execution_count": 17,
   "id": "secret-tooth",
   "metadata": {},
   "outputs": [
    {
     "name": "stdin",
     "output_type": "stream",
     "text": [
      " 100 1 10\n"
     ]
    }
   ],
   "source": [
    "a, b, c = map(int, input().split())"
   ]
  },
  {
   "cell_type": "code",
   "execution_count": 18,
   "id": "elect-crest",
   "metadata": {},
   "outputs": [
    {
     "name": "stdout",
     "output_type": "stream",
     "text": [
      "0\n"
     ]
    }
   ],
   "source": [
    "result = b // a\n",
    "if result > c:\n",
    "    result = c\n",
    "print(result)"
   ]
  },
  {
   "cell_type": "markdown",
   "id": "drawn-concert",
   "metadata": {},
   "source": [
    "### B - K-th Common Divisor"
   ]
  },
  {
   "cell_type": "code",
   "execution_count": 20,
   "id": "ignored-percentage",
   "metadata": {},
   "outputs": [
    {
     "name": "stdin",
     "output_type": "stream",
     "text": [
      " 100 50 4\n"
     ]
    }
   ],
   "source": [
    "a, b, k = map(int, input().split())"
   ]
  },
  {
   "cell_type": "code",
   "execution_count": 22,
   "id": "turned-script",
   "metadata": {},
   "outputs": [
    {
     "name": "stdout",
     "output_type": "stream",
     "text": [
      "[1, 2, 5, 10, 25, 50]\n",
      "5\n"
     ]
    }
   ],
   "source": [
    "common_divisor = []\n",
    "for i in range(1, max(a, b)+1):\n",
    "    if (a % i == 0) and (b % i == 0):\n",
    "        common_divisor.append(i)\n",
    "\n",
    "print(common_divisor[-k])"
   ]
  },
  {
   "cell_type": "markdown",
   "id": "frequent-chaos",
   "metadata": {},
   "source": [
    "### C - Unification"
   ]
  },
  {
   "cell_type": "code",
   "execution_count": null,
   "id": "traditional-advancement",
   "metadata": {},
   "outputs": [],
   "source": []
  }
 ],
 "metadata": {
  "kernelspec": {
   "display_name": "Python 3",
   "language": "python",
   "name": "python3"
  },
  "language_info": {
   "codemirror_mode": {
    "name": "ipython",
    "version": 3
   },
   "file_extension": ".py",
   "mimetype": "text/x-python",
   "name": "python",
   "nbconvert_exporter": "python",
   "pygments_lexer": "ipython3",
   "version": "3.8.8"
  }
 },
 "nbformat": 4,
 "nbformat_minor": 5
}
